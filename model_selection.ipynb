{
 "cells": [
  {
   "cell_type": "code",
   "execution_count": 1,
   "metadata": {},
   "outputs": [],
   "source": [
    "# imports\n",
    "import os\n",
    "import pandas as pd\n",
    "import numpy as np\n",
    "from pathlib import Path\n",
    "from sklearn.ensemble import BaggingClassifier\n",
    "from sklearn.tree import DecisionTreeClassifier\n",
    "from sklearn.ensemble import RandomForestClassifier\n",
    "from sklearn.ensemble import HistGradientBoostingClassifier\n",
    "from sklearn.ensemble import AdaBoostClassifier\n",
    "from sklearn.neural_network import MLPClassifier\n",
    "import pickle\n",
    "from sklearn.metrics import roc_auc_score, average_precision_score\n",
    "import optuna\n",
    "import deslib.des.knora_u as des\n",
    "import deslib.des.des_p as desp\n",
    "import lightgbm as lgb"
   ]
  },
  {
   "cell_type": "code",
   "execution_count": 80,
   "metadata": {},
   "outputs": [],
   "source": [
    "# pathing\n",
    "path = Path(os.path.abspath(''))\n",
    "data_path = path.resolve()/'data'\n",
    "model_path = path.resolve()/'data/models'\n",
    "final_model_path = path.resolve()/'models'"
   ]
  },
  {
   "cell_type": "code",
   "execution_count": 81,
   "metadata": {},
   "outputs": [],
   "source": [
    "# helper fns\n",
    "def load(name:str, data = False):\n",
    "    if data:\n",
    "        with open(data_path/name, 'rb') as f:\n",
    "            file = pickle.load(f)\n",
    "            return file\n",
    "    with open(model_path/name, 'rb') as f:\n",
    "        file = pickle.load(f)\n",
    "    return file\n",
    "def load_model(name:str):\n",
    "    with open(final_model_path/name, 'rb') as f:\n",
    "        model = pickle.load(f)\n",
    "    return model\n",
    "def dump(obj, name:str):\n",
    "    with open(model_path/name, 'wb') as f:\n",
    "        pickle.dump(obj,f)\n",
    "def perf_report(probs, testy):\n",
    "    auc = roc_auc_score(y_true = testy, y_score = probs)\n",
    "    ap = average_precision_score(y_true = testy, y_score = probs)\n",
    "    print(f\"ROC_AUC is {auc}\")\n",
    "    print(f\"PR_AUC is {ap}\")\n",
    "    print(f\"Average score is {(auc+ap)/2}\")\n",
    "def probs(model,xtest):\n",
    "    probs = model.predict_proba(xtest)\n",
    "    if len(probs[0])>1:\n",
    "        return [prob[1] for prob in probs]\n",
    "    return probs\n",
    "def extract_df(df):\n",
    "    return df.drop(['label'], axis = 1), df['label']\n",
    "\n",
    "trainx,trainy = extract_df(load('train_OHE.pkl',True)) \n",
    "validx, validy = extract_df(load('validation_OHE.pkl',True))\n",
    "trainfx, trainfy = extract_df(load('train_final_OHE.pkl',True))\n",
    "testx, testy = extract_df(load('test_final_OHE.pkl',True))"
   ]
  },
  {
   "cell_type": "markdown",
   "metadata": {},
   "source": [
    "## Investigate Model Performances when tuned on auc-roc"
   ]
  },
  {
   "cell_type": "code",
   "execution_count": 16,
   "metadata": {},
   "outputs": [
    {
     "data": {
      "text/plain": [
       "{'n_estimators': 299,\n",
       " 'criterion': 'entropy',\n",
       " 'max_features': 'sqrt',\n",
       " 'min_samples_split': 68,\n",
       " 'min_samples_leaf': 27}"
      ]
     },
     "execution_count": 16,
     "metadata": {},
     "output_type": "execute_result"
    }
   ],
   "source": [
    "rf_params = load('rf_params_roc.pkl')\n",
    "rf_params"
   ]
  },
  {
   "cell_type": "code",
   "execution_count": 23,
   "metadata": {},
   "outputs": [
    {
     "name": "stdout",
     "output_type": "stream",
     "text": [
      "ROC_AUC is 0.8978767914644408\n",
      "PR_AUC is 0.42042144077361093\n",
      "Average score is 0.6591491161190258\n"
     ]
    }
   ],
   "source": [
    "rf = RandomForestClassifier(n_estimators = 299, criterion = 'entropy', max_features = 'sqrt', min_samples_split = 68,\n",
    "                            min_samples_leaf = 27, random_state= 42, n_jobs = -1)\n",
    "rf.fit(trainfx, trainfy)\n",
    "perf_report(probs(rf, testx), testy) "
   ]
  },
  {
   "cell_type": "code",
   "execution_count": 24,
   "metadata": {},
   "outputs": [
    {
     "name": "stderr",
     "output_type": "stream",
     "text": [
      "c:\\Users\\65829\\anaconda3\\envs\\wp\\lib\\site-packages\\sklearn\\base.py:347: InconsistentVersionWarning: Trying to unpickle estimator DecisionTreeClassifier from version 1.3.2 when using version 1.3.0. This might lead to breaking code or invalid results. Use at your own risk. For more info please refer to:\n",
      "https://scikit-learn.org/stable/model_persistence.html#security-maintainability-limitations\n",
      "  warnings.warn(\n",
      "c:\\Users\\65829\\anaconda3\\envs\\wp\\lib\\site-packages\\sklearn\\base.py:347: InconsistentVersionWarning: Trying to unpickle estimator BaggingClassifier from version 1.3.2 when using version 1.3.0. This might lead to breaking code or invalid results. Use at your own risk. For more info please refer to:\n",
      "https://scikit-learn.org/stable/model_persistence.html#security-maintainability-limitations\n",
      "  warnings.warn(\n"
     ]
    },
    {
     "name": "stdout",
     "output_type": "stream",
     "text": [
      "ROC_AUC is 0.874083976548523\n",
      "PR_AUC is 0.33909809854330203\n",
      "Average score is 0.6065910375459125\n"
     ]
    }
   ],
   "source": [
    "bagged_trees = load('bagged_200trees.pkl')\n",
    "perf_report(probs(bagged_trees, testx), testy)"
   ]
  },
  {
   "cell_type": "code",
   "execution_count": 25,
   "metadata": {},
   "outputs": [
    {
     "data": {
      "text/plain": [
       "{'objective': 'binary',\n",
       " 'metric': 'auc',\n",
       " 'verbosity': -1,\n",
       " 'boosting_type': 'gbdt',\n",
       " 'feature_pre_filter': False,\n",
       " 'lambda_l1': 0.0,\n",
       " 'lambda_l2': 0.0,\n",
       " 'num_leaves': 228,\n",
       " 'feature_fraction': 0.6,\n",
       " 'bagging_fraction': 1.0,\n",
       " 'bagging_freq': 0,\n",
       " 'min_child_samples': 20,\n",
       " 'num_iterations': 1000}"
      ]
     },
     "execution_count": 25,
     "metadata": {},
     "output_type": "execute_result"
    }
   ],
   "source": [
    "lgbm_params = load('lgbm_params_roc.pkl')\n",
    "lgbm_params"
   ]
  },
  {
   "cell_type": "markdown",
   "metadata": {},
   "source": [
    "Compare sklearn lgbm implementation and native lgbm implementation"
   ]
  },
  {
   "cell_type": "code",
   "execution_count": 26,
   "metadata": {},
   "outputs": [
    {
     "name": "stdout",
     "output_type": "stream",
     "text": [
      "ROC_AUC is 0.8782618017300599\n",
      "PR_AUC is 0.3787066370592086\n",
      "Average score is 0.6284842193946343\n"
     ]
    }
   ],
   "source": [
    "HGBC = HistGradientBoostingClassifier(max_iter=1000, max_leaf_nodes= 228, random_state = 42)\n",
    "HGBC.fit(trainfx, trainfy)\n",
    "perf_report(probs(HGBC, testx),testy)"
   ]
  },
  {
   "cell_type": "code",
   "execution_count": 27,
   "metadata": {},
   "outputs": [
    {
     "name": "stdout",
     "output_type": "stream",
     "text": [
      "ROC_AUC is 0.877281877147679\n",
      "PR_AUC is 0.37359757503835644\n",
      "Average score is 0.6254397260930178\n"
     ]
    }
   ],
   "source": [
    "HGBC_es = HistGradientBoostingClassifier(max_iter=1000, max_leaf_nodes= 228, random_state = 42, early_stopping=False)\n",
    "HGBC_es.fit(trainfx, trainfy)\n",
    "perf_report(probs(HGBC_es, testx),testy)"
   ]
  },
  {
   "cell_type": "code",
   "execution_count": 43,
   "metadata": {},
   "outputs": [
    {
     "name": "stderr",
     "output_type": "stream",
     "text": [
      "c:\\Users\\65829\\anaconda3\\envs\\wp\\lib\\site-packages\\lightgbm\\engine.py:172: UserWarning: Found `num_iterations` in params. Will use it instead of argument\n",
      "  _log_warning(f\"Found `{alias}` in params. Will use it instead of argument\")\n"
     ]
    },
    {
     "name": "stdout",
     "output_type": "stream",
     "text": [
      "ROC_AUC is 0.8630105945514103\n",
      "PR_AUC is 0.3587434241421569\n",
      "Average score is 0.6108770093467836\n"
     ]
    }
   ],
   "source": [
    "dtrain_final = lgb.Dataset(trainfx, label=trainfy)\n",
    "Lgb =lgb.train(lgbm_params,dtrain_final)\n",
    "probas = Lgb.predict(testx)\n",
    "perf_report(probas, testy)"
   ]
  },
  {
   "cell_type": "code",
   "execution_count": 36,
   "metadata": {},
   "outputs": [
    {
     "data": {
      "text/plain": [
       "{'layer1': 69, 'layer2': 32, 'alpha': 0.0033228292773436908, 'max_iter': 323}"
      ]
     },
     "execution_count": 36,
     "metadata": {},
     "output_type": "execute_result"
    }
   ],
   "source": [
    "mlp_params = load('MLP_params_roc.pkl')\n",
    "mlp_params"
   ]
  },
  {
   "cell_type": "code",
   "execution_count": 47,
   "metadata": {},
   "outputs": [
    {
     "name": "stdout",
     "output_type": "stream",
     "text": [
      "ROC_AUC is 0.8492490024577259\n",
      "PR_AUC is 0.28853377594464663\n",
      "Average score is 0.5688913892011863\n"
     ]
    }
   ],
   "source": [
    "nn = MLPClassifier(hidden_layer_sizes= (69,32), alpha = 0.0033228292773436908, max_iter = 323, random_state= 42)\n",
    "nn.fit(trainfx, trainfy)\n",
    "perf_report(probs(nn, testx), testy)"
   ]
  },
  {
   "cell_type": "code",
   "execution_count": 48,
   "metadata": {},
   "outputs": [
    {
     "name": "stdout",
     "output_type": "stream",
     "text": [
      "ROC_AUC is 0.8667380039477013\n",
      "PR_AUC is 0.33895786453901994\n",
      "Average score is 0.6028479342433606\n"
     ]
    }
   ],
   "source": [
    "nn_es = MLPClassifier(hidden_layer_sizes= (69,32), alpha = 0.0033228292773436908, max_iter = 323, random_state= 42, early_stopping= True)\n",
    "nn_es.fit(trainfx, trainfy)\n",
    "perf_report(probs(nn_es, testx), testy)"
   ]
  },
  {
   "cell_type": "code",
   "execution_count": 50,
   "metadata": {},
   "outputs": [
    {
     "data": {
      "text/plain": [
       "{'n_estimators': 102, 'learning_rate': 0.5902377566205464}"
      ]
     },
     "execution_count": 50,
     "metadata": {},
     "output_type": "execute_result"
    }
   ],
   "source": [
    "AdaB_params = load('adaboost_params_roc.pkl')\n",
    "AdaB_params"
   ]
  },
  {
   "cell_type": "code",
   "execution_count": 52,
   "metadata": {},
   "outputs": [
    {
     "name": "stdout",
     "output_type": "stream",
     "text": [
      "ROC_AUC is 0.8888289035155339\n",
      "PR_AUC is 0.3982179894293467\n",
      "Average score is 0.6435234464724403\n"
     ]
    }
   ],
   "source": [
    "AdaB = AdaBoostClassifier(n_estimators = 102, learning_rate = 0.5902377566205464, random_state = 42)\n",
    "AdaB.fit(trainfx, trainfy)\n",
    "perf_report(probs(AdaB, testx), testy)"
   ]
  },
  {
   "cell_type": "markdown",
   "metadata": {},
   "source": [
    "## Save all models"
   ]
  },
  {
   "cell_type": "code",
   "execution_count": 53,
   "metadata": {},
   "outputs": [],
   "source": [
    "dump(rf, 'auc_models/rf.pkl')\n",
    "dump(bagged_trees, 'auc_models/bagged_trees.pkl')\n",
    "dump(nn_es, 'auc_models/mlp.pkl')\n",
    "dump(HGBC, 'auc_models/lgbm.pkl')\n",
    "dump(AdaB, 'auc_models/AdaB.pkl')"
   ]
  },
  {
   "cell_type": "markdown",
   "metadata": {},
   "source": [
    "## Investigate AP models"
   ]
  },
  {
   "cell_type": "code",
   "execution_count": 54,
   "metadata": {},
   "outputs": [
    {
     "data": {
      "text/plain": [
       "{'n_estimators': 325,\n",
       " 'criterion': 'entropy',\n",
       " 'max_features': 'sqrt',\n",
       " 'min_samples_split': 788,\n",
       " 'min_samples_leaf': 7}"
      ]
     },
     "execution_count": 54,
     "metadata": {},
     "output_type": "execute_result"
    }
   ],
   "source": [
    "rf_params_ap = load('rf_params_ap.pkl')\n",
    "rf_params_ap"
   ]
  },
  {
   "cell_type": "code",
   "execution_count": 55,
   "metadata": {},
   "outputs": [
    {
     "name": "stdout",
     "output_type": "stream",
     "text": [
      "ROC_AUC is 0.8915282453165122\n",
      "PR_AUC is 0.40759126107031424\n",
      "Average score is 0.6495597531934132\n"
     ]
    }
   ],
   "source": [
    "rf_ap = RandomForestClassifier(n_estimators = 325, criterion = 'entropy', max_features = 'sqrt', min_samples_split = 788,\n",
    "                            min_samples_leaf = 7, random_state= 42, n_jobs = -1)\n",
    "rf_ap.fit(trainfx, trainfy)\n",
    "perf_report(probs(rf_ap, testx), testy) "
   ]
  },
  {
   "cell_type": "code",
   "execution_count": 72,
   "metadata": {},
   "outputs": [
    {
     "data": {
      "text/plain": [
       "Index(['dwell_time_mean', 'sd_mean', 'mean_mean', 'm1_dtime_mean',\n",
       "       'm1_sd_mean', 'm1_mean_mean', 'p1_dtime_mean', 'p1_sd_mean',\n",
       "       'p1_mean_mean', 'dwell_time_var', 'sd_var', 'mean_var', 'm1_dtime_var',\n",
       "       'm1_sd_var', 'm1_mean_var', 'p1_dtime_var', 'p1_sd_var', 'p1_mean_var',\n",
       "       'count', 'mean_lower_bound', 'mean_upper_bound',\n",
       "       'relative_sequence_position', 'sequence_AAACA', 'sequence_AAACC',\n",
       "       'sequence_AAACU', 'sequence_AGACA', 'sequence_AGACC', 'sequence_AGACU',\n",
       "       'sequence_GAACA', 'sequence_GAACC', 'sequence_GAACU', 'sequence_GGACA',\n",
       "       'sequence_GGACC', 'sequence_GGACU', 'sequence_UAACA', 'sequence_UAACC',\n",
       "       'sequence_UAACU', 'sequence_UGACA', 'sequence_UGACC', 'sequence_UGACU',\n",
       "       'm1_seq_AAAAC', 'm1_seq_AAGAC', 'm1_seq_AGAAC', 'm1_seq_AGGAC',\n",
       "       'm1_seq_AUAAC', 'm1_seq_AUGAC', 'm1_seq_CAAAC', 'm1_seq_CAGAC',\n",
       "       'm1_seq_CGAAC', 'm1_seq_CGGAC', 'm1_seq_CUAAC', 'm1_seq_CUGAC',\n",
       "       'm1_seq_GAAAC', 'm1_seq_GAGAC', 'm1_seq_GGAAC', 'm1_seq_GGGAC',\n",
       "       'm1_seq_GUAAC', 'm1_seq_GUGAC', 'm1_seq_UAAAC', 'm1_seq_UAGAC',\n",
       "       'm1_seq_UGAAC', 'm1_seq_UGGAC', 'm1_seq_UUAAC', 'm1_seq_UUGAC',\n",
       "       'p1_seq_AACAA', 'p1_seq_AACAC', 'p1_seq_AACAG', 'p1_seq_AACAU',\n",
       "       'p1_seq_AACCA', 'p1_seq_AACCC', 'p1_seq_AACCG', 'p1_seq_AACCU',\n",
       "       'p1_seq_AACUA', 'p1_seq_AACUC', 'p1_seq_AACUG', 'p1_seq_AACUU',\n",
       "       'p1_seq_GACAA', 'p1_seq_GACAC', 'p1_seq_GACAG', 'p1_seq_GACAU',\n",
       "       'p1_seq_GACCA', 'p1_seq_GACCC', 'p1_seq_GACCG', 'p1_seq_GACCU',\n",
       "       'p1_seq_GACUA', 'p1_seq_GACUC', 'p1_seq_GACUG', 'p1_seq_GACUU'],\n",
       "      dtype='object')"
      ]
     },
     "execution_count": 72,
     "metadata": {},
     "output_type": "execute_result"
    }
   ],
   "source": [
    "lgbm_params_ap = load('lgbm_params_ap.pkl')\n",
    "lgbm_params_ap"
   ]
  },
  {
   "cell_type": "code",
   "execution_count": 57,
   "metadata": {},
   "outputs": [
    {
     "name": "stdout",
     "output_type": "stream",
     "text": [
      "ROC_AUC is 0.8805102258539175\n",
      "PR_AUC is 0.37750608455190093\n",
      "Average score is 0.6290081552029092\n"
     ]
    }
   ],
   "source": [
    "HGBC_ap = HistGradientBoostingClassifier(max_iter=1000, max_leaf_nodes= 251, random_state = 42)\n",
    "HGBC_ap.fit(trainfx, trainfy)\n",
    "perf_report(probs(HGBC_ap, testx),testy)"
   ]
  },
  {
   "cell_type": "code",
   "execution_count": 58,
   "metadata": {},
   "outputs": [
    {
     "name": "stdout",
     "output_type": "stream",
     "text": [
      "ROC_AUC is 0.8759745131584468\n",
      "PR_AUC is 0.3701541137420117\n",
      "Average score is 0.6230643134502292\n"
     ]
    }
   ],
   "source": [
    "HGBC_ap_es = HistGradientBoostingClassifier(max_iter=1000, max_leaf_nodes= 251, random_state = 42, early_stopping=False)\n",
    "HGBC_ap_es.fit(trainfx, trainfy)\n",
    "perf_report(probs(HGBC_ap_es, testx),testy)"
   ]
  },
  {
   "cell_type": "code",
   "execution_count": 59,
   "metadata": {},
   "outputs": [
    {
     "name": "stderr",
     "output_type": "stream",
     "text": [
      "c:\\Users\\65829\\anaconda3\\envs\\wp\\lib\\site-packages\\lightgbm\\engine.py:172: UserWarning: Found `num_iterations` in params. Will use it instead of argument\n",
      "  _log_warning(f\"Found `{alias}` in params. Will use it instead of argument\")\n"
     ]
    },
    {
     "name": "stdout",
     "output_type": "stream",
     "text": [
      "ROC_AUC is 0.8621481126677767\n",
      "PR_AUC is 0.3602308479189423\n",
      "Average score is 0.6111894802933595\n"
     ]
    }
   ],
   "source": [
    "Lgb_ap =lgb.train(lgbm_params_ap,dtrain_final)\n",
    "probas = Lgb_ap.predict(testx)\n",
    "perf_report(probas, testy)"
   ]
  },
  {
   "cell_type": "code",
   "execution_count": 60,
   "metadata": {},
   "outputs": [
    {
     "data": {
      "text/plain": [
       "{'n_estimators': 98, 'learning_rate': 0.6383500122803192}"
      ]
     },
     "execution_count": 60,
     "metadata": {},
     "output_type": "execute_result"
    }
   ],
   "source": [
    "AdaB_params_ap = load('adaboost_params_ap.pkl')\n",
    "AdaB_params_ap"
   ]
  },
  {
   "cell_type": "code",
   "execution_count": 61,
   "metadata": {},
   "outputs": [
    {
     "name": "stdout",
     "output_type": "stream",
     "text": [
      "ROC_AUC is 0.8857524736191476\n",
      "PR_AUC is 0.3933897577116023\n",
      "Average score is 0.639571115665375\n"
     ]
    }
   ],
   "source": [
    "AdaB_ap = AdaBoostClassifier(n_estimators = 98, learning_rate = 0.6383500122803192, random_state = 42)\n",
    "AdaB_ap.fit(trainfx, trainfy)\n",
    "perf_report(probs(AdaB_ap, testx), testy)"
   ]
  },
  {
   "cell_type": "code",
   "execution_count": 62,
   "metadata": {},
   "outputs": [
    {
     "data": {
      "text/plain": [
       "{'layer1': 88, 'layer2': 55, 'alpha': 1.57121698573349e-05, 'max_iter': 248}"
      ]
     },
     "execution_count": 62,
     "metadata": {},
     "output_type": "execute_result"
    }
   ],
   "source": [
    "nn_params_ap = load('MLP_params_ap.pkl')\n",
    "nn_params_ap"
   ]
  },
  {
   "cell_type": "code",
   "execution_count": 63,
   "metadata": {},
   "outputs": [
    {
     "name": "stdout",
     "output_type": "stream",
     "text": [
      "ROC_AUC is 0.8599951252143014\n",
      "PR_AUC is 0.3028043412558861\n",
      "Average score is 0.5813997332350938\n"
     ]
    }
   ],
   "source": [
    "nn_ap_es = MLPClassifier(hidden_layer_sizes= (88,55), alpha = 1.57121698573349e-05, max_iter = 248, random_state= 42, early_stopping= True)\n",
    "nn_ap_es.fit(trainfx, trainfy)\n",
    "perf_report(probs(nn_ap_es, testx), testy)"
   ]
  },
  {
   "cell_type": "markdown",
   "metadata": {},
   "source": [
    "# Save all models"
   ]
  },
  {
   "cell_type": "code",
   "execution_count": 64,
   "metadata": {},
   "outputs": [],
   "source": [
    "dump(rf_ap, 'ap_models/rf.pkl')\n",
    "dump(nn_ap_es, 'ap_models/mlp.pkl')\n",
    "dump(HGBC_ap, 'ap_models/lgbm.pkl')\n",
    "dump(AdaB_ap, 'ap_models/AdaB.pkl')"
   ]
  },
  {
   "cell_type": "markdown",
   "metadata": {},
   "source": [
    "Try DESP"
   ]
  },
  {
   "cell_type": "code",
   "execution_count": 4,
   "metadata": {},
   "outputs": [],
   "source": [
    "#load models after kernel died\n",
    "nn_es = load('auc_models/mlp.pkl')\n",
    "AdaB = load('auc_models/AdaB.pkl')\n",
    "bagged_trees = load('auc_models/bagged_trees.pkl')\n",
    "rf = load('auc_models/rf.pkl')\n",
    "HGBC_ap = load('ap_models/lgbm.pkl')\n",
    "pool = [nn_es, AdaB, bagged_trees, HGBC_ap, rf]"
   ]
  },
  {
   "cell_type": "code",
   "execution_count": 28,
   "metadata": {},
   "outputs": [
    {
     "name": "stderr",
     "output_type": "stream",
     "text": [
      "[I 2023-11-12 01:17:53,358] A new study created in memory with name: desp_both\n"
     ]
    }
   ],
   "source": [
    "def objective(trial, X_train, y_train, X_valid, y_valid, classifiers):\n",
    "    k = trial.suggest_int('k', 5,25)\n",
    "    ih_ind = trial.suggest_categorical('ih_ind', [True, False])\n",
    "    dfp = trial.suggest_categorical('dfp', [True, False])\n",
    "    ih_rate = trial.suggest_float('ih_rate', 0.0,0.4)\n",
    "    mode = trial.suggest_categorical('mode',['selection', 'weighting', 'hybrid'])\n",
    "    ens = desp.DESP(classifiers, k = k, with_IH = ih_ind, DFP = dfp, IH_rate=ih_rate, random_state= 42, mode = mode, voting = 'soft')\n",
    "    ens.fit(X_train, y_train)\n",
    "    probs = ens.predict_proba(X_valid)\n",
    "    true_probs = [entry[1] for entry in probs]\n",
    "    return roc_auc_score(y_true=y_valid,y_score=true_probs), average_precision_score(y_true=y_valid,y_score=true_probs)\n",
    "\n",
    "study = optuna.create_study(study_name = 'desp_both', directions = [\"maximize\", \"maximize\"])"
   ]
  },
  {
   "cell_type": "code",
   "execution_count": null,
   "metadata": {},
   "outputs": [],
   "source": [
    "study.optimize(lambda trial: objective(trial, trainx, trainy, validx, validy, pool), n_trials= 60, n_jobs= -1)"
   ]
  },
  {
   "cell_type": "code",
   "execution_count": 30,
   "metadata": {},
   "outputs": [
    {
     "data": {
      "text/plain": [
       "[FrozenTrial(number=11, state=TrialState.COMPLETE, values=[0.9711481822365393, 0.6925413954705413], datetime_start=datetime.datetime(2023, 11, 12, 1, 20, 3, 508738), datetime_complete=datetime.datetime(2023, 11, 12, 1, 22, 37, 824459), params={'k': 13, 'ih_ind': False, 'dfp': False, 'ih_rate': 0.12159449863444181, 'mode': 'selection'}, user_attrs={}, system_attrs={'nsga2:generation': 0}, intermediate_values={}, distributions={'k': IntDistribution(high=25, log=False, low=5, step=1), 'ih_ind': CategoricalDistribution(choices=(True, False)), 'dfp': CategoricalDistribution(choices=(True, False)), 'ih_rate': FloatDistribution(high=0.4, log=False, low=0.0, step=None), 'mode': CategoricalDistribution(choices=('selection', 'weighting', 'hybrid'))}, trial_id=11, value=None),\n",
       " FrozenTrial(number=28, state=TrialState.COMPLETE, values=[0.9711270133456051, 0.6927906427722688], datetime_start=datetime.datetime(2023, 11, 12, 1, 25, 5, 659742), datetime_complete=datetime.datetime(2023, 11, 12, 1, 27, 27, 692814), params={'k': 20, 'ih_ind': False, 'dfp': False, 'ih_rate': 0.21742401970684777, 'mode': 'selection'}, user_attrs={}, system_attrs={'nsga2:generation': 0}, intermediate_values={}, distributions={'k': IntDistribution(high=25, log=False, low=5, step=1), 'ih_ind': CategoricalDistribution(choices=(True, False)), 'dfp': CategoricalDistribution(choices=(True, False)), 'ih_rate': FloatDistribution(high=0.4, log=False, low=0.0, step=None), 'mode': CategoricalDistribution(choices=('selection', 'weighting', 'hybrid'))}, trial_id=28, value=None),\n",
       " FrozenTrial(number=49, state=TrialState.COMPLETE, values=[0.9711424298205246, 0.6927845394364273], datetime_start=datetime.datetime(2023, 11, 12, 1, 30, 28, 945126), datetime_complete=datetime.datetime(2023, 11, 12, 1, 32, 36, 334684), params={'k': 23, 'ih_ind': False, 'dfp': False, 'ih_rate': 0.10232577764709855, 'mode': 'selection'}, user_attrs={}, system_attrs={'nsga2:generation': 0}, intermediate_values={}, distributions={'k': IntDistribution(high=25, log=False, low=5, step=1), 'ih_ind': CategoricalDistribution(choices=(True, False)), 'dfp': CategoricalDistribution(choices=(True, False)), 'ih_rate': FloatDistribution(high=0.4, log=False, low=0.0, step=None), 'mode': CategoricalDistribution(choices=('selection', 'weighting', 'hybrid'))}, trial_id=49, value=None)]"
      ]
     },
     "execution_count": 30,
     "metadata": {},
     "output_type": "execute_result"
    }
   ],
   "source": [
    "study.best_trials"
   ]
  },
  {
   "cell_type": "code",
   "execution_count": null,
   "metadata": {},
   "outputs": [],
   "source": [
    "# best desp model after exploring, still worst than RF\n",
    "ens = desp.DESP(pool, k = 23, with_IH = False, DFP = False, random_state= 42, mode = 'weighting', voting = 'soft')\n",
    "ens.fit(trainfx, trainfy)\n",
    "perf_report(probs(ens, testx), testy)"
   ]
  },
  {
   "cell_type": "markdown",
   "metadata": {},
   "source": [
    "TRY KNORAU"
   ]
  },
  {
   "cell_type": "code",
   "execution_count": 45,
   "metadata": {},
   "outputs": [
    {
     "name": "stderr",
     "output_type": "stream",
     "text": [
      "[I 2023-11-12 01:52:35,747] A new study created in memory with name: knu_both\n"
     ]
    }
   ],
   "source": [
    "def objective(trial, X_train, y_train, X_valid, y_valid, classifiers):\n",
    "    k = trial.suggest_int('k',2,25)\n",
    "    dfp = trial.suggest_categorical('dfp', [True, False])\n",
    "    knu = des.KNORAU(classifiers, k = k, DFP = dfp, random_state= 42, voting = 'soft')\n",
    "    knu.fit(X_train, y_train)\n",
    "    probs = knu.predict_proba(X_valid)\n",
    "    true_probs = [entry[1] for entry in probs]\n",
    "    return roc_auc_score(y_true=y_valid,y_score=true_probs), average_precision_score(y_true=y_valid,y_score=true_probs)\n",
    "\n",
    "study = optuna.create_study(study_name = 'knu_both', directions = [\"maximize\", \"maximize\"])"
   ]
  },
  {
   "cell_type": "code",
   "execution_count": null,
   "metadata": {},
   "outputs": [],
   "source": [
    "study.optimize(lambda trial: objective(trial, trainx, trainy, validx, validy, pool), n_trials= 60, n_jobs= -1)"
   ]
  },
  {
   "cell_type": "code",
   "execution_count": 47,
   "metadata": {},
   "outputs": [
    {
     "data": {
      "text/plain": [
       "[FrozenTrial(number=10, state=TrialState.COMPLETE, values=[0.9712907040957203, 0.6958716629486679], datetime_start=datetime.datetime(2023, 11, 12, 1, 54, 36, 231610), datetime_complete=datetime.datetime(2023, 11, 12, 1, 56, 43, 895119), params={'k': 3, 'dfp': True}, user_attrs={}, system_attrs={'nsga2:generation': 0}, intermediate_values={}, distributions={'k': IntDistribution(high=25, log=False, low=2, step=1), 'dfp': CategoricalDistribution(choices=(True, False))}, trial_id=10, value=None)]"
      ]
     },
     "execution_count": 47,
     "metadata": {},
     "output_type": "execute_result"
    }
   ],
   "source": [
    "study.best_trials"
   ]
  },
  {
   "cell_type": "code",
   "execution_count": 56,
   "metadata": {},
   "outputs": [
    {
     "name": "stderr",
     "output_type": "stream",
     "text": [
      "c:\\Users\\65829\\anaconda3\\envs\\wp\\lib\\site-packages\\sklearn\\base.py:464: UserWarning: X does not have valid feature names, but MLPClassifier was fitted with feature names\n",
      "  warnings.warn(\n",
      "c:\\Users\\65829\\anaconda3\\envs\\wp\\lib\\site-packages\\sklearn\\base.py:464: UserWarning: X does not have valid feature names, but AdaBoostClassifier was fitted with feature names\n",
      "  warnings.warn(\n",
      "c:\\Users\\65829\\anaconda3\\envs\\wp\\lib\\site-packages\\sklearn\\base.py:464: UserWarning: X does not have valid feature names, but BaggingClassifier was fitted with feature names\n",
      "  warnings.warn(\n",
      "c:\\Users\\65829\\anaconda3\\envs\\wp\\lib\\site-packages\\sklearn\\base.py:464: UserWarning: X does not have valid feature names, but HistGradientBoostingClassifier was fitted with feature names\n",
      "  warnings.warn(\n",
      "c:\\Users\\65829\\anaconda3\\envs\\wp\\lib\\site-packages\\sklearn\\base.py:464: UserWarning: X does not have valid feature names, but RandomForestClassifier was fitted with feature names\n",
      "  warnings.warn(\n",
      "c:\\Users\\65829\\anaconda3\\envs\\wp\\lib\\site-packages\\sklearn\\base.py:464: UserWarning: X does not have valid feature names, but MLPClassifier was fitted with feature names\n",
      "  warnings.warn(\n",
      "c:\\Users\\65829\\anaconda3\\envs\\wp\\lib\\site-packages\\sklearn\\base.py:464: UserWarning: X does not have valid feature names, but AdaBoostClassifier was fitted with feature names\n",
      "  warnings.warn(\n",
      "c:\\Users\\65829\\anaconda3\\envs\\wp\\lib\\site-packages\\sklearn\\base.py:464: UserWarning: X does not have valid feature names, but BaggingClassifier was fitted with feature names\n",
      "  warnings.warn(\n",
      "c:\\Users\\65829\\anaconda3\\envs\\wp\\lib\\site-packages\\sklearn\\base.py:464: UserWarning: X does not have valid feature names, but HistGradientBoostingClassifier was fitted with feature names\n",
      "  warnings.warn(\n",
      "c:\\Users\\65829\\anaconda3\\envs\\wp\\lib\\site-packages\\sklearn\\base.py:464: UserWarning: X does not have valid feature names, but RandomForestClassifier was fitted with feature names\n",
      "  warnings.warn(\n"
     ]
    },
    {
     "name": "stdout",
     "output_type": "stream",
     "text": [
      "ROC_AUC is 0.8991545052259812\n",
      "PR_AUC is 0.41396517296362195\n",
      "Average score is 0.6565598390948015\n"
     ]
    }
   ],
   "source": [
    "# best KNU model, beats RF\n",
    "knu = des.KNORAU(pool, k = 2, DFP = False, random_state= 42, voting = 'soft')\n",
    "knu.fit(trainfx, trainfy)\n",
    "perf_report(probs(knu, testx), testy)"
   ]
  },
  {
   "cell_type": "markdown",
   "metadata": {},
   "source": [
    "# Inspect best trials (on pareto front) of all double objective optimisations"
   ]
  },
  {
   "cell_type": "code",
   "execution_count": 60,
   "metadata": {},
   "outputs": [
    {
     "data": {
      "text/plain": [
       "[FrozenTrial(number=23, state=TrialState.COMPLETE, values=[0.4156926405039685, 0.8952591808249507], datetime_start=datetime.datetime(2023, 11, 11, 19, 6, 10, 236939), datetime_complete=datetime.datetime(2023, 11, 11, 19, 12, 26, 10741), params={'n_estimators': 430, 'criterion': 'entropy', 'max_features': 'sqrt', 'min_samples_split': 253, 'min_samples_leaf': 71}, user_attrs={}, system_attrs={'nsga2:generation': 0}, intermediate_values={}, distributions={'n_estimators': IntDistribution(high=700, log=False, low=150, step=1), 'criterion': CategoricalDistribution(choices=('gini', 'entropy')), 'max_features': CategoricalDistribution(choices=('sqrt', 'log2')), 'min_samples_split': IntDistribution(high=1736, log=False, low=2, step=1), 'min_samples_leaf': IntDistribution(high=868, log=False, low=1, step=1)}, trial_id=23, value=None),\n",
       " FrozenTrial(number=29, state=TrialState.COMPLETE, values=[0.41651449965137816, 0.8949940789627772], datetime_start=datetime.datetime(2023, 11, 11, 19, 7, 24, 520258), datetime_complete=datetime.datetime(2023, 11, 11, 19, 16, 13, 77667), params={'n_estimators': 593, 'criterion': 'entropy', 'max_features': 'sqrt', 'min_samples_split': 301, 'min_samples_leaf': 81}, user_attrs={}, system_attrs={'nsga2:generation': 0}, intermediate_values={}, distributions={'n_estimators': IntDistribution(high=700, log=False, low=150, step=1), 'criterion': CategoricalDistribution(choices=('gini', 'entropy')), 'max_features': CategoricalDistribution(choices=('sqrt', 'log2')), 'min_samples_split': IntDistribution(high=1736, log=False, low=2, step=1), 'min_samples_leaf': IntDistribution(high=868, log=False, low=1, step=1)}, trial_id=29, value=None)]"
      ]
     },
     "execution_count": 60,
     "metadata": {},
     "output_type": "execute_result"
    }
   ],
   "source": [
    "rf_trials = load('rf_best_trials.pkl')\n",
    "rf_trials"
   ]
  },
  {
   "cell_type": "code",
   "execution_count": 71,
   "metadata": {},
   "outputs": [
    {
     "data": {
      "text/plain": [
       "{'n_estimators': 593,\n",
       " 'criterion': 'entropy',\n",
       " 'max_features': 'sqrt',\n",
       " 'min_samples_split': 301,\n",
       " 'min_samples_leaf': 81}"
      ]
     },
     "execution_count": 71,
     "metadata": {},
     "output_type": "execute_result"
    }
   ],
   "source": [
    "max = -1\n",
    "params ={}\n",
    "for trial in rf_trials:\n",
    "    if sum(trial.values) > max:\n",
    "        max = sum(trial.values)\n",
    "        params = trial.params\n",
    "params"
   ]
  },
  {
   "cell_type": "code",
   "execution_count": 73,
   "metadata": {},
   "outputs": [
    {
     "data": {
      "text/plain": [
       "[FrozenTrial(number=68, state=TrialState.COMPLETE, values=[0.4118414950069861, 0.8988254947077772], datetime_start=datetime.datetime(2023, 11, 11, 19, 59, 22, 596000), datetime_complete=datetime.datetime(2023, 11, 11, 20, 5, 22, 734816), params={'n_estimators': 634, 'criterion': 'entropy', 'max_features': 'sqrt', 'min_samples_split': 132, 'min_samples_leaf': 58}, user_attrs={}, system_attrs={'nsga2:generation': 1}, intermediate_values={}, distributions={'n_estimators': IntDistribution(high=700, log=False, low=150, step=1), 'criterion': CategoricalDistribution(choices=('gini', 'entropy')), 'max_features': CategoricalDistribution(choices=('sqrt', 'log2')), 'min_samples_split': IntDistribution(high=1301, log=False, low=2, step=1), 'min_samples_leaf': IntDistribution(high=650, log=False, low=1, step=1)}, trial_id=68, value=None)]"
      ]
     },
     "execution_count": 73,
     "metadata": {},
     "output_type": "execute_result"
    }
   ],
   "source": [
    "rf_2obj_trials = load('rf_best_trials_tuning.pkl')\n",
    "rf_2obj_trials"
   ]
  },
  {
   "cell_type": "code",
   "execution_count": 64,
   "metadata": {},
   "outputs": [
    {
     "name": "stdout",
     "output_type": "stream",
     "text": [
      "ROC_AUC is 0.8966268233152713\n",
      "PR_AUC is 0.4208595339171185\n",
      "Average score is 0.6587431786161949\n"
     ]
    }
   ],
   "source": [
    "rf_2obj = RandomForestClassifier(n_estimators = 634, criterion = 'entropy', max_features = 'sqrt', min_samples_split = 132,\n",
    "                            min_samples_leaf = 58, random_state= 42, n_jobs = -1)\n",
    "rf_2obj.fit(trainfx, trainfy)\n",
    "perf_report(probs(rf_2obj, testx), testy) "
   ]
  },
  {
   "cell_type": "markdown",
   "metadata": {},
   "source": [
    "Plot Feature Importance after training final model"
   ]
  },
  {
   "cell_type": "code",
   "execution_count": 90,
   "metadata": {},
   "outputs": [],
   "source": [
    "final_model = load_model('rf_final_model.pkl')\n",
    "feature_importances = final_model.feature_importances_\n",
    "X = load('full_balanced_dataset.pkl', True)\n",
    "data = X.drop(['label'], axis =1)"
   ]
  },
  {
   "cell_type": "code",
   "execution_count": 92,
   "metadata": {},
   "outputs": [
    {
     "data": {
      "image/png": "[encoded data removed]",
      "text/plain": [
       "<Figure size 1000x600 with 1 Axes>"
      ]
     },
     "metadata": {},
     "output_type": "display_data"
    }
   ],
   "source": [
    "import matplotlib.pyplot as plt\n",
    "import numpy as np\n",
    "\n",
    "# Get the indices of features sorted by importance\n",
    "\n",
    "\n",
    "indices = np.argsort(feature_importances)[::-1]\n",
    "\n",
    "# Select the top 10 features\n",
    "top_n = 10\n",
    "top_feature_indices = indices[:top_n]\n",
    "\n",
    "# Plot the feature importances for the top 10 features\n",
    "plt.figure(figsize=(10, 6))\n",
    "plt.bar(range(top_n), feature_importances[top_feature_indices], align=\"center\")\n",
    "plt.xticks(range(top_n), data.columns[top_feature_indices], rotation=45)\n",
    "plt.xlabel(\"Feature\")\n",
    "plt.ylabel(\"Importance\")\n",
    "plt.title(\"Top 10 Random Forest Feature Importance\")\n",
    "plt.show()\n"
   ]
  }
 ],
 "metadata": {
  "kernelspec": {
   "display_name": "wp",
   "language": "python",
   "name": "python3"
  },
  "language_info": {
   "codemirror_mode": {
    "name": "ipython",
    "version": 3
   },
   "file_extension": ".py",
   "mimetype": "text/x-python",
   "name": "python",
   "nbconvert_exporter": "python",
   "pygments_lexer": "ipython3",
   "version": "3.9.0"
  }
 },
 "nbformat": 4,
 "nbformat_minor": 2
}
