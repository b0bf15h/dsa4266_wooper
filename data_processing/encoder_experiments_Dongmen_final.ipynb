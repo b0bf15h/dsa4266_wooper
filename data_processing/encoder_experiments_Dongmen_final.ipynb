{
 "cells": [
  {
   "cell_type": "code",
   "execution_count": 1,
   "metadata": {},
   "outputs": [
    {
     "name": "stderr",
     "output_type": "stream",
     "text": [
      "c:\\Users\\65829\\anaconda3\\envs\\wp\\lib\\site-packages\\tqdm\\auto.py:21: TqdmWarning: IProgress not found. Please update jupyter and ipywidgets. See https://ipywidgets.readthedocs.io/en/stable/user_install.html\n",
      "  from .autonotebook import tqdm as notebook_tqdm\n"
     ]
    }
   ],
   "source": [
    "import pandas as pd\n",
    "import numpy as np\n",
    "from pathlib import Path\n",
    "import os\n",
    "import optuna\n",
    "from sklearn.metrics import roc_auc_score\n",
    "from sklearn.ensemble import RandomForestClassifier"
   ]
  },
  {
   "cell_type": "code",
   "execution_count": 2,
   "metadata": {},
   "outputs": [
    {
     "data": {
      "text/plain": [
       "WindowsPath('C:/Users/65829/OneDrive/Desktop/Y4S1/DSA4266/Project2/dsa4266_wooper/data')"
      ]
     },
     "execution_count": 2,
     "metadata": {},
     "output_type": "execute_result"
    }
   ],
   "source": [
    "path = Path(os.path.abspath(''))\n",
    "data_path = path.resolve().parents[0]/'data'\n",
    "data_path\n",
    "# this notebook should be in data_processing, the pkl files should be in data"
   ]
  },
  {
   "cell_type": "code",
   "execution_count": 3,
   "metadata": {},
   "outputs": [],
   "source": [
    "# perform various encodings based on train_df\n",
    "# https://github.com/scikit-learn-contrib/category_encoders\n",
    "# Generalized Linear Mixed Model Encoder\n",
    "# Target Encoder\n",
    "# Leave One Out Encoder\n",
    "# James Stein\n",
    "# Weight of evidence\n",
    "# M-estimate\n",
    "train_df = pd.read_pickle(data_path/'train.pkl')\n",
    "validation_df = pd.read_pickle(data_path/'validation.pkl')\n",
    "# OHE is the baseline to compare with\n",
    "train_df_OHE = pd.read_pickle(data_path/'train_OHE.pkl')\n",
    "validation_df_OHE = pd.read_pickle(data_path/'validation_OHE.pkl')\n",
    "X_train = train_df.drop(['label'], axis=1)\n",
    "y_train = train_df['label']\n",
    "X_valid = validation_df.drop(['label'], axis=1)\n",
    "y_valid = validation_df['label']\n",
    "def objective(trial, X_train, y_train, X_valid, y_valid):\n",
    "    n_estimators = trial.suggest_int('n_estimators', 100,400)\n",
    "    min_samples_split = trial.suggest_float('min_samples_split',0.0,1.0)\n",
    "    min_samples_leaf = trial.suggest_float('min_samples_leaf', 0.0,1.0)\n",
    "    max_features = trial.suggest_categorical('max_features', ['sqrt', 'log2'])\n",
    "    rf = RandomForestClassifier(n_estimators= n_estimators, min_samples_split = min_samples_split, min_samples_leaf= min_samples_leaf, random_state=42, n_jobs= -1, max_features= max_features)\n",
    "    rf.fit(X_train, y_train)\n",
    "    rf_probs = rf.predict_proba(X_valid)\n",
    "    true_probs = [entry[1] for entry in rf_probs]\n",
    "    return roc_auc_score(y_true=y_valid,y_score=true_probs)"
   ]
  },
  {
   "cell_type": "code",
   "execution_count": 7,
   "metadata": {},
   "outputs": [
    {
     "name": "stderr",
     "output_type": "stream",
     "text": [
      "[I 2023-11-02 03:00:23,215] A new study created in memory with name: label_encoder\n"
     ]
    }
   ],
   "source": [
    "# name study after encoding method used\n",
    "# create a new study for each encoding method \n",
    "study = optuna.create_study(study_name = 'label_encoder',pruner = optuna.pruners.HyperbandPruner(\n",
    "        min_resource=1, reduction_factor=3\n",
    "    ), direction = \"maximize\", )\n",
    "#study.optimize(lambda trial: objective(trial, X_train, y_train, X_valid, y_valid), n_trials= 60)\n",
    "# these 2 should be recorded for each study\n",
    "#study.best_params\n",
    "#study.best_value    "
   ]
  },
  {
   "cell_type": "markdown",
   "metadata": {},
   "source": [
    "Polynomial Encoder"
   ]
  },
  {
   "cell_type": "code",
   "execution_count": 10,
   "metadata": {},
   "outputs": [
    {
     "name": "stderr",
     "output_type": "stream",
     "text": [
      "c:\\Users\\dongm\\AppData\\Local\\Programs\\Python\\Python38\\lib\\site-packages\\category_encoders\\base_contrast_encoder.py:126: FutureWarning: Intercept column might not be added anymore in future releases (c.f. issue #370)\n",
      "  warnings.warn(\"Intercept column might not be added anymore in future releases (c.f. issue #370)\",\n",
      "c:\\Users\\dongm\\AppData\\Local\\Programs\\Python\\Python38\\lib\\site-packages\\category_encoders\\base_contrast_encoder.py:126: FutureWarning: Intercept column might not be added anymore in future releases (c.f. issue #370)\n",
      "  warnings.warn(\"Intercept column might not be added anymore in future releases (c.f. issue #370)\",\n",
      "c:\\Users\\dongm\\AppData\\Local\\Programs\\Python\\Python38\\lib\\site-packages\\category_encoders\\base_contrast_encoder.py:126: FutureWarning: Intercept column might not be added anymore in future releases (c.f. issue #370)\n",
      "  warnings.warn(\"Intercept column might not be added anymore in future releases (c.f. issue #370)\",\n",
      "c:\\Users\\dongm\\AppData\\Local\\Programs\\Python\\Python38\\lib\\site-packages\\category_encoders\\base_contrast_encoder.py:126: FutureWarning: Intercept column might not be added anymore in future releases (c.f. issue #370)\n",
      "  warnings.warn(\"Intercept column might not be added anymore in future releases (c.f. issue #370)\",\n",
      "[I 2023-11-02 03:11:28,396] Trial 0 finished with value: 0.5637307011210237 and parameters: {'n_estimators': 176, 'min_samples_split': 0.5930264847966491, 'min_samples_leaf': 0.04322578889509421, 'max_features': 'sqrt'}. Best is trial 0 with value: 0.5637307011210237.\n",
      "[I 2023-11-02 03:11:31,683] Trial 1 finished with value: 0.5 and parameters: {'n_estimators': 352, 'min_samples_split': 0.7649948974824452, 'min_samples_leaf': 0.4022096364477704, 'max_features': 'log2'}. Best is trial 0 with value: 0.5637307011210237.\n",
      "[I 2023-11-02 03:11:40,877] Trial 2 finished with value: 0.5751156027553497 and parameters: {'n_estimators': 305, 'min_samples_split': 0.1917928821384235, 'min_samples_leaf': 0.1358745109748808, 'max_features': 'sqrt'}. Best is trial 2 with value: 0.5751156027553497.\n",
      "[I 2023-11-02 03:11:42,327] Trial 3 finished with value: 0.5 and parameters: {'n_estimators': 107, 'min_samples_split': 0.467997065825871, 'min_samples_leaf': 0.39319765602854706, 'max_features': 'sqrt'}. Best is trial 2 with value: 0.5751156027553497.\n",
      "[I 2023-11-02 03:11:46,034] Trial 4 finished with value: 0.5 and parameters: {'n_estimators': 390, 'min_samples_split': 0.6616541227286773, 'min_samples_leaf': 0.765781218115539, 'max_features': 'sqrt'}. Best is trial 2 with value: 0.5751156027553497.\n",
      "[I 2023-11-02 03:11:48,741] Trial 5 finished with value: 0.5 and parameters: {'n_estimators': 232, 'min_samples_split': 0.9989378712867618, 'min_samples_leaf': 0.4578593406718622, 'max_features': 'sqrt'}. Best is trial 2 with value: 0.5751156027553497.\n",
      "[I 2023-11-02 03:11:50,209] Trial 6 finished with value: 0.5 and parameters: {'n_estimators': 218, 'min_samples_split': 0.38620632493543106, 'min_samples_leaf': 0.5780250875061669, 'max_features': 'log2'}. Best is trial 2 with value: 0.5751156027553497.\n",
      "[I 2023-11-02 03:11:55,448] Trial 7 finished with value: 0.5776763329514352 and parameters: {'n_estimators': 330, 'min_samples_split': 0.4693801028459297, 'min_samples_leaf': 0.20816203657385957, 'max_features': 'sqrt'}. Best is trial 7 with value: 0.5776763329514352.\n",
      "[I 2023-11-02 03:11:57,356] Trial 8 finished with value: 0.5 and parameters: {'n_estimators': 110, 'min_samples_split': 0.6629327930435522, 'min_samples_leaf': 0.7586860085144161, 'max_features': 'log2'}. Best is trial 7 with value: 0.5776763329514352.\n",
      "[I 2023-11-02 03:11:58,793] Trial 9 finished with value: 0.5 and parameters: {'n_estimators': 166, 'min_samples_split': 0.714511731525199, 'min_samples_leaf': 0.20015335294814762, 'max_features': 'sqrt'}. Best is trial 7 with value: 0.5776763329514352.\n",
      "[I 2023-11-02 03:12:01,744] Trial 10 finished with value: 0.5 and parameters: {'n_estimators': 302, 'min_samples_split': 0.04644434936403086, 'min_samples_leaf': 0.9393122153966461, 'max_features': 'log2'}. Best is trial 7 with value: 0.5776763329514352.\n",
      "[I 2023-11-02 03:12:17,724] Trial 11 finished with value: 0.5801327623375265 and parameters: {'n_estimators': 316, 'min_samples_split': 0.21200401105245031, 'min_samples_leaf': 0.03403288789560657, 'max_features': 'sqrt'}. Best is trial 11 with value: 0.5801327623375265.\n",
      "[I 2023-11-02 03:12:29,138] Trial 12 finished with value: 0.5719733067425469 and parameters: {'n_estimators': 297, 'min_samples_split': 0.30941211249257894, 'min_samples_leaf': 0.009424465261121166, 'max_features': 'sqrt'}. Best is trial 11 with value: 0.5801327623375265.\n",
      "[I 2023-11-02 03:12:37,215] Trial 13 finished with value: 0.5651093769980224 and parameters: {'n_estimators': 337, 'min_samples_split': 0.2568340469642646, 'min_samples_leaf': 0.2363154481391404, 'max_features': 'sqrt'}. Best is trial 11 with value: 0.5801327623375265.\n",
      "[I 2023-11-02 03:12:42,162] Trial 14 finished with value: 0.5735915838610803 and parameters: {'n_estimators': 269, 'min_samples_split': 0.12631065631005522, 'min_samples_leaf': 0.2483841318998259, 'max_features': 'sqrt'}. Best is trial 11 with value: 0.5801327623375265.\n",
      "[I 2023-11-02 03:12:54,208] Trial 15 finished with value: 0.559069714273905 and parameters: {'n_estimators': 398, 'min_samples_split': 0.38532418542808233, 'min_samples_leaf': 0.007246849350523395, 'max_features': 'sqrt'}. Best is trial 11 with value: 0.5801327623375265.\n",
      "[I 2023-11-02 03:13:04,227] Trial 16 finished with value: 0.5861572804548678 and parameters: {'n_estimators': 345, 'min_samples_split': 0.07794086569289893, 'min_samples_leaf': 0.11904035095293691, 'max_features': 'sqrt'}. Best is trial 16 with value: 0.5861572804548678.\n",
      "[I 2023-11-02 03:13:15,024] Trial 17 finished with value: 0.5852832202923524 and parameters: {'n_estimators': 365, 'min_samples_split': 0.02902473156449953, 'min_samples_leaf': 0.11459902084785493, 'max_features': 'sqrt'}. Best is trial 16 with value: 0.5861572804548678.\n",
      "[I 2023-11-02 03:13:18,267] Trial 18 finished with value: 0.5 and parameters: {'n_estimators': 363, 'min_samples_split': 0.035217835545308725, 'min_samples_leaf': 0.3206429987892516, 'max_features': 'log2'}. Best is trial 16 with value: 0.5861572804548678.\n",
      "[I 2023-11-02 03:13:29,033] Trial 19 finished with value: 0.5807930219851899 and parameters: {'n_estimators': 373, 'min_samples_split': 0.012172878054731662, 'min_samples_leaf': 0.14519649844467136, 'max_features': 'sqrt'}. Best is trial 16 with value: 0.5861572804548678.\n",
      "[I 2023-11-02 03:13:38,751] Trial 20 finished with value: 0.5727146820665898 and parameters: {'n_estimators': 264, 'min_samples_split': 0.12770137797187592, 'min_samples_leaf': 0.11222456534058678, 'max_features': 'sqrt'}. Best is trial 16 with value: 0.5861572804548678.\n",
      "[I 2023-11-02 03:13:47,783] Trial 21 finished with value: 0.5665404293189255 and parameters: {'n_estimators': 378, 'min_samples_split': 0.05810582254217496, 'min_samples_leaf': 0.1619314948185414, 'max_features': 'sqrt'}. Best is trial 16 with value: 0.5861572804548678.\n",
      "[I 2023-11-02 03:13:53,275] Trial 22 finished with value: 0.5984929017324914 and parameters: {'n_estimators': 363, 'min_samples_split': 0.03935630299187025, 'min_samples_leaf': 0.29671156826664713, 'max_features': 'sqrt'}. Best is trial 22 with value: 0.5984929017324914.\n",
      "[I 2023-11-02 03:13:58,289] Trial 23 finished with value: 0.6563492391530387 and parameters: {'n_estimators': 350, 'min_samples_split': 0.13276428850767588, 'min_samples_leaf': 0.30918587450205837, 'max_features': 'sqrt'}. Best is trial 23 with value: 0.6563492391530387.\n",
      "[I 2023-11-02 03:14:03,657] Trial 24 finished with value: 0.625578853349832 and parameters: {'n_estimators': 342, 'min_samples_split': 0.15938370797201074, 'min_samples_leaf': 0.2975651361690952, 'max_features': 'sqrt'}. Best is trial 23 with value: 0.6563492391530387.\n",
      "[I 2023-11-02 03:14:06,023] Trial 25 finished with value: 0.5 and parameters: {'n_estimators': 289, 'min_samples_split': 0.13330154620901236, 'min_samples_leaf': 0.335279830511868, 'max_features': 'sqrt'}. Best is trial 23 with value: 0.6563492391530387.\n",
      "[I 2023-11-02 03:14:10,182] Trial 26 finished with value: 0.5899840868609396 and parameters: {'n_estimators': 328, 'min_samples_split': 0.2045957804723268, 'min_samples_leaf': 0.2783686393988916, 'max_features': 'log2'}. Best is trial 23 with value: 0.6563492391530387.\n",
      "[I 2023-11-02 03:14:12,302] Trial 27 finished with value: 0.5 and parameters: {'n_estimators': 278, 'min_samples_split': 0.2965656170236816, 'min_samples_leaf': 0.3641970374080377, 'max_features': 'sqrt'}. Best is trial 23 with value: 0.6563492391530387.\n",
      "[I 2023-11-02 03:14:14,560] Trial 28 finished with value: 0.5 and parameters: {'n_estimators': 237, 'min_samples_split': 0.14304053632457028, 'min_samples_leaf': 0.4890121796649839, 'max_features': 'sqrt'}. Best is trial 23 with value: 0.6563492391530387.\n",
      "[I 2023-11-02 03:14:18,104] Trial 29 finished with value: 0.5466761301622443 and parameters: {'n_estimators': 195, 'min_samples_split': 0.10274563123830036, 'min_samples_leaf': 0.28274241375628956, 'max_features': 'sqrt'}. Best is trial 23 with value: 0.6563492391530387.\n",
      "[I 2023-11-02 03:14:20,852] Trial 30 finished with value: 0.5 and parameters: {'n_estimators': 352, 'min_samples_split': 0.17700744772472454, 'min_samples_leaf': 0.3212777335956378, 'max_features': 'sqrt'}. Best is trial 23 with value: 0.6563492391530387.\n",
      "[I 2023-11-02 03:14:25,359] Trial 31 finished with value: 0.5928265584090994 and parameters: {'n_estimators': 323, 'min_samples_split': 0.23036325540811206, 'min_samples_leaf': 0.28083320432110376, 'max_features': 'log2'}. Best is trial 23 with value: 0.6563492391530387.\n",
      "[I 2023-11-02 03:14:27,871] Trial 32 finished with value: 0.5 and parameters: {'n_estimators': 318, 'min_samples_split': 0.2422729835685964, 'min_samples_leaf': 0.4171689072715684, 'max_features': 'log2'}. Best is trial 23 with value: 0.6563492391530387.\n",
      "[I 2023-11-02 03:14:32,367] Trial 33 finished with value: 0.5928063763638218 and parameters: {'n_estimators': 348, 'min_samples_split': 0.1718684741970422, 'min_samples_leaf': 0.27820688695531554, 'max_features': 'log2'}. Best is trial 23 with value: 0.6563492391530387.\n",
      "[I 2023-11-02 03:14:35,321] Trial 34 finished with value: 0.5 and parameters: {'n_estimators': 387, 'min_samples_split': 0.07893768932976569, 'min_samples_leaf': 0.38516714796029894, 'max_features': 'log2'}. Best is trial 23 with value: 0.6563492391530387.\n",
      "[I 2023-11-02 03:14:40,776] Trial 35 finished with value: 0.6174849813291863 and parameters: {'n_estimators': 357, 'min_samples_split': 0.18046897316031768, 'min_samples_leaf': 0.19887305780133147, 'max_features': 'log2'}. Best is trial 23 with value: 0.6563492391530387.\n",
      "[I 2023-11-02 03:14:54,408] Trial 36 finished with value: 0.5993453267424693 and parameters: {'n_estimators': 400, 'min_samples_split': 0.007539190523753854, 'min_samples_leaf': 0.07940243684054546, 'max_features': 'log2'}. Best is trial 23 with value: 0.6563492391530387.\n",
      "[I 2023-11-02 03:15:01,755] Trial 37 finished with value: 0.6013660822807454 and parameters: {'n_estimators': 399, 'min_samples_split': 0.10261994255912545, 'min_samples_leaf': 0.1901665079800161, 'max_features': 'log2'}. Best is trial 23 with value: 0.6563492391530387.\n",
      "[I 2023-11-02 03:15:10,264] Trial 38 finished with value: 0.6020685466214933 and parameters: {'n_estimators': 384, 'min_samples_split': 0.17742260648313618, 'min_samples_leaf': 0.1915108970088477, 'max_features': 'log2'}. Best is trial 23 with value: 0.6563492391530387.\n",
      "[I 2023-11-02 03:15:19,576] Trial 39 finished with value: 0.5883448204153174 and parameters: {'n_estimators': 378, 'min_samples_split': 0.30354545676406686, 'min_samples_leaf': 0.22535489546427895, 'max_features': 'log2'}. Best is trial 23 with value: 0.6563492391530387.\n",
      "[I 2023-11-02 03:15:27,561] Trial 40 finished with value: 0.5743689962451708 and parameters: {'n_estimators': 343, 'min_samples_split': 0.3748711665094966, 'min_samples_leaf': 0.06552352021901905, 'max_features': 'log2'}. Best is trial 23 with value: 0.6563492391530387.\n",
      "[I 2023-11-02 03:15:35,956] Trial 41 finished with value: 0.5942945196544058 and parameters: {'n_estimators': 383, 'min_samples_split': 0.0980958974416537, 'min_samples_leaf': 0.18396880349429998, 'max_features': 'log2'}. Best is trial 23 with value: 0.6563492391530387.\n",
      "[I 2023-11-02 03:15:44,432] Trial 42 finished with value: 0.5861357098848752 and parameters: {'n_estimators': 363, 'min_samples_split': 0.17654788441104802, 'min_samples_leaf': 0.18078090303388977, 'max_features': 'log2'}. Best is trial 23 with value: 0.6563492391530387.\n",
      "[I 2023-11-02 03:15:52,525] Trial 43 finished with value: 0.5969293583207504 and parameters: {'n_estimators': 399, 'min_samples_split': 0.16127497090233558, 'min_samples_leaf': 0.21127853727294835, 'max_features': 'log2'}. Best is trial 23 with value: 0.6563492391530387.\n",
      "[I 2023-11-02 03:15:55,584] Trial 44 finished with value: 0.5778622338068955 and parameters: {'n_estimators': 139, 'min_samples_split': 0.2614992789336855, 'min_samples_leaf': 0.17026040660278108, 'max_features': 'log2'}. Best is trial 23 with value: 0.6563492391530387.\n",
      "[I 2023-11-02 03:15:59,418] Trial 45 finished with value: 0.5 and parameters: {'n_estimators': 354, 'min_samples_split': 0.09340417949152319, 'min_samples_leaf': 0.43068496811390233, 'max_features': 'log2'}. Best is trial 23 with value: 0.6563492391530387.\n",
      "[I 2023-11-02 03:16:04,101] Trial 46 finished with value: 0.5879570668158093 and parameters: {'n_estimators': 310, 'min_samples_split': 0.21238460017878477, 'min_samples_leaf': 0.24013410433747914, 'max_features': 'log2'}. Best is trial 23 with value: 0.6563492391530387.\n",
      "[I 2023-11-02 03:16:07,798] Trial 47 finished with value: 0.5 and parameters: {'n_estimators': 387, 'min_samples_split': 0.5733000646159688, 'min_samples_leaf': 0.37089242148256485, 'max_features': 'log2'}. Best is trial 23 with value: 0.6563492391530387.\n",
      "[I 2023-11-02 03:16:17,907] Trial 48 finished with value: 0.6008055380823892 and parameters: {'n_estimators': 338, 'min_samples_split': 0.19237455357623068, 'min_samples_leaf': 0.06771208335315104, 'max_features': 'log2'}. Best is trial 23 with value: 0.6563492391530387.\n",
      "[I 2023-11-02 03:16:25,402] Trial 49 finished with value: 0.6035408026060348 and parameters: {'n_estimators': 370, 'min_samples_split': 0.12969781663519658, 'min_samples_leaf': 0.14584295709040437, 'max_features': 'log2'}. Best is trial 23 with value: 0.6563492391530387.\n",
      "[I 2023-11-02 03:16:32,010] Trial 50 finished with value: 0.5865723524708636 and parameters: {'n_estimators': 299, 'min_samples_split': 0.27022050292343064, 'min_samples_leaf': 0.13294980756462427, 'max_features': 'log2'}. Best is trial 23 with value: 0.6563492391530387.\n",
      "[I 2023-11-02 03:16:37,660] Trial 51 finished with value: 0.5942835729130473 and parameters: {'n_estimators': 371, 'min_samples_split': 0.14385324245401043, 'min_samples_leaf': 0.21479395402699364, 'max_features': 'log2'}. Best is trial 23 with value: 0.6563492391530387.\n",
      "[I 2023-11-02 03:16:44,211] Trial 52 finished with value: 0.6012952998115482 and parameters: {'n_estimators': 357, 'min_samples_split': 0.06505026920379725, 'min_samples_leaf': 0.162250045814072, 'max_features': 'log2'}. Best is trial 23 with value: 0.6563492391530387.\n",
      "[I 2023-11-02 03:16:48,678] Trial 53 finished with value: 0.6081332027904827 and parameters: {'n_estimators': 332, 'min_samples_split': 0.0018895593462665838, 'min_samples_leaf': 0.25082598537796297, 'max_features': 'log2'}. Best is trial 23 with value: 0.6563492391530387.\n",
      "[I 2023-11-02 03:16:53,216] Trial 54 finished with value: 0.6133250258653092 and parameters: {'n_estimators': 328, 'min_samples_split': 0.012303096024098065, 'min_samples_leaf': 0.24729742230776572, 'max_features': 'log2'}. Best is trial 23 with value: 0.6563492391530387.\n",
      "[I 2023-11-02 03:16:57,831] Trial 55 finished with value: 0.6029078613748591 and parameters: {'n_estimators': 340, 'min_samples_split': 0.012303233842559092, 'min_samples_leaf': 0.25495574249967046, 'max_features': 'log2'}. Best is trial 23 with value: 0.6563492391530387.\n",
      "[I 2023-11-02 03:17:00,495] Trial 56 finished with value: 0.5 and parameters: {'n_estimators': 330, 'min_samples_split': 0.05073427503485426, 'min_samples_leaf': 0.3177218911122793, 'max_features': 'sqrt'}. Best is trial 23 with value: 0.6563492391530387.\n",
      "[I 2023-11-02 03:17:05,678] Trial 57 finished with value: 0.5778210624345295 and parameters: {'n_estimators': 316, 'min_samples_split': 0.11968984121605211, 'min_samples_leaf': 0.24948528296997713, 'max_features': 'sqrt'}. Best is trial 23 with value: 0.6563492391530387.\n",
      "[I 2023-11-02 03:17:08,002] Trial 58 finished with value: 0.5 and parameters: {'n_estimators': 287, 'min_samples_split': 0.06273621986569143, 'min_samples_leaf': 0.3503180903272306, 'max_features': 'log2'}. Best is trial 23 with value: 0.6563492391530387.\n",
      "[I 2023-11-02 03:17:18,865] Trial 59 finished with value: 0.5932707894441122 and parameters: {'n_estimators': 331, 'min_samples_split': 0.008398504444498744, 'min_samples_leaf': 0.09512082589524601, 'max_features': 'sqrt'}. Best is trial 23 with value: 0.6563492391530387.\n"
     ]
    },
    {
     "data": {
      "text/plain": [
       "0.6563492391530387"
      ]
     },
     "execution_count": 10,
     "metadata": {},
     "output_type": "execute_result"
    }
   ],
   "source": [
    "import pandas as pd\n",
    "from Dongmen_Encoder_Exp.polynomial import PolynomialEncoder\n",
    "\n",
    "enc=PolynomialEncoder(cols=['sequence', 'm1_seq', 'p1_seq']).fit(X_train,y_train)\n",
    "polynomial_X_train=enc.transform(X_train)\n",
    "polynomial_X_validation=PolynomialEncoder(cols=['sequence', 'm1_seq', 'p1_seq']).fit_transform(X_valid,y_valid)\n",
    "\n",
    "##Count Encoding's Results\n",
    "study.optimize(lambda trial: objective(trial, polynomial_X_train, y_train, polynomial_X_validation,y_valid), n_trials= 60)\n",
    "polynomial_best_params=study.best_params\n",
    "polynomial_best_value=study.best_value\n",
    "polynomial_best_value\n",
    "#best result:0.6563492391530387"
   ]
  },
  {
   "cell_type": "markdown",
   "metadata": {},
   "source": [
    "Rankhot Encoder"
   ]
  },
  {
   "cell_type": "code",
   "execution_count": 6,
   "metadata": {},
   "outputs": [
    {
     "name": "stderr",
     "output_type": "stream",
     "text": [
      "[I 2023-11-02 10:23:48,377] A new study created in memory with name: rankhot_encoder\n",
      "[I 2023-11-02 10:25:18,291] Trial 4 finished with value: 0.5 and parameters: {'n_estimators': 183, 'min_samples_split': 0.9749149289109404, 'min_samples_leaf': 0.7573780966839984, 'max_features': 'log2'}. Best is trial 4 with value: 0.5.\n",
      "[I 2023-11-02 10:25:20,050] Trial 5 finished with value: 0.5 and parameters: {'n_estimators': 193, 'min_samples_split': 0.26996606788636524, 'min_samples_leaf': 0.3413719957513729, 'max_features': 'log2'}. Best is trial 4 with value: 0.5.\n",
      "[I 2023-11-02 10:25:20,833] Trial 3 finished with value: 0.5 and parameters: {'n_estimators': 219, 'min_samples_split': 0.8529480676474303, 'min_samples_leaf': 0.8153887287150288, 'max_features': 'log2'}. Best is trial 4 with value: 0.5.\n",
      "[I 2023-11-02 10:25:22,032] Trial 7 finished with value: 0.5 and parameters: {'n_estimators': 239, 'min_samples_split': 0.7944592176567694, 'min_samples_leaf': 0.6531675310266504, 'max_features': 'sqrt'}. Best is trial 4 with value: 0.5.\n",
      "[I 2023-11-02 10:25:24,794] Trial 1 finished with value: 0.700097810264233 and parameters: {'n_estimators': 174, 'min_samples_split': 0.27476961357141094, 'min_samples_leaf': 0.27598955928585245, 'max_features': 'sqrt'}. Best is trial 1 with value: 0.700097810264233.\n",
      "[I 2023-11-02 10:25:28,766] Trial 0 finished with value: 0.5 and parameters: {'n_estimators': 301, 'min_samples_split': 0.25354182593598085, 'min_samples_leaf': 0.9344676755706709, 'max_features': 'log2'}. Best is trial 1 with value: 0.700097810264233.\n",
      "[I 2023-11-02 10:25:42,162] Trial 10 finished with value: 0.5 and parameters: {'n_estimators': 145, 'min_samples_split': 0.9784310863871468, 'min_samples_leaf': 0.5942609610221985, 'max_features': 'log2'}. Best is trial 1 with value: 0.700097810264233.\n",
      "[I 2023-11-02 10:25:43,621] Trial 2 finished with value: 0.7887729381053806 and parameters: {'n_estimators': 181, 'min_samples_split': 0.4162594385399103, 'min_samples_leaf': 0.040964195630536104, 'max_features': 'sqrt'}. Best is trial 2 with value: 0.7887729381053806.\n",
      "[I 2023-11-02 10:25:50,175] Trial 8 finished with value: 0.5 and parameters: {'n_estimators': 223, 'min_samples_split': 0.6194793339601348, 'min_samples_leaf': 0.7719419789255374, 'max_features': 'log2'}. Best is trial 2 with value: 0.7887729381053806.\n",
      "[I 2023-11-02 10:26:20,374] Trial 12 finished with value: 0.5 and parameters: {'n_estimators': 376, 'min_samples_split': 0.33524832223574574, 'min_samples_leaf': 0.5326081208066336, 'max_features': 'log2'}. Best is trial 2 with value: 0.7887729381053806.\n",
      "[I 2023-11-02 10:26:21,908] Trial 13 finished with value: 0.5 and parameters: {'n_estimators': 348, 'min_samples_split': 0.6408367688703542, 'min_samples_leaf': 0.7150162641906559, 'max_features': 'sqrt'}. Best is trial 2 with value: 0.7887729381053806.\n",
      "[I 2023-11-02 10:26:23,553] Trial 14 finished with value: 0.5 and parameters: {'n_estimators': 272, 'min_samples_split': 0.11555685179487907, 'min_samples_leaf': 0.6257579389083534, 'max_features': 'sqrt'}. Best is trial 2 with value: 0.7887729381053806.\n",
      "[I 2023-11-02 10:26:24,067] Trial 16 finished with value: 0.5 and parameters: {'n_estimators': 172, 'min_samples_split': 0.2322341786962766, 'min_samples_leaf': 0.4255084252374518, 'max_features': 'sqrt'}. Best is trial 2 with value: 0.7887729381053806.\n",
      "[I 2023-11-02 10:26:43,607] Trial 6 finished with value: 0.8055942369120244 and parameters: {'n_estimators': 309, 'min_samples_split': 0.3032812570655796, 'min_samples_leaf': 0.03411963503015725, 'max_features': 'sqrt'}. Best is trial 6 with value: 0.8055942369120244.\n",
      "[I 2023-11-02 10:26:53,308] Trial 9 finished with value: 0.7864496456355762 and parameters: {'n_estimators': 397, 'min_samples_split': 0.31452111149718354, 'min_samples_leaf': 0.09888071955067212, 'max_features': 'log2'}. Best is trial 6 with value: 0.8055942369120244.\n",
      "[I 2023-11-02 10:26:53,569] Trial 11 finished with value: 0.8216871414861477 and parameters: {'n_estimators': 237, 'min_samples_split': 0.17672242225512702, 'min_samples_leaf': 0.02524356032639008, 'max_features': 'log2'}. Best is trial 11 with value: 0.8216871414861477.\n",
      "[I 2023-11-02 10:26:54,170] Trial 20 finished with value: 0.7926857038786984 and parameters: {'n_estimators': 100, 'min_samples_split': 0.43514236643262083, 'min_samples_leaf': 0.06264726441533594, 'max_features': 'sqrt'}. Best is trial 11 with value: 0.8216871414861477.\n",
      "[I 2023-11-02 10:26:55,831] Trial 15 finished with value: 0.7321422482217197 and parameters: {'n_estimators': 375, 'min_samples_split': 0.1460420700571895, 'min_samples_leaf': 0.20303801333861937, 'max_features': 'sqrt'}. Best is trial 11 with value: 0.8216871414861477.\n",
      "[I 2023-11-02 10:26:57,268] Trial 19 finished with value: 0.7932125682798955 and parameters: {'n_estimators': 120, 'min_samples_split': 0.4076489951715294, 'min_samples_leaf': 0.012228132079911413, 'max_features': 'sqrt'}. Best is trial 11 with value: 0.8216871414861477.\n",
      "[I 2023-11-02 10:27:16,744] Trial 21 finished with value: 0.7868644593213925 and parameters: {'n_estimators': 108, 'min_samples_split': 0.46737322266489145, 'min_samples_leaf': 0.03277907348488916, 'max_features': 'sqrt'}. Best is trial 11 with value: 0.8216871414861477.\n",
      "[I 2023-11-02 10:27:25,355] Trial 18 finished with value: 0.8426020371917959 and parameters: {'n_estimators': 101, 'min_samples_split': 0.10187555969694562, 'min_samples_leaf': 7.274466562956494e-05, 'max_features': 'sqrt'}. Best is trial 18 with value: 0.8426020371917959.\n",
      "[I 2023-11-02 10:27:30,362] Trial 22 finished with value: 0.7862839268253934 and parameters: {'n_estimators': 115, 'min_samples_split': 0.4602897947401019, 'min_samples_leaf': 0.0051846475196596215, 'max_features': 'sqrt'}. Best is trial 18 with value: 0.8426020371917959.\n",
      "[I 2023-11-02 10:28:06,064] Trial 26 finished with value: 0.750415233472358 and parameters: {'n_estimators': 307, 'min_samples_split': 0.00707952641342352, 'min_samples_leaf': 0.16594685166758388, 'max_features': 'log2'}. Best is trial 18 with value: 0.8426020371917959.\n",
      "[I 2023-11-02 10:28:09,398] Trial 24 finished with value: 0.7508973098786752 and parameters: {'n_estimators': 305, 'min_samples_split': 0.08270954656497681, 'min_samples_leaf': 0.18871157162741295, 'max_features': 'sqrt'}. Best is trial 18 with value: 0.8426020371917959.\n",
      "[I 2023-11-02 10:28:14,416] Trial 25 finished with value: 0.7592420850862113 and parameters: {'n_estimators': 309, 'min_samples_split': 0.11380468895137341, 'min_samples_leaf': 0.15898495557405717, 'max_features': 'sqrt'}. Best is trial 18 with value: 0.8426020371917959.\n",
      "[I 2023-11-02 10:28:18,390] Trial 27 finished with value: 0.7439667632390988 and parameters: {'n_estimators': 308, 'min_samples_split': 0.027843560194015515, 'min_samples_leaf': 0.17793323669754108, 'max_features': 'log2'}. Best is trial 18 with value: 0.8426020371917959.\n",
      "[I 2023-11-02 10:28:18,624] Trial 17 finished with value: 0.8232158103236489 and parameters: {'n_estimators': 307, 'min_samples_split': 0.015209691306910966, 'min_samples_leaf': 0.07744828253836289, 'max_features': 'sqrt'}. Best is trial 18 with value: 0.8426020371917959.\n",
      "[I 2023-11-02 10:28:43,444] Trial 28 finished with value: 0.764394577391201 and parameters: {'n_estimators': 301, 'min_samples_split': 0.019562013575054937, 'min_samples_leaf': 0.15044946058934616, 'max_features': 'sqrt'}. Best is trial 18 with value: 0.8426020371917959.\n",
      "[I 2023-11-02 10:28:49,464] Trial 29 finished with value: 0.7627761065250328 and parameters: {'n_estimators': 305, 'min_samples_split': 0.02119734086347652, 'min_samples_leaf': 0.15531127163838784, 'max_features': 'sqrt'}. Best is trial 18 with value: 0.8426020371917959.\n",
      "[I 2023-11-02 10:29:34,777] Trial 30 finished with value: 0.7629660114982764 and parameters: {'n_estimators': 275, 'min_samples_split': 0.13859047500027238, 'min_samples_leaf': 0.15124178428256851, 'max_features': 'sqrt'}. Best is trial 18 with value: 0.8426020371917959.\n",
      "[I 2023-11-02 10:29:47,041] Trial 35 finished with value: 0.7049398219846733 and parameters: {'n_estimators': 271, 'min_samples_split': 0.17666545879027307, 'min_samples_leaf': 0.26797995155265364, 'max_features': 'log2'}. Best is trial 18 with value: 0.8426020371917959.\n",
      "[I 2023-11-02 10:29:55,602] Trial 36 finished with value: 0.7939105118425013 and parameters: {'n_estimators': 141, 'min_samples_split': 0.1879657932172965, 'min_samples_leaf': 0.09545168836001594, 'max_features': 'log2'}. Best is trial 18 with value: 0.8426020371917959.\n",
      "[I 2023-11-02 10:29:59,073] Trial 31 finished with value: 0.7986643683891693 and parameters: {'n_estimators': 264, 'min_samples_split': 0.1752473842133357, 'min_samples_leaf': 0.10789322519985274, 'max_features': 'sqrt'}. Best is trial 18 with value: 0.8426020371917959.\n",
      "[I 2023-11-02 10:30:09,728] Trial 34 finished with value: 0.7986613653008319 and parameters: {'n_estimators': 270, 'min_samples_split': 0.1735442656275218, 'min_samples_leaf': 0.10906079904045723, 'max_features': 'sqrt'}. Best is trial 18 with value: 0.8426020371917959.\n",
      "[I 2023-11-02 10:30:11,998] Trial 33 finished with value: 0.7968842474131462 and parameters: {'n_estimators': 269, 'min_samples_split': 0.1796890806466992, 'min_samples_leaf': 0.1118005429834119, 'max_features': 'sqrt'}. Best is trial 18 with value: 0.8426020371917959.\n",
      "[I 2023-11-02 10:30:22,975] Trial 32 finished with value: 0.7967376773275228 and parameters: {'n_estimators': 336, 'min_samples_split': 0.1841642799847233, 'min_samples_leaf': 0.11196923573539558, 'max_features': 'sqrt'}. Best is trial 18 with value: 0.8426020371917959.\n",
      "[I 2023-11-02 10:31:11,254] Trial 37 finished with value: 0.7970633671013932 and parameters: {'n_estimators': 339, 'min_samples_split': 0.1966221626046032, 'min_samples_leaf': 0.09628513108130815, 'max_features': 'log2'}. Best is trial 18 with value: 0.8426020371917959.\n",
      "[I 2023-11-02 10:31:57,644] Trial 38 finished with value: 0.8074985501218674 and parameters: {'n_estimators': 333, 'min_samples_split': 0.19829299478809054, 'min_samples_leaf': 0.08948197140628486, 'max_features': 'sqrt'}. Best is trial 18 with value: 0.8426020371917959.\n",
      "[I 2023-11-02 10:31:58,103] Trial 23 finished with value: 0.8610708690098074 and parameters: {'n_estimators': 312, 'min_samples_split': 0.030531114880046728, 'min_samples_leaf': 0.007191990422246334, 'max_features': 'sqrt'}. Best is trial 23 with value: 0.8610708690098074.\n",
      "[I 2023-11-02 10:32:18,185] Trial 39 finished with value: 0.8127054209296528 and parameters: {'n_estimators': 340, 'min_samples_split': 0.21377159004287194, 'min_samples_leaf': 0.07751657210380702, 'max_features': 'sqrt'}. Best is trial 23 with value: 0.8610708690098074.\n",
      "[I 2023-11-02 10:32:22,504] Trial 40 finished with value: 0.8142927953004573 and parameters: {'n_estimators': 333, 'min_samples_split': 0.20699390926438432, 'min_samples_leaf': 0.07173474154390176, 'max_features': 'sqrt'}. Best is trial 23 with value: 0.8610708690098074.\n",
      "[I 2023-11-02 10:32:33,488] Trial 45 finished with value: 0.7141979558332893 and parameters: {'n_estimators': 209, 'min_samples_split': 0.07338913777840825, 'min_samples_leaf': 0.2395250534571266, 'max_features': 'log2'}. Best is trial 23 with value: 0.8610708690098074.\n",
      "[I 2023-11-02 10:32:56,783] Trial 43 finished with value: 0.8148132660297105 and parameters: {'n_estimators': 332, 'min_samples_split': 0.2437954306450221, 'min_samples_leaf': 0.037971129988883114, 'max_features': 'sqrt'}. Best is trial 23 with value: 0.8610708690098074.\n",
      "[I 2023-11-02 10:34:25,620] Trial 47 finished with value: 0.8443680791730332 and parameters: {'n_estimators': 208, 'min_samples_split': 0.07424335755868296, 'min_samples_leaf': 0.019127806813286206, 'max_features': 'log2'}. Best is trial 23 with value: 0.8610708690098074.\n",
      "[I 2023-11-02 10:34:29,660] Trial 46 finished with value: 0.8467189160982327 and parameters: {'n_estimators': 219, 'min_samples_split': 0.06700552575123654, 'min_samples_leaf': 0.007501855035883964, 'max_features': 'log2'}. Best is trial 23 with value: 0.8610708690098074.\n",
      "[I 2023-11-02 10:34:38,529] Trial 44 finished with value: 0.8467208212833068 and parameters: {'n_estimators': 240, 'min_samples_split': 0.08870964034658951, 'min_samples_leaf': 0.001171434762618405, 'max_features': 'sqrt'}. Best is trial 23 with value: 0.8610708690098074.\n",
      "[I 2023-11-02 10:35:07,815] Trial 42 finished with value: 0.8510280249495287 and parameters: {'n_estimators': 334, 'min_samples_split': 0.07450228062621282, 'min_samples_leaf': 0.0018966606244647174, 'max_features': 'sqrt'}. Best is trial 23 with value: 0.8610708690098074.\n",
      "[I 2023-11-02 10:35:14,625] Trial 41 finished with value: 0.850596226054407 and parameters: {'n_estimators': 337, 'min_samples_split': 0.07320513814654714, 'min_samples_leaf': 0.00028148830962747284, 'max_features': 'sqrt'}. Best is trial 23 with value: 0.8610708690098074.\n",
      "[I 2023-11-02 10:35:31,094] Trial 48 finished with value: 0.8489152715760595 and parameters: {'n_estimators': 204, 'min_samples_split': 0.07776749889215677, 'min_samples_leaf': 0.0033855049225159223, 'max_features': 'sqrt'}. Best is trial 23 with value: 0.8610708690098074.\n",
      "[I 2023-11-02 10:36:19,620] Trial 49 finished with value: 0.8515685162676971 and parameters: {'n_estimators': 249, 'min_samples_split': 0.06748866284195185, 'min_samples_leaf': 0.004494407668870257, 'max_features': 'sqrt'}. Best is trial 23 with value: 0.8610708690098074.\n",
      "[I 2023-11-02 10:36:21,662] Trial 50 finished with value: 0.8501876768754447 and parameters: {'n_estimators': 250, 'min_samples_split': 0.06813826261622014, 'min_samples_leaf': 0.014603398978463106, 'max_features': 'sqrt'}. Best is trial 23 with value: 0.8610708690098074.\n",
      "[I 2023-11-02 10:36:24,127] Trial 53 finished with value: 0.8442204434754191 and parameters: {'n_estimators': 201, 'min_samples_split': 0.06204152087070836, 'min_samples_leaf': 0.03314137118684429, 'max_features': 'log2'}. Best is trial 23 with value: 0.8610708690098074.\n",
      "[I 2023-11-02 10:36:25,203] Trial 56 finished with value: 0.7187244172394062 and parameters: {'n_estimators': 289, 'min_samples_split': 0.1268743787442676, 'min_samples_leaf': 0.222032403586411, 'max_features': 'sqrt'}. Best is trial 23 with value: 0.8610708690098074.\n",
      "[I 2023-11-02 10:36:30,499] Trial 51 finished with value: 0.8444103161573904 and parameters: {'n_estimators': 243, 'min_samples_split': 0.06922304688238849, 'min_samples_leaf': 0.025250493107957624, 'max_features': 'log2'}. Best is trial 23 with value: 0.8610708690098074.\n",
      "[I 2023-11-02 10:36:32,766] Trial 54 finished with value: 0.8329783661391134 and parameters: {'n_estimators': 205, 'min_samples_split': 0.07192670251632796, 'min_samples_leaf': 0.04655050796257612, 'max_features': 'log2'}. Best is trial 23 with value: 0.8610708690098074.\n",
      "[I 2023-11-02 10:36:33,275] Trial 52 finished with value: 0.8471831677221607 and parameters: {'n_estimators': 202, 'min_samples_split': 0.07334467917402798, 'min_samples_leaf': 0.0007884870665589043, 'max_features': 'log2'}. Best is trial 23 with value: 0.8610708690098074.\n",
      "[I 2023-11-02 10:36:46,710] Trial 57 finished with value: 0.6969452456267929 and parameters: {'n_estimators': 286, 'min_samples_split': 0.2758788502707611, 'min_samples_leaf': 0.30765174621668423, 'max_features': 'sqrt'}. Best is trial 23 with value: 0.8610708690098074.\n",
      "[I 2023-11-02 10:37:32,640] Trial 59 finished with value: 0.8331929739357765 and parameters: {'n_estimators': 286, 'min_samples_split': 0.1322353974887291, 'min_samples_leaf': 0.0535841864363548, 'max_features': 'sqrt'}. Best is trial 23 with value: 0.8610708690098074.\n",
      "[I 2023-11-02 10:37:43,501] Trial 55 finished with value: 0.8532674892760683 and parameters: {'n_estimators': 289, 'min_samples_split': 0.0607292340682276, 'min_samples_leaf': 0.002896323419919805, 'max_features': 'sqrt'}. Best is trial 23 with value: 0.8610708690098074.\n",
      "[I 2023-11-02 10:37:44,156] Trial 58 finished with value: 0.8385400857397867 and parameters: {'n_estimators': 369, 'min_samples_split': 0.04796837190257928, 'min_samples_leaf': 0.05422659816117743, 'max_features': 'sqrt'}. Best is trial 23 with value: 0.8610708690098074.\n"
     ]
    },
    {
     "data": {
      "text/plain": [
       "0.8610708690098074"
      ]
     },
     "execution_count": 6,
     "metadata": {},
     "output_type": "execute_result"
    }
   ],
   "source": [
    "import pandas as pd\n",
    "from Dongmen_Encoder_Exp.rankhot import RankHotEncoder\n",
    "#assign ranks to each nucleotide and then use a one-hot encoding approach\n",
    "study = optuna.create_study(study_name = 'rankhot_encoder',pruner = optuna.pruners.HyperbandPruner(\n",
    "        min_resource=1, reduction_factor=3\n",
    "    ), direction = \"maximize\", )\n",
    "enc=RankHotEncoder(cols=['sequence', 'm1_seq', 'p1_seq']).fit(X_train,y_train)\n",
    "rank_X_train=enc.transform(X_train, y_train)\n",
    "rank_X_validation=enc.transform(X_valid)\n",
    "\n",
    "##Count Encoding's Results\n",
    "study.optimize(lambda trial: objective(trial, rank_X_train, y_train, rank_X_validation,y_valid), n_trials= 60, n_jobs = -1)\n",
    "rank_best_params=study.best_params\n",
    "rank_best_value=study.best_value\n",
    "rank_best_value\n",
    "#best result:0.8610708690098074"
   ]
  },
  {
   "cell_type": "markdown",
   "metadata": {},
   "source": [
    "Target Encoder"
   ]
  },
  {
   "cell_type": "code",
   "execution_count": 8,
   "metadata": {},
   "outputs": [
    {
     "name": "stderr",
     "output_type": "stream",
     "text": [
      "[I 2023-11-02 11:12:49,730] A new study created in memory with name: target_encoder\n",
      "[I 2023-11-02 11:13:00,787] Trial 2 finished with value: 0.5 and parameters: {'n_estimators': 111, 'min_samples_split': 0.3472721227732767, 'min_samples_leaf': 0.4908186036601687, 'max_features': 'sqrt'}. Best is trial 2 with value: 0.5.\n",
      "[I 2023-11-02 11:13:05,063] Trial 6 finished with value: 0.5 and parameters: {'n_estimators': 186, 'min_samples_split': 0.9194043076804765, 'min_samples_leaf': 0.45335606555075836, 'max_features': 'sqrt'}. Best is trial 2 with value: 0.5.\n",
      "[I 2023-11-02 11:13:05,862] Trial 1 finished with value: 0.5 and parameters: {'n_estimators': 206, 'min_samples_split': 0.39121474161664194, 'min_samples_leaf': 0.8923821730244467, 'max_features': 'sqrt'}. Best is trial 2 with value: 0.5.\n",
      "[I 2023-11-02 11:13:05,927] Trial 7 finished with value: 0.5 and parameters: {'n_estimators': 210, 'min_samples_split': 0.8956393370664795, 'min_samples_leaf': 0.2836572229553319, 'max_features': 'sqrt'}. Best is trial 2 with value: 0.5.\n",
      "[I 2023-11-02 11:13:06,002] Trial 4 finished with value: 0.5 and parameters: {'n_estimators': 219, 'min_samples_split': 0.7618939696761611, 'min_samples_leaf': 0.8350029915504842, 'max_features': 'sqrt'}. Best is trial 2 with value: 0.5.\n",
      "[I 2023-11-02 11:13:08,659] Trial 3 finished with value: 0.5 and parameters: {'n_estimators': 309, 'min_samples_split': 0.9391646541638048, 'min_samples_leaf': 0.021569203181357022, 'max_features': 'sqrt'}. Best is trial 2 with value: 0.5.\n",
      "[I 2023-11-02 11:13:09,955] Trial 0 finished with value: 0.5 and parameters: {'n_estimators': 331, 'min_samples_split': 0.22798637072741101, 'min_samples_leaf': 0.3460026249766266, 'max_features': 'sqrt'}. Best is trial 2 with value: 0.5.\n",
      "[I 2023-11-02 11:13:14,767] Trial 8 finished with value: 0.5 and parameters: {'n_estimators': 204, 'min_samples_split': 0.0894560525965018, 'min_samples_leaf': 0.8944492206852364, 'max_features': 'sqrt'}. Best is trial 2 with value: 0.5.\n",
      "[I 2023-11-02 11:13:24,564] Trial 14 finished with value: 0.5 and parameters: {'n_estimators': 192, 'min_samples_split': 0.7957567004074934, 'min_samples_leaf': 0.5372477537578773, 'max_features': 'log2'}. Best is trial 2 with value: 0.5.\n",
      "[I 2023-11-02 11:13:24,739] Trial 12 finished with value: 0.8160170523751522 and parameters: {'n_estimators': 135, 'min_samples_split': 0.42774848782381125, 'min_samples_leaf': 0.16412550659246383, 'max_features': 'log2'}. Best is trial 12 with value: 0.8160170523751522.\n",
      "[I 2023-11-02 11:13:25,272] Trial 5 finished with value: 0.8068618308118155 and parameters: {'n_estimators': 364, 'min_samples_split': 0.22342796626529626, 'min_samples_leaf': 0.2533694735320562, 'max_features': 'log2'}. Best is trial 12 with value: 0.8160170523751522.\n",
      "[I 2023-11-02 11:13:26,832] Trial 11 finished with value: 0.5 and parameters: {'n_estimators': 342, 'min_samples_split': 0.6852961775977119, 'min_samples_leaf': 0.5589695434395041, 'max_features': 'sqrt'}. Best is trial 12 with value: 0.8160170523751522.\n",
      "[I 2023-11-02 11:13:27,574] Trial 13 finished with value: 0.5 and parameters: {'n_estimators': 287, 'min_samples_split': 0.28150592329412694, 'min_samples_leaf': 0.7551357449681091, 'max_features': 'log2'}. Best is trial 12 with value: 0.8160170523751522.\n",
      "[I 2023-11-02 11:13:28,428] Trial 10 finished with value: 0.5 and parameters: {'n_estimators': 369, 'min_samples_split': 0.9536699666600489, 'min_samples_leaf': 0.49129436669217796, 'max_features': 'sqrt'}. Best is trial 12 with value: 0.8160170523751522.\n",
      "[I 2023-11-02 11:13:30,372] Trial 15 finished with value: 0.5 and parameters: {'n_estimators': 314, 'min_samples_split': 0.2692547129659545, 'min_samples_leaf': 0.6722899022673695, 'max_features': 'sqrt'}. Best is trial 12 with value: 0.8160170523751522.\n",
      "[I 2023-11-02 11:13:33,030] Trial 16 finished with value: 0.5 and parameters: {'n_estimators': 151, 'min_samples_split': 0.15461659319606247, 'min_samples_leaf': 0.6064382870347669, 'max_features': 'sqrt'}. Best is trial 12 with value: 0.8160170523751522.\n",
      "[I 2023-11-02 11:13:47,590] Trial 17 finished with value: 0.8101559603876503 and parameters: {'n_estimators': 103, 'min_samples_split': 0.5546501362062508, 'min_samples_leaf': 0.05682935107615772, 'max_features': 'log2'}. Best is trial 12 with value: 0.8160170523751522.\n",
      "[I 2023-11-02 11:13:53,552] Trial 19 finished with value: 0.808829822410918 and parameters: {'n_estimators': 114, 'min_samples_split': 0.522927367475608, 'min_samples_leaf': 0.12044820052509486, 'max_features': 'log2'}. Best is trial 12 with value: 0.8160170523751522.\n",
      "[I 2023-11-02 11:13:59,928] Trial 21 finished with value: 0.8103201615080282 and parameters: {'n_estimators': 110, 'min_samples_split': 0.5241211665224019, 'min_samples_leaf': 0.10597394519263727, 'max_features': 'log2'}. Best is trial 12 with value: 0.8160170523751522.\n",
      "[I 2023-11-02 11:14:00,675] Trial 9 finished with value: 0.8278659473032267 and parameters: {'n_estimators': 302, 'min_samples_split': 0.06052241113657608, 'min_samples_leaf': 0.15062119174076583, 'max_features': 'log2'}. Best is trial 9 with value: 0.8278659473032267.\n",
      "[I 2023-11-02 11:14:30,929] Trial 24 finished with value: 0.8128478254411311 and parameters: {'n_estimators': 103, 'min_samples_split': 0.5200716273814708, 'min_samples_leaf': 0.00720795565497101, 'max_features': 'log2'}. Best is trial 9 with value: 0.8278659473032267.\n",
      "[I 2023-11-02 11:14:38,480] Trial 25 finished with value: 0.8104562692213799 and parameters: {'n_estimators': 150, 'min_samples_split': 0.54225611157186, 'min_samples_leaf': 0.12516962600333426, 'max_features': 'log2'}. Best is trial 9 with value: 0.8278659473032267.\n",
      "[I 2023-11-02 11:14:51,745] Trial 26 finished with value: 0.8162162249435871 and parameters: {'n_estimators': 151, 'min_samples_split': 0.44217105046988114, 'min_samples_leaf': 0.14503533044528893, 'max_features': 'log2'}. Best is trial 9 with value: 0.8278659473032267.\n",
      "[I 2023-11-02 11:14:57,033] Trial 20 finished with value: 0.8127363882599267 and parameters: {'n_estimators': 398, 'min_samples_split': 0.544720654175847, 'min_samples_leaf': 0.13782589838927303, 'max_features': 'log2'}. Best is trial 9 with value: 0.8278659473032267.\n",
      "[I 2023-11-02 11:14:57,490] Trial 18 finished with value: 0.8150059803436567 and parameters: {'n_estimators': 381, 'min_samples_split': 0.5537198177317, 'min_samples_leaf': 0.05339135346875018, 'max_features': 'log2'}. Best is trial 9 with value: 0.8278659473032267.\n",
      "[I 2023-11-02 11:14:58,377] Trial 22 finished with value: 0.8111552783959762 and parameters: {'n_estimators': 399, 'min_samples_split': 0.533106758459076, 'min_samples_leaf': 0.15079275979276238, 'max_features': 'log2'}. Best is trial 9 with value: 0.8278659473032267.\n",
      "[I 2023-11-02 11:15:01,161] Trial 23 finished with value: 0.8269745467274087 and parameters: {'n_estimators': 258, 'min_samples_split': 0.01014925889068058, 'min_samples_leaf': 0.14660173336779347, 'max_features': 'log2'}. Best is trial 9 with value: 0.8278659473032267.\n",
      "[I 2023-11-02 11:15:23,227] Trial 27 finished with value: 0.8214103729900297 and parameters: {'n_estimators': 265, 'min_samples_split': 0.018596898703466258, 'min_samples_leaf': 0.18547128332094598, 'max_features': 'log2'}. Best is trial 9 with value: 0.8278659473032267.\n",
      "[I 2023-11-02 11:15:59,997] Trial 34 finished with value: 0.8073667694390232 and parameters: {'n_estimators': 259, 'min_samples_split': 0.06727602091817558, 'min_samples_leaf': 0.2459041372869332, 'max_features': 'log2'}. Best is trial 9 with value: 0.8278659473032267.\n",
      "[I 2023-11-02 11:16:01,031] Trial 28 finished with value: 0.8259969607454375 and parameters: {'n_estimators': 261, 'min_samples_split': 0.03408725220305037, 'min_samples_leaf': 0.15579283416199044, 'max_features': 'log2'}. Best is trial 9 with value: 0.8278659473032267.\n",
      "[I 2023-11-02 11:16:01,383] Trial 29 finished with value: 0.8252636582395056 and parameters: {'n_estimators': 267, 'min_samples_split': 0.11399241590687062, 'min_samples_leaf': 0.17438622381468194, 'max_features': 'log2'}. Best is trial 9 with value: 0.8278659473032267.\n",
      "[I 2023-11-02 11:16:01,591] Trial 33 finished with value: 0.8082862957131399 and parameters: {'n_estimators': 257, 'min_samples_split': 0.02452774006712287, 'min_samples_leaf': 0.2143373748163246, 'max_features': 'log2'}. Best is trial 9 with value: 0.8278659473032267.\n",
      "[I 2023-11-02 11:16:09,017] Trial 30 finished with value: 0.8145518681792759 and parameters: {'n_estimators': 276, 'min_samples_split': 0.10239621523793935, 'min_samples_leaf': 0.20408385056260797, 'max_features': 'log2'}. Best is trial 9 with value: 0.8278659473032267.\n",
      "[I 2023-11-02 11:16:09,719] Trial 32 finished with value: 0.8189578831391766 and parameters: {'n_estimators': 264, 'min_samples_split': 0.03784337303307151, 'min_samples_leaf': 0.19637602360123024, 'max_features': 'log2'}. Best is trial 9 with value: 0.8278659473032267.\n",
      "[I 2023-11-02 11:16:13,817] Trial 31 finished with value: 0.8210167746702093 and parameters: {'n_estimators': 260, 'min_samples_split': 0.035629278140890265, 'min_samples_leaf': 0.18641318254430067, 'max_features': 'log2'}. Best is trial 9 with value: 0.8278659473032267.\n",
      "[I 2023-11-02 11:16:16,571] Trial 35 finished with value: 0.8050335958398508 and parameters: {'n_estimators': 255, 'min_samples_split': 0.008823251286857771, 'min_samples_leaf': 0.23064075982828358, 'max_features': 'log2'}. Best is trial 9 with value: 0.8278659473032267.\n",
      "[I 2023-11-02 11:16:20,983] Trial 37 finished with value: 0.5 and parameters: {'n_estimators': 242, 'min_samples_split': 0.002503481602552038, 'min_samples_leaf': 0.37307681254127434, 'max_features': 'log2'}. Best is trial 9 with value: 0.8278659473032267.\n",
      "[I 2023-11-02 11:16:21,404] Trial 38 finished with value: 0.5 and parameters: {'n_estimators': 235, 'min_samples_split': 0.12746737629540883, 'min_samples_leaf': 0.33879280906337433, 'max_features': 'log2'}. Best is trial 9 with value: 0.8278659473032267.\n",
      "[I 2023-11-02 11:16:22,043] Trial 36 finished with value: 0.5 and parameters: {'n_estimators': 268, 'min_samples_split': 0.08111304093378523, 'min_samples_leaf': 0.3734251970677164, 'max_features': 'log2'}. Best is trial 9 with value: 0.8278659473032267.\n",
      "[I 2023-11-02 11:16:26,233] Trial 40 finished with value: 0.5 and parameters: {'n_estimators': 230, 'min_samples_split': 0.002044573363948421, 'min_samples_leaf': 0.33226406463272773, 'max_features': 'log2'}. Best is trial 9 with value: 0.8278659473032267.\n",
      "[I 2023-11-02 11:16:26,274] Trial 41 finished with value: 0.5 and parameters: {'n_estimators': 235, 'min_samples_split': 0.1423843282288088, 'min_samples_leaf': 0.34049883135207937, 'max_features': 'log2'}. Best is trial 9 with value: 0.8278659473032267.\n",
      "[I 2023-11-02 11:16:33,880] Trial 39 finished with value: 0.6968887681912883 and parameters: {'n_estimators': 283, 'min_samples_split': 0.12301214361568187, 'min_samples_leaf': 0.30515031010028265, 'max_features': 'log2'}. Best is trial 9 with value: 0.8278659473032267.\n",
      "[I 2023-11-02 11:16:37,744] Trial 43 finished with value: 0.5 and parameters: {'n_estimators': 233, 'min_samples_split': 0.14730122639854074, 'min_samples_leaf': 0.32289561153668744, 'max_features': 'log2'}. Best is trial 9 with value: 0.8278659473032267.\n",
      "[I 2023-11-02 11:16:50,001] Trial 42 finished with value: 0.6917310124088902 and parameters: {'n_estimators': 237, 'min_samples_split': 0.15291227494658516, 'min_samples_leaf': 0.3089564403878321, 'max_features': 'log2'}. Best is trial 9 with value: 0.8278659473032267.\n",
      "[I 2023-11-02 11:17:19,147] Trial 44 finished with value: 0.8036290869448969 and parameters: {'n_estimators': 302, 'min_samples_split': 0.1540669489676268, 'min_samples_leaf': 0.2949038004086423, 'max_features': 'log2'}. Best is trial 9 with value: 0.8278659473032267.\n",
      "[I 2023-11-02 11:17:24,578] Trial 46 finished with value: 0.8029490327472253 and parameters: {'n_estimators': 297, 'min_samples_split': 0.16070646773154013, 'min_samples_leaf': 0.28306223478109444, 'max_features': 'log2'}. Best is trial 9 with value: 0.8278659473032267.\n",
      "[I 2023-11-02 11:17:28,568] Trial 47 finished with value: 0.8030511054594208 and parameters: {'n_estimators': 297, 'min_samples_split': 0.17495984059053502, 'min_samples_leaf': 0.27662823819118754, 'max_features': 'log2'}. Best is trial 9 with value: 0.8278659473032267.\n",
      "[I 2023-11-02 11:19:23,650] Trial 48 finished with value: 0.8382040950500063 and parameters: {'n_estimators': 295, 'min_samples_split': 0.18372442650224086, 'min_samples_leaf': 0.08548140699457019, 'max_features': 'log2'}. Best is trial 48 with value: 0.8382040950500063.\n",
      "[I 2023-11-02 11:19:30,886] Trial 45 finished with value: 0.8405776650310062 and parameters: {'n_estimators': 298, 'min_samples_split': 0.12493067100552022, 'min_samples_leaf': 0.07681820197480864, 'max_features': 'log2'}. Best is trial 45 with value: 0.8405776650310062.\n",
      "[I 2023-11-02 11:19:34,690] Trial 49 finished with value: 0.838199574271864 and parameters: {'n_estimators': 297, 'min_samples_split': 0.18231518156554682, 'min_samples_leaf': 0.08394130309710221, 'max_features': 'log2'}. Best is trial 45 with value: 0.8405776650310062.\n",
      "[I 2023-11-02 11:19:37,716] Trial 50 finished with value: 0.8380136411251312 and parameters: {'n_estimators': 298, 'min_samples_split': 0.19103575573906945, 'min_samples_leaf': 0.08118116494551736, 'max_features': 'log2'}. Best is trial 45 with value: 0.8405776650310062.\n",
      "[I 2023-11-02 11:19:52,961] Trial 51 finished with value: 0.837350346097858 and parameters: {'n_estimators': 304, 'min_samples_split': 0.19723068169718994, 'min_samples_leaf': 0.08314620583409583, 'max_features': 'log2'}. Best is trial 45 with value: 0.8405776650310062.\n",
      "[I 2023-11-02 11:20:21,668] Trial 52 finished with value: 0.8373073018316901 and parameters: {'n_estimators': 297, 'min_samples_split': 0.2061025097572884, 'min_samples_leaf': 0.07888528639483924, 'max_features': 'log2'}. Best is trial 45 with value: 0.8405776650310062.\n",
      "[I 2023-11-02 11:20:40,613] Trial 53 finished with value: 0.8388531819174041 and parameters: {'n_estimators': 326, 'min_samples_split': 0.06107468846285608, 'min_samples_leaf': 0.08528721741683985, 'max_features': 'log2'}. Best is trial 45 with value: 0.8405776650310062.\n",
      "[I 2023-11-02 11:20:41,248] Trial 54 finished with value: 0.838516125615633 and parameters: {'n_estimators': 328, 'min_samples_split': 0.058636739558217806, 'min_samples_leaf': 0.08919633231452156, 'max_features': 'sqrt'}. Best is trial 45 with value: 0.8405776650310062.\n",
      "[I 2023-11-02 11:21:58,820] Trial 56 finished with value: 0.8353712140097622 and parameters: {'n_estimators': 332, 'min_samples_split': 0.24293519957974113, 'min_samples_leaf': 0.06759461813611534, 'max_features': 'sqrt'}. Best is trial 45 with value: 0.8405776650310062.\n",
      "[I 2023-11-02 11:22:03,299] Trial 57 finished with value: 0.8363338168413195 and parameters: {'n_estimators': 344, 'min_samples_split': 0.22558438422690064, 'min_samples_leaf': 0.07869772286934493, 'max_features': 'sqrt'}. Best is trial 45 with value: 0.8405776650310062.\n",
      "[I 2023-11-02 11:22:05,045] Trial 58 finished with value: 0.8374205796154238 and parameters: {'n_estimators': 331, 'min_samples_split': 0.2099706083923512, 'min_samples_leaf': 0.07652386443772588, 'max_features': 'sqrt'}. Best is trial 45 with value: 0.8405776650310062.\n",
      "[I 2023-11-02 11:22:10,188] Trial 59 finished with value: 0.8375002744758158 and parameters: {'n_estimators': 339, 'min_samples_split': 0.20066895018813646, 'min_samples_leaf': 0.07789911581373254, 'max_features': 'sqrt'}. Best is trial 45 with value: 0.8405776650310062.\n",
      "[I 2023-11-02 11:22:14,129] Trial 55 finished with value: 0.8451159450428376 and parameters: {'n_estimators': 331, 'min_samples_split': 0.06775651707571552, 'min_samples_leaf': 0.04992222923138773, 'max_features': 'sqrt'}. Best is trial 55 with value: 0.8451159450428376.\n"
     ]
    },
    {
     "data": {
      "text/plain": [
       "0.8451159450428376"
      ]
     },
     "execution_count": 8,
     "metadata": {},
     "output_type": "execute_result"
    }
   ],
   "source": [
    "import pandas as pd\n",
    "from Dongmen_Encoder_Exp.target_encoder import TargetEncoder\n",
    "enc=TargetEncoder(cols=['sequence', 'm1_seq', 'p1_seq']).fit(X_train,y_train)\n",
    "target_X_train=enc.transform(X_train, y_train)\n",
    "target_X_validation=enc.transform(X_valid)\n",
    "\n",
    "study = optuna.create_study(study_name = 'target_encoder',pruner = optuna.pruners.HyperbandPruner(\n",
    "        min_resource=1, reduction_factor=3\n",
    "    ), direction = \"maximize\", )\n",
    "##Count Encoding's Results\n",
    "study.optimize(lambda trial: objective(trial, target_X_train, y_train, target_X_validation,y_valid), n_trials= 60, n_jobs = -1)\n",
    "target_best_params=study.best_params\n",
    "target_best_value=study.best_value\n",
    "target_best_value\n",
    "#best result:0.8451159450428376"
   ]
  },
  {
   "cell_type": "markdown",
   "metadata": {},
   "source": [
    "Woe encoder"
   ]
  },
  {
   "cell_type": "code",
   "execution_count": 10,
   "metadata": {},
   "outputs": [
    {
     "name": "stderr",
     "output_type": "stream",
     "text": [
      "[I 2023-11-02 11:31:22,291] A new study created in memory with name: target_encoder\n",
      "[I 2023-11-02 11:31:35,010] Trial 1 finished with value: 0.5 and parameters: {'n_estimators': 107, 'min_samples_split': 0.8314763750628194, 'min_samples_leaf': 0.6226989601168583, 'max_features': 'sqrt'}. Best is trial 1 with value: 0.5.\n",
      "[I 2023-11-02 11:31:38,010] Trial 2 finished with value: 0.5 and parameters: {'n_estimators': 154, 'min_samples_split': 0.6941817578257329, 'min_samples_leaf': 0.7740834361195589, 'max_features': 'log2'}. Best is trial 1 with value: 0.5.\n",
      "[I 2023-11-02 11:31:40,140] Trial 3 finished with value: 0.5 and parameters: {'n_estimators': 177, 'min_samples_split': 0.17091405085194056, 'min_samples_leaf': 0.7235280567593415, 'max_features': 'sqrt'}. Best is trial 1 with value: 0.5.\n",
      "[I 2023-11-02 11:31:43,425] Trial 0 finished with value: 0.80315269380253 and parameters: {'n_estimators': 142, 'min_samples_split': 0.41614907946287105, 'min_samples_leaf': 0.22813077215550448, 'max_features': 'log2'}. Best is trial 0 with value: 0.80315269380253.\n",
      "[I 2023-11-02 11:31:46,668] Trial 7 finished with value: 0.5 and parameters: {'n_estimators': 264, 'min_samples_split': 0.7348101816716633, 'min_samples_leaf': 0.4540472244346394, 'max_features': 'sqrt'}. Best is trial 0 with value: 0.80315269380253.\n",
      "[I 2023-11-02 11:31:50,511] Trial 6 finished with value: 0.5 and parameters: {'n_estimators': 329, 'min_samples_split': 0.8039634503855829, 'min_samples_leaf': 0.6441258340043403, 'max_features': 'log2'}. Best is trial 0 with value: 0.80315269380253.\n",
      "[I 2023-11-02 11:31:51,387] Trial 5 finished with value: 0.5 and parameters: {'n_estimators': 342, 'min_samples_split': 0.10502906447818727, 'min_samples_leaf': 0.8614200149051302, 'max_features': 'log2'}. Best is trial 0 with value: 0.80315269380253.\n",
      "[I 2023-11-02 11:31:51,544] Trial 10 finished with value: 0.5 and parameters: {'n_estimators': 140, 'min_samples_split': 0.21662465573149337, 'min_samples_leaf': 0.5952885503983482, 'max_features': 'sqrt'}. Best is trial 0 with value: 0.80315269380253.\n",
      "[I 2023-11-02 11:31:52,984] Trial 4 finished with value: 0.8222266640661429 and parameters: {'n_estimators': 182, 'min_samples_split': 0.3815477664351109, 'min_samples_leaf': 0.04702501864671349, 'max_features': 'sqrt'}. Best is trial 4 with value: 0.8222266640661429.\n",
      "[I 2023-11-02 11:31:56,900] Trial 8 finished with value: 0.5 and parameters: {'n_estimators': 266, 'min_samples_split': 0.6685970421461627, 'min_samples_leaf': 0.4104646375506994, 'max_features': 'sqrt'}. Best is trial 4 with value: 0.8222266640661429.\n",
      "[I 2023-11-02 11:32:02,791] Trial 11 finished with value: 0.5 and parameters: {'n_estimators': 246, 'min_samples_split': 0.7069891155769953, 'min_samples_leaf': 0.20964680721664575, 'max_features': 'log2'}. Best is trial 4 with value: 0.8222266640661429.\n",
      "[I 2023-11-02 11:32:03,145] Trial 12 finished with value: 0.5 and parameters: {'n_estimators': 203, 'min_samples_split': 0.4447907730493793, 'min_samples_leaf': 0.3584333260469692, 'max_features': 'log2'}. Best is trial 4 with value: 0.8222266640661429.\n",
      "[I 2023-11-02 11:32:07,034] Trial 9 finished with value: 0.5 and parameters: {'n_estimators': 375, 'min_samples_split': 0.5928782186210868, 'min_samples_leaf': 0.8774708327001316, 'max_features': 'log2'}. Best is trial 4 with value: 0.8222266640661429.\n",
      "[I 2023-11-02 11:32:12,252] Trial 13 finished with value: 0.5 and parameters: {'n_estimators': 300, 'min_samples_split': 0.6864490971801838, 'min_samples_leaf': 0.5365701007383881, 'max_features': 'sqrt'}. Best is trial 4 with value: 0.8222266640661429.\n",
      "[I 2023-11-02 11:32:12,622] Trial 17 finished with value: 0.5 and parameters: {'n_estimators': 220, 'min_samples_split': 0.9849698959010056, 'min_samples_leaf': 0.0034113459544721433, 'max_features': 'sqrt'}. Best is trial 4 with value: 0.8222266640661429.\n",
      "[I 2023-11-02 11:32:16,017] Trial 15 finished with value: 0.5 and parameters: {'n_estimators': 382, 'min_samples_split': 0.6408193805419091, 'min_samples_leaf': 0.6108271282651128, 'max_features': 'log2'}. Best is trial 4 with value: 0.8222266640661429.\n",
      "[I 2023-11-02 11:32:18,381] Trial 16 finished with value: 0.5 and parameters: {'n_estimators': 387, 'min_samples_split': 0.5970021015924175, 'min_samples_leaf': 0.8909193708407537, 'max_features': 'log2'}. Best is trial 4 with value: 0.8222266640661429.\n",
      "[I 2023-11-02 11:33:14,940] Trial 24 finished with value: 0.8201689027296457 and parameters: {'n_estimators': 101, 'min_samples_split': 0.39225839089711373, 'min_samples_leaf': 0.009337790621328557, 'max_features': 'sqrt'}. Best is trial 4 with value: 0.8222266640661429.\n",
      "[I 2023-11-02 11:33:17,114] Trial 22 finished with value: 0.825967026735882 and parameters: {'n_estimators': 114, 'min_samples_split': 0.3646178293916943, 'min_samples_leaf': 0.004791403459371818, 'max_features': 'log2'}. Best is trial 22 with value: 0.825967026735882.\n",
      "[I 2023-11-02 11:33:18,538] Trial 18 finished with value: 0.8217558896051811 and parameters: {'n_estimators': 200, 'min_samples_split': 0.3944697429719711, 'min_samples_leaf': 0.04080062526249825, 'max_features': 'log2'}. Best is trial 22 with value: 0.825967026735882.\n",
      "[I 2023-11-02 11:33:18,563] Trial 23 finished with value: 0.8216963444987941 and parameters: {'n_estimators': 115, 'min_samples_split': 0.3862095996411761, 'min_samples_leaf': 0.015728634716754716, 'max_features': 'log2'}. Best is trial 22 with value: 0.825967026735882.\n",
      "[I 2023-11-02 11:33:21,063] Trial 19 finished with value: 0.8177712111681303 and parameters: {'n_estimators': 213, 'min_samples_split': 0.41725491832067907, 'min_samples_leaf': 0.007212456876761919, 'max_features': 'sqrt'}. Best is trial 22 with value: 0.825967026735882.\n",
      "[I 2023-11-02 11:33:38,079] Trial 20 finished with value: 0.8189650518016592 and parameters: {'n_estimators': 214, 'min_samples_split': 0.40078447701891234, 'min_samples_leaf': 0.005141480231140361, 'max_features': 'sqrt'}. Best is trial 22 with value: 0.825967026735882.\n",
      "[I 2023-11-02 11:33:53,030] Trial 21 finished with value: 0.8226152249474621 and parameters: {'n_estimators': 200, 'min_samples_split': 0.3852552396346875, 'min_samples_leaf': 0.0072666732505429765, 'max_features': 'log2'}. Best is trial 22 with value: 0.825967026735882.\n",
      "[I 2023-11-02 11:34:14,755] Trial 14 finished with value: 0.838737482288237 and parameters: {'n_estimators': 294, 'min_samples_split': 0.18089781955963247, 'min_samples_leaf': 0.07292596534914397, 'max_features': 'sqrt'}. Best is trial 14 with value: 0.838737482288237.\n",
      "[I 2023-11-02 11:34:19,141] Trial 25 finished with value: 0.8286329296063177 and parameters: {'n_estimators': 106, 'min_samples_split': 0.3366046684108061, 'min_samples_leaf': 0.004268208792301035, 'max_features': 'sqrt'}. Best is trial 14 with value: 0.838737482288237.\n",
      "[I 2023-11-02 11:34:28,254] Trial 27 finished with value: 0.8264430000917073 and parameters: {'n_estimators': 164, 'min_samples_split': 0.28228318359085036, 'min_samples_leaf': 0.12456905925271303, 'max_features': 'log2'}. Best is trial 14 with value: 0.838737482288237.\n",
      "[I 2023-11-02 11:34:31,287] Trial 26 finished with value: 0.8262673032783392 and parameters: {'n_estimators': 186, 'min_samples_split': 0.29366297954168175, 'min_samples_leaf': 0.12492332699354994, 'max_features': 'sqrt'}. Best is trial 14 with value: 0.838737482288237.\n",
      "[I 2023-11-02 11:34:31,924] Trial 29 finished with value: 0.8265671923255271 and parameters: {'n_estimators': 177, 'min_samples_split': 0.28350367200633464, 'min_samples_leaf': 0.13515124319097477, 'max_features': 'log2'}. Best is trial 14 with value: 0.838737482288237.\n",
      "[I 2023-11-02 11:34:34,458] Trial 28 finished with value: 0.8258104786470732 and parameters: {'n_estimators': 185, 'min_samples_split': 0.32855471410301984, 'min_samples_leaf': 0.11236148980529893, 'max_features': 'log2'}. Best is trial 14 with value: 0.838737482288237.\n",
      "[I 2023-11-02 11:34:54,819] Trial 30 finished with value: 0.8263592042397148 and parameters: {'n_estimators': 180, 'min_samples_split': 0.29949458602632084, 'min_samples_leaf': 0.13343663550376716, 'max_features': 'log2'}. Best is trial 14 with value: 0.838737482288237.\n",
      "[I 2023-11-02 11:35:06,550] Trial 31 finished with value: 0.8259077076684023 and parameters: {'n_estimators': 176, 'min_samples_split': 0.30277607534965045, 'min_samples_leaf': 0.1303552441862173, 'max_features': 'log2'}. Best is trial 14 with value: 0.838737482288237.\n",
      "[I 2023-11-02 11:35:06,563] Trial 36 finished with value: 0.8003977638939658 and parameters: {'n_estimators': 132, 'min_samples_split': 0.07408866890483505, 'min_samples_leaf': 0.2879930990453013, 'max_features': 'sqrt'}. Best is trial 14 with value: 0.838737482288237.\n",
      "[I 2023-11-02 11:35:31,706] Trial 38 finished with value: 0.8045156115385759 and parameters: {'n_estimators': 129, 'min_samples_split': 0.011617849861097707, 'min_samples_leaf': 0.24627141396897864, 'max_features': 'sqrt'}. Best is trial 14 with value: 0.838737482288237.\n",
      "[I 2023-11-02 11:35:41,786] Trial 37 finished with value: 0.8084287325158905 and parameters: {'n_estimators': 295, 'min_samples_split': 0.014184034916528837, 'min_samples_leaf': 0.2549312155237292, 'max_features': 'sqrt'}. Best is trial 14 with value: 0.838737482288237.\n",
      "[I 2023-11-02 11:35:45,285] Trial 40 finished with value: 0.8071114100565355 and parameters: {'n_estimators': 152, 'min_samples_split': 0.21456918294902932, 'min_samples_leaf': 0.21182961005377599, 'max_features': 'sqrt'}. Best is trial 14 with value: 0.838737482288237.\n",
      "[I 2023-11-02 11:35:48,022] Trial 39 finished with value: 0.8033153449418304 and parameters: {'n_estimators': 144, 'min_samples_split': 0.23559997102858943, 'min_samples_leaf': 0.21683727037772704, 'max_features': 'sqrt'}. Best is trial 14 with value: 0.838737482288237.\n",
      "[I 2023-11-02 11:36:01,532] Trial 32 finished with value: 0.8286334139754044 and parameters: {'n_estimators': 291, 'min_samples_split': 0.3024817646438161, 'min_samples_leaf': 0.13255201691861696, 'max_features': 'log2'}. Best is trial 14 with value: 0.838737482288237.\n",
      "[I 2023-11-02 11:36:16,652] Trial 34 finished with value: 0.828267456984796 and parameters: {'n_estimators': 285, 'min_samples_split': 0.2915003507808305, 'min_samples_leaf': 0.12665267177775072, 'max_features': 'sqrt'}. Best is trial 14 with value: 0.838737482288237.\n",
      "[I 2023-11-02 11:36:20,790] Trial 33 finished with value: 0.8325003907243966 and parameters: {'n_estimators': 302, 'min_samples_split': 0.2527388374548295, 'min_samples_leaf': 0.1229849378160096, 'max_features': 'sqrt'}. Best is trial 14 with value: 0.838737482288237.\n",
      "[I 2023-11-02 11:36:38,956] Trial 42 finished with value: 0.8225222260828232 and parameters: {'n_estimators': 164, 'min_samples_split': 0.2214192342456823, 'min_samples_leaf': 0.16489841623281148, 'max_features': 'sqrt'}. Best is trial 14 with value: 0.838737482288237.\n",
      "[I 2023-11-02 11:36:41,860] Trial 35 finished with value: 0.8339389023292341 and parameters: {'n_estimators': 304, 'min_samples_split': 0.03917778957906615, 'min_samples_leaf': 0.12020728927617702, 'max_features': 'sqrt'}. Best is trial 14 with value: 0.838737482288237.\n",
      "[I 2023-11-02 11:37:01,184] Trial 41 finished with value: 0.820588656980146 and parameters: {'n_estimators': 307, 'min_samples_split': 0.18308929883173658, 'min_samples_leaf': 0.18896794643951265, 'max_features': 'sqrt'}. Best is trial 14 with value: 0.838737482288237.\n",
      "[I 2023-11-02 11:37:48,693] Trial 45 finished with value: 0.819228936080072 and parameters: {'n_estimators': 296, 'min_samples_split': 0.47951031496159746, 'min_samples_leaf': 0.08929724384430192, 'max_features': 'log2'}. Best is trial 14 with value: 0.838737482288237.\n",
      "[I 2023-11-02 11:38:05,348] Trial 44 finished with value: 0.8356264119358876 and parameters: {'n_estimators': 238, 'min_samples_split': 0.14164285727205728, 'min_samples_leaf': 0.09476615775933774, 'max_features': 'log2'}. Best is trial 14 with value: 0.838737482288237.\n",
      "[I 2023-11-02 11:38:09,241] Trial 43 finished with value: 0.8353116689033755 and parameters: {'n_estimators': 238, 'min_samples_split': 0.2322504477721512, 'min_samples_leaf': 0.08112684417984517, 'max_features': 'log2'}. Best is trial 14 with value: 0.838737482288237.\n",
      "[I 2023-11-02 11:40:38,027] Trial 46 finished with value: 0.8405054617458211 and parameters: {'n_estimators': 302, 'min_samples_split': 0.15170029665583457, 'min_samples_leaf': 0.06923545341562748, 'max_features': 'sqrt'}. Best is trial 46 with value: 0.8405054617458211.\n",
      "[I 2023-11-02 11:40:41,643] Trial 47 finished with value: 0.8407015989346464 and parameters: {'n_estimators': 326, 'min_samples_split': 0.15110614059962488, 'min_samples_leaf': 0.07853411245836757, 'max_features': 'sqrt'}. Best is trial 47 with value: 0.8407015989346464.\n",
      "[I 2023-11-02 11:40:51,825] Trial 48 finished with value: 0.8404465624648831 and parameters: {'n_estimators': 300, 'min_samples_split': 0.15496359417511407, 'min_samples_leaf': 0.07262741293237236, 'max_features': 'sqrt'}. Best is trial 47 with value: 0.8407015989346464.\n",
      "[I 2023-11-02 11:41:04,175] Trial 49 finished with value: 0.8387392583082215 and parameters: {'n_estimators': 332, 'min_samples_split': 0.08463513128259398, 'min_samples_leaf': 0.08374983671425865, 'max_features': 'sqrt'}. Best is trial 47 with value: 0.8407015989346464.\n",
      "[I 2023-11-02 11:41:35,517] Trial 50 finished with value: 0.8386519427075328 and parameters: {'n_estimators': 343, 'min_samples_split': 0.13032192286363922, 'min_samples_leaf': 0.08453755467873614, 'max_features': 'sqrt'}. Best is trial 47 with value: 0.8407015989346464.\n",
      "[I 2023-11-02 11:42:48,945] Trial 51 finished with value: 0.8418162936594149 and parameters: {'n_estimators': 329, 'min_samples_split': 0.12710736655553134, 'min_samples_leaf': 0.07368895134438089, 'max_features': 'sqrt'}. Best is trial 51 with value: 0.8418162936594149.\n",
      "[I 2023-11-02 11:43:17,380] Trial 53 finished with value: 0.8411625245575126 and parameters: {'n_estimators': 327, 'min_samples_split': 0.1289833459614243, 'min_samples_leaf': 0.07597518323223826, 'max_features': 'sqrt'}. Best is trial 51 with value: 0.8418162936594149.\n",
      "[I 2023-11-02 11:43:27,700] Trial 52 finished with value: 0.8417915585447228 and parameters: {'n_estimators': 324, 'min_samples_split': 0.1378380758190585, 'min_samples_leaf': 0.06996643995848587, 'max_features': 'sqrt'}. Best is trial 51 with value: 0.8418162936594149.\n",
      "[I 2023-11-02 11:43:41,865] Trial 56 finished with value: 0.823415499552443 and parameters: {'n_estimators': 347, 'min_samples_split': 0.1314580848801091, 'min_samples_leaf': 0.18081116057289479, 'max_features': 'sqrt'}. Best is trial 51 with value: 0.8418162936594149.\n",
      "[I 2023-11-02 11:44:52,580] Trial 54 finished with value: 0.840875584310575 and parameters: {'n_estimators': 240, 'min_samples_split': 0.1283253492569557, 'min_samples_leaf': 0.07083572266249913, 'max_features': 'sqrt'}. Best is trial 51 with value: 0.8418162936594149.\n",
      "[I 2023-11-02 11:46:23,306] Trial 55 finished with value: 0.8424459088895291 and parameters: {'n_estimators': 351, 'min_samples_split': 0.12748213460306654, 'min_samples_leaf': 0.06598173469964079, 'max_features': 'sqrt'}. Best is trial 55 with value: 0.8424459088895291.\n",
      "[I 2023-11-02 11:46:33,448] Trial 57 finished with value: 0.8422899420436242 and parameters: {'n_estimators': 350, 'min_samples_split': 0.12271811778490338, 'min_samples_leaf': 0.06694937193595467, 'max_features': 'sqrt'}. Best is trial 55 with value: 0.8424459088895291.\n",
      "[I 2023-11-02 11:46:42,615] Trial 58 finished with value: 0.8430759116149122 and parameters: {'n_estimators': 337, 'min_samples_split': 0.11534149197247581, 'min_samples_leaf': 0.06372941111762054, 'max_features': 'sqrt'}. Best is trial 58 with value: 0.8430759116149122.\n",
      "[I 2023-11-02 11:46:54,915] Trial 59 finished with value: 0.8447989093299819 and parameters: {'n_estimators': 325, 'min_samples_split': 0.08152573342026456, 'min_samples_leaf': 0.05728559623261389, 'max_features': 'sqrt'}. Best is trial 59 with value: 0.8447989093299819.\n"
     ]
    },
    {
     "data": {
      "text/plain": [
       "0.8447989093299819"
      ]
     },
     "execution_count": 10,
     "metadata": {},
     "output_type": "execute_result"
    }
   ],
   "source": [
    "import pandas as pd\n",
    "from Dongmen_Encoder_Exp.woe import WOEEncoder\n",
    "enc=WOEEncoder(cols=['sequence', 'm1_seq', 'p1_seq']).fit(X_train,y_train)\n",
    "woe_X_train=enc.transform(X_train, y_train)\n",
    "woe_X_validation=enc.transform(X_valid)\n",
    "\n",
    "\n",
    "study = optuna.create_study(study_name = 'target_encoder',pruner = optuna.pruners.HyperbandPruner(\n",
    "        min_resource=1, reduction_factor=3\n",
    "    ), direction = \"maximize\", )\n",
    "\n",
    "##Count Encoding's Results\n",
    "study.optimize(lambda trial: objective(trial, woe_X_train, y_train, woe_X_validation,y_valid), n_trials= 60, n_jobs = -1)\n",
    "woe_best_params=study.best_params\n",
    "woe_best_value=study.best_value\n",
    "woe_best_value\n",
    "#best result:0.8447989093299819"
   ]
  }
 ],
 "metadata": {
  "kernelspec": {
   "display_name": "wp",
   "language": "python",
   "name": "python3"
  },
  "language_info": {
   "codemirror_mode": {
    "name": "ipython",
    "version": 3
   },
   "file_extension": ".py",
   "mimetype": "text/x-python",
   "name": "python",
   "nbconvert_exporter": "python",
   "pygments_lexer": "ipython3",
   "version": "3.9.0"
  }
 },
 "nbformat": 4,
 "nbformat_minor": 2
}
