{
 "cells": [
  {
   "cell_type": "code",
   "execution_count": 1,
   "metadata": {},
   "outputs": [
    {
     "name": "stderr",
     "output_type": "stream",
     "text": [
      "c:\\Users\\dongm\\AppData\\Local\\Programs\\Python\\Python38\\lib\\site-packages\\tqdm\\auto.py:21: TqdmWarning: IProgress not found. Please update jupyter and ipywidgets. See https://ipywidgets.readthedocs.io/en/stable/user_install.html\n",
      "  from .autonotebook import tqdm as notebook_tqdm\n"
     ]
    }
   ],
   "source": [
    "import pandas as pd\n",
    "import numpy as np\n",
    "from pathlib import Path\n",
    "import os\n",
    "import optuna\n",
    "from sklearn.metrics import roc_auc_score\n",
    "from sklearn.ensemble import RandomForestClassifier"
   ]
  },
  {
   "cell_type": "code",
   "execution_count": 2,
   "metadata": {},
   "outputs": [
    {
     "data": {
      "text/plain": [
       "WindowsPath('C:/Users/dongm/Documents/GitHub/dsa4266_wooper/data')"
      ]
     },
     "execution_count": 2,
     "metadata": {},
     "output_type": "execute_result"
    }
   ],
   "source": [
    "path = Path(os.path.abspath(''))\n",
    "data_path = path.resolve().parents[0]/'data'\n",
    "data_path\n",
    "# this notebook should be in data_processing, the pkl files should be in data"
   ]
  },
  {
   "cell_type": "code",
   "execution_count": 4,
   "metadata": {},
   "outputs": [],
   "source": [
    "# perform various encodings based on train_df\n",
    "# https://github.com/scikit-learn-contrib/category_encoders\n",
    "# Generalized Linear Mixed Model Encoder\n",
    "# Target Encoder\n",
    "# Leave One Out Encoder\n",
    "# James Stein\n",
    "# Weight of evidence\n",
    "# M-estimate\n",
    "train_df = pd.read_pickle(data_path/'train.pkl')\n",
    "validation_df = pd.read_pickle(data_path/'validation.pkl')\n",
    "# OHE is the baseline to compare with\n",
    "train_df_OHE = pd.read_pickle(data_path/'train_OHE.pkl')\n",
    "validation_df_OHE = pd.read_pickle(data_path/'validation_OHE.pkl')\n",
    "X_train = train_df.drop(['label'], axis=1)\n",
    "y_train = train_df['label']\n",
    "X_valid = validation_df.drop(['label'], axis=1)\n",
    "y_valid = validation_df['label']\n",
    "def objective(trial, X_train, y_train, X_valid, y_valid):\n",
    "    n_estimators = trial.suggest_int('n_estimators', 100,400)\n",
    "    min_samples_split = trial.suggest_float('min_samples_split',0.0,1.0)\n",
    "    min_samples_leaf = trial.suggest_float('min_samples_leaf', 0.0,1.0)\n",
    "    max_features = trial.suggest_categorical('max_features', ['sqrt', 'log2'])\n",
    "    rf = RandomForestClassifier(n_estimators= n_estimators, min_samples_split = min_samples_split, min_samples_leaf= min_samples_leaf, random_state=42, n_jobs= -1, max_features= max_features)\n",
    "    rf.fit(X_train, y_train)\n",
    "    rf_probs = rf.predict_proba(X_valid)\n",
    "    true_probs = [entry[1] for entry in rf_probs]\n",
    "    return roc_auc_score(y_true=y_valid,y_score=true_probs)"
   ]
  },
  {
   "cell_type": "code",
   "execution_count": 7,
   "metadata": {},
   "outputs": [
    {
     "name": "stderr",
     "output_type": "stream",
     "text": [
      "[I 2023-11-02 03:00:23,215] A new study created in memory with name: label_encoder\n"
     ]
    }
   ],
   "source": [
    "# name study after encoding method used\n",
    "# create a new study for each encoding method \n",
    "study = optuna.create_study(study_name = 'label_encoder',pruner = optuna.pruners.HyperbandPruner(\n",
    "        min_resource=1, reduction_factor=3\n",
    "    ), direction = \"maximize\", )\n",
    "#study.optimize(lambda trial: objective(trial, X_train, y_train, X_valid, y_valid), n_trials= 60)\n",
    "# these 2 should be recorded for each study\n",
    "#study.best_params\n",
    "#study.best_value    "
   ]
  },
  {
   "cell_type": "markdown",
   "metadata": {},
   "source": [
    "Polynomial Encoder"
   ]
  },
  {
   "cell_type": "code",
   "execution_count": 10,
   "metadata": {},
   "outputs": [
    {
     "name": "stderr",
     "output_type": "stream",
     "text": [
      "c:\\Users\\dongm\\AppData\\Local\\Programs\\Python\\Python38\\lib\\site-packages\\category_encoders\\base_contrast_encoder.py:126: FutureWarning: Intercept column might not be added anymore in future releases (c.f. issue #370)\n",
      "  warnings.warn(\"Intercept column might not be added anymore in future releases (c.f. issue #370)\",\n",
      "c:\\Users\\dongm\\AppData\\Local\\Programs\\Python\\Python38\\lib\\site-packages\\category_encoders\\base_contrast_encoder.py:126: FutureWarning: Intercept column might not be added anymore in future releases (c.f. issue #370)\n",
      "  warnings.warn(\"Intercept column might not be added anymore in future releases (c.f. issue #370)\",\n",
      "c:\\Users\\dongm\\AppData\\Local\\Programs\\Python\\Python38\\lib\\site-packages\\category_encoders\\base_contrast_encoder.py:126: FutureWarning: Intercept column might not be added anymore in future releases (c.f. issue #370)\n",
      "  warnings.warn(\"Intercept column might not be added anymore in future releases (c.f. issue #370)\",\n",
      "c:\\Users\\dongm\\AppData\\Local\\Programs\\Python\\Python38\\lib\\site-packages\\category_encoders\\base_contrast_encoder.py:126: FutureWarning: Intercept column might not be added anymore in future releases (c.f. issue #370)\n",
      "  warnings.warn(\"Intercept column might not be added anymore in future releases (c.f. issue #370)\",\n",
      "[I 2023-11-02 03:11:28,396] Trial 0 finished with value: 0.5637307011210237 and parameters: {'n_estimators': 176, 'min_samples_split': 0.5930264847966491, 'min_samples_leaf': 0.04322578889509421, 'max_features': 'sqrt'}. Best is trial 0 with value: 0.5637307011210237.\n",
      "[I 2023-11-02 03:11:31,683] Trial 1 finished with value: 0.5 and parameters: {'n_estimators': 352, 'min_samples_split': 0.7649948974824452, 'min_samples_leaf': 0.4022096364477704, 'max_features': 'log2'}. Best is trial 0 with value: 0.5637307011210237.\n",
      "[I 2023-11-02 03:11:40,877] Trial 2 finished with value: 0.5751156027553497 and parameters: {'n_estimators': 305, 'min_samples_split': 0.1917928821384235, 'min_samples_leaf': 0.1358745109748808, 'max_features': 'sqrt'}. Best is trial 2 with value: 0.5751156027553497.\n",
      "[I 2023-11-02 03:11:42,327] Trial 3 finished with value: 0.5 and parameters: {'n_estimators': 107, 'min_samples_split': 0.467997065825871, 'min_samples_leaf': 0.39319765602854706, 'max_features': 'sqrt'}. Best is trial 2 with value: 0.5751156027553497.\n",
      "[I 2023-11-02 03:11:46,034] Trial 4 finished with value: 0.5 and parameters: {'n_estimators': 390, 'min_samples_split': 0.6616541227286773, 'min_samples_leaf': 0.765781218115539, 'max_features': 'sqrt'}. Best is trial 2 with value: 0.5751156027553497.\n",
      "[I 2023-11-02 03:11:48,741] Trial 5 finished with value: 0.5 and parameters: {'n_estimators': 232, 'min_samples_split': 0.9989378712867618, 'min_samples_leaf': 0.4578593406718622, 'max_features': 'sqrt'}. Best is trial 2 with value: 0.5751156027553497.\n",
      "[I 2023-11-02 03:11:50,209] Trial 6 finished with value: 0.5 and parameters: {'n_estimators': 218, 'min_samples_split': 0.38620632493543106, 'min_samples_leaf': 0.5780250875061669, 'max_features': 'log2'}. Best is trial 2 with value: 0.5751156027553497.\n",
      "[I 2023-11-02 03:11:55,448] Trial 7 finished with value: 0.5776763329514352 and parameters: {'n_estimators': 330, 'min_samples_split': 0.4693801028459297, 'min_samples_leaf': 0.20816203657385957, 'max_features': 'sqrt'}. Best is trial 7 with value: 0.5776763329514352.\n",
      "[I 2023-11-02 03:11:57,356] Trial 8 finished with value: 0.5 and parameters: {'n_estimators': 110, 'min_samples_split': 0.6629327930435522, 'min_samples_leaf': 0.7586860085144161, 'max_features': 'log2'}. Best is trial 7 with value: 0.5776763329514352.\n",
      "[I 2023-11-02 03:11:58,793] Trial 9 finished with value: 0.5 and parameters: {'n_estimators': 166, 'min_samples_split': 0.714511731525199, 'min_samples_leaf': 0.20015335294814762, 'max_features': 'sqrt'}. Best is trial 7 with value: 0.5776763329514352.\n",
      "[I 2023-11-02 03:12:01,744] Trial 10 finished with value: 0.5 and parameters: {'n_estimators': 302, 'min_samples_split': 0.04644434936403086, 'min_samples_leaf': 0.9393122153966461, 'max_features': 'log2'}. Best is trial 7 with value: 0.5776763329514352.\n",
      "[I 2023-11-02 03:12:17,724] Trial 11 finished with value: 0.5801327623375265 and parameters: {'n_estimators': 316, 'min_samples_split': 0.21200401105245031, 'min_samples_leaf': 0.03403288789560657, 'max_features': 'sqrt'}. Best is trial 11 with value: 0.5801327623375265.\n",
      "[I 2023-11-02 03:12:29,138] Trial 12 finished with value: 0.5719733067425469 and parameters: {'n_estimators': 297, 'min_samples_split': 0.30941211249257894, 'min_samples_leaf': 0.009424465261121166, 'max_features': 'sqrt'}. Best is trial 11 with value: 0.5801327623375265.\n",
      "[I 2023-11-02 03:12:37,215] Trial 13 finished with value: 0.5651093769980224 and parameters: {'n_estimators': 337, 'min_samples_split': 0.2568340469642646, 'min_samples_leaf': 0.2363154481391404, 'max_features': 'sqrt'}. Best is trial 11 with value: 0.5801327623375265.\n",
      "[I 2023-11-02 03:12:42,162] Trial 14 finished with value: 0.5735915838610803 and parameters: {'n_estimators': 269, 'min_samples_split': 0.12631065631005522, 'min_samples_leaf': 0.2483841318998259, 'max_features': 'sqrt'}. Best is trial 11 with value: 0.5801327623375265.\n",
      "[I 2023-11-02 03:12:54,208] Trial 15 finished with value: 0.559069714273905 and parameters: {'n_estimators': 398, 'min_samples_split': 0.38532418542808233, 'min_samples_leaf': 0.007246849350523395, 'max_features': 'sqrt'}. Best is trial 11 with value: 0.5801327623375265.\n",
      "[I 2023-11-02 03:13:04,227] Trial 16 finished with value: 0.5861572804548678 and parameters: {'n_estimators': 345, 'min_samples_split': 0.07794086569289893, 'min_samples_leaf': 0.11904035095293691, 'max_features': 'sqrt'}. Best is trial 16 with value: 0.5861572804548678.\n",
      "[I 2023-11-02 03:13:15,024] Trial 17 finished with value: 0.5852832202923524 and parameters: {'n_estimators': 365, 'min_samples_split': 0.02902473156449953, 'min_samples_leaf': 0.11459902084785493, 'max_features': 'sqrt'}. Best is trial 16 with value: 0.5861572804548678.\n",
      "[I 2023-11-02 03:13:18,267] Trial 18 finished with value: 0.5 and parameters: {'n_estimators': 363, 'min_samples_split': 0.035217835545308725, 'min_samples_leaf': 0.3206429987892516, 'max_features': 'log2'}. Best is trial 16 with value: 0.5861572804548678.\n",
      "[I 2023-11-02 03:13:29,033] Trial 19 finished with value: 0.5807930219851899 and parameters: {'n_estimators': 373, 'min_samples_split': 0.012172878054731662, 'min_samples_leaf': 0.14519649844467136, 'max_features': 'sqrt'}. Best is trial 16 with value: 0.5861572804548678.\n",
      "[I 2023-11-02 03:13:38,751] Trial 20 finished with value: 0.5727146820665898 and parameters: {'n_estimators': 264, 'min_samples_split': 0.12770137797187592, 'min_samples_leaf': 0.11222456534058678, 'max_features': 'sqrt'}. Best is trial 16 with value: 0.5861572804548678.\n",
      "[I 2023-11-02 03:13:47,783] Trial 21 finished with value: 0.5665404293189255 and parameters: {'n_estimators': 378, 'min_samples_split': 0.05810582254217496, 'min_samples_leaf': 0.1619314948185414, 'max_features': 'sqrt'}. Best is trial 16 with value: 0.5861572804548678.\n",
      "[I 2023-11-02 03:13:53,275] Trial 22 finished with value: 0.5984929017324914 and parameters: {'n_estimators': 363, 'min_samples_split': 0.03935630299187025, 'min_samples_leaf': 0.29671156826664713, 'max_features': 'sqrt'}. Best is trial 22 with value: 0.5984929017324914.\n",
      "[I 2023-11-02 03:13:58,289] Trial 23 finished with value: 0.6563492391530387 and parameters: {'n_estimators': 350, 'min_samples_split': 0.13276428850767588, 'min_samples_leaf': 0.30918587450205837, 'max_features': 'sqrt'}. Best is trial 23 with value: 0.6563492391530387.\n",
      "[I 2023-11-02 03:14:03,657] Trial 24 finished with value: 0.625578853349832 and parameters: {'n_estimators': 342, 'min_samples_split': 0.15938370797201074, 'min_samples_leaf': 0.2975651361690952, 'max_features': 'sqrt'}. Best is trial 23 with value: 0.6563492391530387.\n",
      "[I 2023-11-02 03:14:06,023] Trial 25 finished with value: 0.5 and parameters: {'n_estimators': 289, 'min_samples_split': 0.13330154620901236, 'min_samples_leaf': 0.335279830511868, 'max_features': 'sqrt'}. Best is trial 23 with value: 0.6563492391530387.\n",
      "[I 2023-11-02 03:14:10,182] Trial 26 finished with value: 0.5899840868609396 and parameters: {'n_estimators': 328, 'min_samples_split': 0.2045957804723268, 'min_samples_leaf': 0.2783686393988916, 'max_features': 'log2'}. Best is trial 23 with value: 0.6563492391530387.\n",
      "[I 2023-11-02 03:14:12,302] Trial 27 finished with value: 0.5 and parameters: {'n_estimators': 278, 'min_samples_split': 0.2965656170236816, 'min_samples_leaf': 0.3641970374080377, 'max_features': 'sqrt'}. Best is trial 23 with value: 0.6563492391530387.\n",
      "[I 2023-11-02 03:14:14,560] Trial 28 finished with value: 0.5 and parameters: {'n_estimators': 237, 'min_samples_split': 0.14304053632457028, 'min_samples_leaf': 0.4890121796649839, 'max_features': 'sqrt'}. Best is trial 23 with value: 0.6563492391530387.\n",
      "[I 2023-11-02 03:14:18,104] Trial 29 finished with value: 0.5466761301622443 and parameters: {'n_estimators': 195, 'min_samples_split': 0.10274563123830036, 'min_samples_leaf': 0.28274241375628956, 'max_features': 'sqrt'}. Best is trial 23 with value: 0.6563492391530387.\n",
      "[I 2023-11-02 03:14:20,852] Trial 30 finished with value: 0.5 and parameters: {'n_estimators': 352, 'min_samples_split': 0.17700744772472454, 'min_samples_leaf': 0.3212777335956378, 'max_features': 'sqrt'}. Best is trial 23 with value: 0.6563492391530387.\n",
      "[I 2023-11-02 03:14:25,359] Trial 31 finished with value: 0.5928265584090994 and parameters: {'n_estimators': 323, 'min_samples_split': 0.23036325540811206, 'min_samples_leaf': 0.28083320432110376, 'max_features': 'log2'}. Best is trial 23 with value: 0.6563492391530387.\n",
      "[I 2023-11-02 03:14:27,871] Trial 32 finished with value: 0.5 and parameters: {'n_estimators': 318, 'min_samples_split': 0.2422729835685964, 'min_samples_leaf': 0.4171689072715684, 'max_features': 'log2'}. Best is trial 23 with value: 0.6563492391530387.\n",
      "[I 2023-11-02 03:14:32,367] Trial 33 finished with value: 0.5928063763638218 and parameters: {'n_estimators': 348, 'min_samples_split': 0.1718684741970422, 'min_samples_leaf': 0.27820688695531554, 'max_features': 'log2'}. Best is trial 23 with value: 0.6563492391530387.\n",
      "[I 2023-11-02 03:14:35,321] Trial 34 finished with value: 0.5 and parameters: {'n_estimators': 387, 'min_samples_split': 0.07893768932976569, 'min_samples_leaf': 0.38516714796029894, 'max_features': 'log2'}. Best is trial 23 with value: 0.6563492391530387.\n",
      "[I 2023-11-02 03:14:40,776] Trial 35 finished with value: 0.6174849813291863 and parameters: {'n_estimators': 357, 'min_samples_split': 0.18046897316031768, 'min_samples_leaf': 0.19887305780133147, 'max_features': 'log2'}. Best is trial 23 with value: 0.6563492391530387.\n",
      "[I 2023-11-02 03:14:54,408] Trial 36 finished with value: 0.5993453267424693 and parameters: {'n_estimators': 400, 'min_samples_split': 0.007539190523753854, 'min_samples_leaf': 0.07940243684054546, 'max_features': 'log2'}. Best is trial 23 with value: 0.6563492391530387.\n",
      "[I 2023-11-02 03:15:01,755] Trial 37 finished with value: 0.6013660822807454 and parameters: {'n_estimators': 399, 'min_samples_split': 0.10261994255912545, 'min_samples_leaf': 0.1901665079800161, 'max_features': 'log2'}. Best is trial 23 with value: 0.6563492391530387.\n",
      "[I 2023-11-02 03:15:10,264] Trial 38 finished with value: 0.6020685466214933 and parameters: {'n_estimators': 384, 'min_samples_split': 0.17742260648313618, 'min_samples_leaf': 0.1915108970088477, 'max_features': 'log2'}. Best is trial 23 with value: 0.6563492391530387.\n",
      "[I 2023-11-02 03:15:19,576] Trial 39 finished with value: 0.5883448204153174 and parameters: {'n_estimators': 378, 'min_samples_split': 0.30354545676406686, 'min_samples_leaf': 0.22535489546427895, 'max_features': 'log2'}. Best is trial 23 with value: 0.6563492391530387.\n",
      "[I 2023-11-02 03:15:27,561] Trial 40 finished with value: 0.5743689962451708 and parameters: {'n_estimators': 343, 'min_samples_split': 0.3748711665094966, 'min_samples_leaf': 0.06552352021901905, 'max_features': 'log2'}. Best is trial 23 with value: 0.6563492391530387.\n",
      "[I 2023-11-02 03:15:35,956] Trial 41 finished with value: 0.5942945196544058 and parameters: {'n_estimators': 383, 'min_samples_split': 0.0980958974416537, 'min_samples_leaf': 0.18396880349429998, 'max_features': 'log2'}. Best is trial 23 with value: 0.6563492391530387.\n",
      "[I 2023-11-02 03:15:44,432] Trial 42 finished with value: 0.5861357098848752 and parameters: {'n_estimators': 363, 'min_samples_split': 0.17654788441104802, 'min_samples_leaf': 0.18078090303388977, 'max_features': 'log2'}. Best is trial 23 with value: 0.6563492391530387.\n",
      "[I 2023-11-02 03:15:52,525] Trial 43 finished with value: 0.5969293583207504 and parameters: {'n_estimators': 399, 'min_samples_split': 0.16127497090233558, 'min_samples_leaf': 0.21127853727294835, 'max_features': 'log2'}. Best is trial 23 with value: 0.6563492391530387.\n",
      "[I 2023-11-02 03:15:55,584] Trial 44 finished with value: 0.5778622338068955 and parameters: {'n_estimators': 139, 'min_samples_split': 0.2614992789336855, 'min_samples_leaf': 0.17026040660278108, 'max_features': 'log2'}. Best is trial 23 with value: 0.6563492391530387.\n",
      "[I 2023-11-02 03:15:59,418] Trial 45 finished with value: 0.5 and parameters: {'n_estimators': 354, 'min_samples_split': 0.09340417949152319, 'min_samples_leaf': 0.43068496811390233, 'max_features': 'log2'}. Best is trial 23 with value: 0.6563492391530387.\n",
      "[I 2023-11-02 03:16:04,101] Trial 46 finished with value: 0.5879570668158093 and parameters: {'n_estimators': 310, 'min_samples_split': 0.21238460017878477, 'min_samples_leaf': 0.24013410433747914, 'max_features': 'log2'}. Best is trial 23 with value: 0.6563492391530387.\n",
      "[I 2023-11-02 03:16:07,798] Trial 47 finished with value: 0.5 and parameters: {'n_estimators': 387, 'min_samples_split': 0.5733000646159688, 'min_samples_leaf': 0.37089242148256485, 'max_features': 'log2'}. Best is trial 23 with value: 0.6563492391530387.\n",
      "[I 2023-11-02 03:16:17,907] Trial 48 finished with value: 0.6008055380823892 and parameters: {'n_estimators': 338, 'min_samples_split': 0.19237455357623068, 'min_samples_leaf': 0.06771208335315104, 'max_features': 'log2'}. Best is trial 23 with value: 0.6563492391530387.\n",
      "[I 2023-11-02 03:16:25,402] Trial 49 finished with value: 0.6035408026060348 and parameters: {'n_estimators': 370, 'min_samples_split': 0.12969781663519658, 'min_samples_leaf': 0.14584295709040437, 'max_features': 'log2'}. Best is trial 23 with value: 0.6563492391530387.\n",
      "[I 2023-11-02 03:16:32,010] Trial 50 finished with value: 0.5865723524708636 and parameters: {'n_estimators': 299, 'min_samples_split': 0.27022050292343064, 'min_samples_leaf': 0.13294980756462427, 'max_features': 'log2'}. Best is trial 23 with value: 0.6563492391530387.\n",
      "[I 2023-11-02 03:16:37,660] Trial 51 finished with value: 0.5942835729130473 and parameters: {'n_estimators': 371, 'min_samples_split': 0.14385324245401043, 'min_samples_leaf': 0.21479395402699364, 'max_features': 'log2'}. Best is trial 23 with value: 0.6563492391530387.\n",
      "[I 2023-11-02 03:16:44,211] Trial 52 finished with value: 0.6012952998115482 and parameters: {'n_estimators': 357, 'min_samples_split': 0.06505026920379725, 'min_samples_leaf': 0.162250045814072, 'max_features': 'log2'}. Best is trial 23 with value: 0.6563492391530387.\n",
      "[I 2023-11-02 03:16:48,678] Trial 53 finished with value: 0.6081332027904827 and parameters: {'n_estimators': 332, 'min_samples_split': 0.0018895593462665838, 'min_samples_leaf': 0.25082598537796297, 'max_features': 'log2'}. Best is trial 23 with value: 0.6563492391530387.\n",
      "[I 2023-11-02 03:16:53,216] Trial 54 finished with value: 0.6133250258653092 and parameters: {'n_estimators': 328, 'min_samples_split': 0.012303096024098065, 'min_samples_leaf': 0.24729742230776572, 'max_features': 'log2'}. Best is trial 23 with value: 0.6563492391530387.\n",
      "[I 2023-11-02 03:16:57,831] Trial 55 finished with value: 0.6029078613748591 and parameters: {'n_estimators': 340, 'min_samples_split': 0.012303233842559092, 'min_samples_leaf': 0.25495574249967046, 'max_features': 'log2'}. Best is trial 23 with value: 0.6563492391530387.\n",
      "[I 2023-11-02 03:17:00,495] Trial 56 finished with value: 0.5 and parameters: {'n_estimators': 330, 'min_samples_split': 0.05073427503485426, 'min_samples_leaf': 0.3177218911122793, 'max_features': 'sqrt'}. Best is trial 23 with value: 0.6563492391530387.\n",
      "[I 2023-11-02 03:17:05,678] Trial 57 finished with value: 0.5778210624345295 and parameters: {'n_estimators': 316, 'min_samples_split': 0.11968984121605211, 'min_samples_leaf': 0.24948528296997713, 'max_features': 'sqrt'}. Best is trial 23 with value: 0.6563492391530387.\n",
      "[I 2023-11-02 03:17:08,002] Trial 58 finished with value: 0.5 and parameters: {'n_estimators': 287, 'min_samples_split': 0.06273621986569143, 'min_samples_leaf': 0.3503180903272306, 'max_features': 'log2'}. Best is trial 23 with value: 0.6563492391530387.\n",
      "[I 2023-11-02 03:17:18,865] Trial 59 finished with value: 0.5932707894441122 and parameters: {'n_estimators': 331, 'min_samples_split': 0.008398504444498744, 'min_samples_leaf': 0.09512082589524601, 'max_features': 'sqrt'}. Best is trial 23 with value: 0.6563492391530387.\n"
     ]
    },
    {
     "data": {
      "text/plain": [
       "0.6563492391530387"
      ]
     },
     "execution_count": 10,
     "metadata": {},
     "output_type": "execute_result"
    }
   ],
   "source": [
    "import pandas as pd\n",
    "from Dongmen_Encoder_Exp.polynomial import PolynomialEncoder\n",
    "\n",
    "enc=PolynomialEncoder(cols=['sequence', 'm1_seq', 'p1_seq']).fit(X_train,y_train)\n",
    "polynomial_X_train=enc.transform(X_train)\n",
    "polynomial_X_validation=PolynomialEncoder(cols=['sequence', 'm1_seq', 'p1_seq']).fit_transform(X_valid,y_valid)\n",
    "\n",
    "##Count Encoding's Results\n",
    "study.optimize(lambda trial: objective(trial, polynomial_X_train, y_train, polynomial_X_validation,y_valid), n_trials= 60)\n",
    "polynomial_best_params=study.best_params\n",
    "polynomial_best_value=study.best_value\n",
    "polynomial_best_value\n",
    "#best result:0.6563492391530387"
   ]
  },
  {
   "cell_type": "markdown",
   "metadata": {},
   "source": [
    "Rankhot Encoder"
   ]
  },
  {
   "cell_type": "code",
   "execution_count": 12,
   "metadata": {},
   "outputs": [
    {
     "name": "stderr",
     "output_type": "stream",
     "text": [
      "[I 2023-11-02 03:24:32,743] Trial 74 finished with value: 0.8496969141168401 and parameters: {'n_estimators': 222, 'min_samples_split': 0.07549267368672152, 'min_samples_leaf': 0.00395279368785505, 'max_features': 'sqrt'}. Best is trial 72 with value: 0.8513686332912684.\n",
      "[I 2023-11-02 03:24:44,728] Trial 75 finished with value: 0.8460822936619983 and parameters: {'n_estimators': 215, 'min_samples_split': 0.09052269424971494, 'min_samples_leaf': 0.009337855356464982, 'max_features': 'sqrt'}. Best is trial 72 with value: 0.8513686332912684.\n",
      "[I 2023-11-02 03:24:55,642] Trial 76 finished with value: 0.8457447852824129 and parameters: {'n_estimators': 208, 'min_samples_split': 0.0908197503800126, 'min_samples_leaf': 0.007210264364580917, 'max_features': 'sqrt'}. Best is trial 72 with value: 0.8513686332912684.\n",
      "[I 2023-11-02 03:25:09,084] Trial 77 finished with value: 0.8499149447883825 and parameters: {'n_estimators': 225, 'min_samples_split': 0.07537567438517338, 'min_samples_leaf': 0.0017821451755274768, 'max_features': 'sqrt'}. Best is trial 72 with value: 0.8513686332912684.\n",
      "[I 2023-11-02 03:25:22,593] Trial 78 finished with value: 0.8507058226330819 and parameters: {'n_estimators': 231, 'min_samples_split': 0.0732109745535459, 'min_samples_leaf': 0.0012610411569487362, 'max_features': 'sqrt'}. Best is trial 72 with value: 0.8513686332912684.\n",
      "[I 2023-11-02 03:25:33,319] Trial 79 finished with value: 0.8285711241108598 and parameters: {'n_estimators': 231, 'min_samples_split': 0.12749038799693516, 'min_samples_leaf': 0.06652112723794715, 'max_features': 'sqrt'}. Best is trial 72 with value: 0.8513686332912684.\n",
      "[I 2023-11-02 03:25:45,510] Trial 80 finished with value: 0.8505042605104863 and parameters: {'n_estimators': 184, 'min_samples_split': 0.07345678901293146, 'min_samples_leaf': 0.002256193427135298, 'max_features': 'sqrt'}. Best is trial 72 with value: 0.8513686332912684.\n",
      "[I 2023-11-02 03:25:52,468] Trial 81 finished with value: 0.8112438533562902 and parameters: {'n_estimators': 187, 'min_samples_split': 0.15175617932112043, 'min_samples_leaf': 0.08828483818296308, 'max_features': 'sqrt'}. Best is trial 72 with value: 0.8513686332912684.\n",
      "[I 2023-11-02 03:26:08,112] Trial 82 finished with value: 0.852504123595491 and parameters: {'n_estimators': 230, 'min_samples_split': 0.06851673390833371, 'min_samples_leaf': 0.0020757937603635493, 'max_features': 'sqrt'}. Best is trial 82 with value: 0.852504123595491.\n",
      "[I 2023-11-02 03:26:22,406] Trial 83 finished with value: 0.8420102996242588 and parameters: {'n_estimators': 232, 'min_samples_split': 0.1104987401844942, 'min_samples_leaf': 0.005855992080775169, 'max_features': 'sqrt'}. Best is trial 82 with value: 0.852504123595491.\n",
      "[I 2023-11-02 03:26:31,436] Trial 84 finished with value: 0.8361249568911513 and parameters: {'n_estimators': 224, 'min_samples_split': 0.07306947484116699, 'min_samples_leaf': 0.057971835956057, 'max_features': 'sqrt'}. Best is trial 82 with value: 0.852504123595491.\n",
      "[I 2023-11-02 03:26:37,391] Trial 85 finished with value: 0.8117148538561592 and parameters: {'n_estimators': 165, 'min_samples_split': 0.1152925935225246, 'min_samples_leaf': 0.08791140638245401, 'max_features': 'sqrt'}. Best is trial 82 with value: 0.852504123595491.\n",
      "[I 2023-11-02 03:26:50,510] Trial 86 finished with value: 0.8376327978579261 and parameters: {'n_estimators': 241, 'min_samples_split': 0.1469865510112247, 'min_samples_leaf': 0.002462382499674169, 'max_features': 'sqrt'}. Best is trial 82 with value: 0.852504123595491.\n",
      "[I 2023-11-02 03:27:01,752] Trial 87 finished with value: 0.8346349084154931 and parameters: {'n_estimators': 265, 'min_samples_split': 0.0672778361554346, 'min_samples_leaf': 0.05960840531628274, 'max_features': 'sqrt'}. Best is trial 82 with value: 0.852504123595491.\n",
      "[I 2023-11-02 03:27:11,078] Trial 88 finished with value: 0.8451076138945469 and parameters: {'n_estimators': 201, 'min_samples_split': 0.02328425430857437, 'min_samples_leaf': 0.04403955052262021, 'max_features': 'sqrt'}. Best is trial 82 with value: 0.852504123595491.\n",
      "[I 2023-11-02 03:27:20,271] Trial 89 finished with value: 0.802483973841486 and parameters: {'n_estimators': 275, 'min_samples_split': 0.07401304264794442, 'min_samples_leaf': 0.09984610985984665, 'max_features': 'sqrt'}. Best is trial 82 with value: 0.852504123595491.\n",
      "[I 2023-11-02 03:27:33,975] Trial 90 finished with value: 0.8421836391747384 and parameters: {'n_estimators': 224, 'min_samples_split': 0.11312121301210418, 'min_samples_leaf': 0.0015888161934985115, 'max_features': 'sqrt'}. Best is trial 82 with value: 0.852504123595491.\n",
      "[I 2023-11-02 03:27:42,829] Trial 91 finished with value: 0.8103077293681373 and parameters: {'n_estimators': 180, 'min_samples_split': 0.20129867364295945, 'min_samples_leaf': 0.08231057092988367, 'max_features': 'sqrt'}. Best is trial 82 with value: 0.852504123595491.\n",
      "[I 2023-11-02 03:27:53,950] Trial 92 finished with value: 0.8424497192596775 and parameters: {'n_estimators': 217, 'min_samples_split': 0.021474895139446684, 'min_samples_leaf': 0.04842560959291231, 'max_features': 'sqrt'}. Best is trial 82 with value: 0.852504123595491.\n",
      "[I 2023-11-02 03:28:09,324] Trial 93 finished with value: 0.8473050349843646 and parameters: {'n_estimators': 242, 'min_samples_split': 0.031489301387209026, 'min_samples_leaf': 0.035697963851055434, 'max_features': 'sqrt'}. Best is trial 82 with value: 0.852504123595491.\n",
      "[I 2023-11-02 03:28:22,062] Trial 94 finished with value: 0.8495103997272033 and parameters: {'n_estimators': 241, 'min_samples_split': 0.06792207169833168, 'min_samples_leaf': 0.021721375859259963, 'max_features': 'sqrt'}. Best is trial 82 with value: 0.852504123595491.\n",
      "[I 2023-11-02 03:28:37,363] Trial 95 finished with value: 0.8532147253368949 and parameters: {'n_estimators': 242, 'min_samples_split': 0.02798341032545002, 'min_samples_leaf': 0.02152581675077067, 'max_features': 'sqrt'}. Best is trial 95 with value: 0.8532147253368949.\n",
      "[I 2023-11-02 03:28:46,526] Trial 96 finished with value: 0.827570288412729 and parameters: {'n_estimators': 242, 'min_samples_split': 0.02934804680446598, 'min_samples_leaf': 0.0693315156530386, 'max_features': 'sqrt'}. Best is trial 95 with value: 0.8532147253368949.\n",
      "[I 2023-11-02 03:28:52,617] Trial 97 finished with value: 0.7890077925298661 and parameters: {'n_estimators': 226, 'min_samples_split': 0.027463014290565302, 'min_samples_leaf': 0.12027104167503411, 'max_features': 'sqrt'}. Best is trial 95 with value: 0.8532147253368949.\n",
      "[I 2023-11-02 03:29:03,688] Trial 98 finished with value: 0.8364388926418522 and parameters: {'n_estimators': 208, 'min_samples_split': 0.15638947684733528, 'min_samples_leaf': 0.0011862256026011818, 'max_features': 'sqrt'}. Best is trial 95 with value: 0.8532147253368949.\n",
      "[I 2023-11-02 03:29:09,810] Trial 99 finished with value: 0.8321643677433438 and parameters: {'n_estimators': 165, 'min_samples_split': 0.10243295855440832, 'min_samples_leaf': 0.06312696050699518, 'max_features': 'sqrt'}. Best is trial 95 with value: 0.8532147253368949.\n",
      "[I 2023-11-02 03:29:25,798] Trial 100 finished with value: 0.8511544129898748 and parameters: {'n_estimators': 237, 'min_samples_split': 0.06095310618868716, 'min_samples_leaf': 0.017360294244021007, 'max_features': 'sqrt'}. Best is trial 95 with value: 0.8532147253368949.\n",
      "[I 2023-11-02 03:29:33,149] Trial 101 finished with value: 0.7995650365601786 and parameters: {'n_estimators': 261, 'min_samples_split': 0.0588426245426986, 'min_samples_leaf': 0.10369371816105304, 'max_features': 'sqrt'}. Best is trial 95 with value: 0.8532147253368949.\n",
      "[I 2023-11-02 03:29:46,594] Trial 102 finished with value: 0.8529031791403546 and parameters: {'n_estimators': 239, 'min_samples_split': 0.0012943307035228752, 'min_samples_leaf': 0.021711231563651907, 'max_features': 'sqrt'}. Best is trial 95 with value: 0.8532147253368949.\n",
      "[I 2023-11-02 03:29:58,288] Trial 103 finished with value: 0.850979394293228 and parameters: {'n_estimators': 235, 'min_samples_split': 0.058108986361125554, 'min_samples_leaf': 0.018403187580387146, 'max_features': 'sqrt'}. Best is trial 95 with value: 0.8532147253368949.\n",
      "[I 2023-11-02 03:30:05,966] Trial 104 finished with value: 0.8185844345733613 and parameters: {'n_estimators': 235, 'min_samples_split': 0.12975297564640625, 'min_samples_leaf': 0.08062639922019035, 'max_features': 'sqrt'}. Best is trial 95 with value: 0.8532147253368949.\n",
      "[I 2023-11-02 03:30:15,563] Trial 105 finished with value: 0.8414791081925543 and parameters: {'n_estimators': 207, 'min_samples_split': 0.005996677888022335, 'min_samples_leaf': 0.04966780607467207, 'max_features': 'sqrt'}. Best is trial 95 with value: 0.8532147253368949.\n",
      "[I 2023-11-02 03:30:25,802] Trial 106 finished with value: 0.8521608027868661 and parameters: {'n_estimators': 194, 'min_samples_split': 0.05511919005871094, 'min_samples_leaf': 0.01581272767399196, 'max_features': 'sqrt'}. Best is trial 95 with value: 0.8532147253368949.\n",
      "[I 2023-11-02 03:30:35,822] Trial 107 finished with value: 0.8576752479646811 and parameters: {'n_estimators': 183, 'min_samples_split': 0.027964619623577255, 'min_samples_leaf': 0.016607210165249412, 'max_features': 'sqrt'}. Best is trial 107 with value: 0.8576752479646811.\n",
      "[I 2023-11-02 03:30:43,023] Trial 108 finished with value: 0.8530811686340661 and parameters: {'n_estimators': 156, 'min_samples_split': 0.0013483731204743804, 'min_samples_leaf': 0.021467096924914664, 'max_features': 'sqrt'}. Best is trial 107 with value: 0.8576752479646811.\n",
      "[I 2023-11-02 03:30:48,165] Trial 109 finished with value: 0.8389364288177649 and parameters: {'n_estimators': 137, 'min_samples_split': 0.0011679870180741833, 'min_samples_leaf': 0.053754191443936616, 'max_features': 'sqrt'}. Best is trial 107 with value: 0.8576752479646811.\n",
      "[I 2023-11-02 03:30:56,040] Trial 110 finished with value: 0.8528749565682386 and parameters: {'n_estimators': 155, 'min_samples_split': 0.025494471141736863, 'min_samples_leaf': 0.022600121732058085, 'max_features': 'sqrt'}. Best is trial 107 with value: 0.8576752479646811.\n",
      "[I 2023-11-02 03:30:58,644] Trial 111 finished with value: 0.7886796163280174 and parameters: {'n_estimators': 147, 'min_samples_split': 0.026415095958172107, 'min_samples_leaf': 0.12211038260007145, 'max_features': 'sqrt'}. Best is trial 107 with value: 0.8576752479646811.\n",
      "[I 2023-11-02 03:31:06,743] Trial 112 finished with value: 0.8514850756197019 and parameters: {'n_estimators': 157, 'min_samples_split': 0.05181241869240302, 'min_samples_leaf': 0.021283566187746208, 'max_features': 'sqrt'}. Best is trial 107 with value: 0.8576752479646811.\n",
      "[I 2023-11-02 03:31:11,155] Trial 113 finished with value: 0.8241291366734564 and parameters: {'n_estimators': 149, 'min_samples_split': 0.05234080639651172, 'min_samples_leaf': 0.07384318304103936, 'max_features': 'sqrt'}. Best is trial 107 with value: 0.8576752479646811.\n",
      "[I 2023-11-02 03:31:19,676] Trial 114 finished with value: 0.8520740038465363 and parameters: {'n_estimators': 156, 'min_samples_split': 0.03632267447101349, 'min_samples_leaf': 0.02227012072174903, 'max_features': 'sqrt'}. Best is trial 107 with value: 0.8576752479646811.\n",
      "[I 2023-11-02 03:31:27,438] Trial 115 finished with value: 0.8508813579900879 and parameters: {'n_estimators': 158, 'min_samples_split': 0.02889704549739529, 'min_samples_leaf': 0.024784855979782857, 'max_features': 'sqrt'}. Best is trial 107 with value: 0.8576752479646811.\n",
      "[I 2023-11-02 03:31:32,133] Trial 116 finished with value: 0.841248354759669 and parameters: {'n_estimators': 123, 'min_samples_split': 0.020299187236492905, 'min_samples_leaf': 0.04830436303639918, 'max_features': 'sqrt'}. Best is trial 107 with value: 0.8576752479646811.\n",
      "[I 2023-11-02 03:31:36,452] Trial 117 finished with value: 0.8030627303175006 and parameters: {'n_estimators': 173, 'min_samples_split': 0.002353719428381834, 'min_samples_leaf': 0.09914730395205033, 'max_features': 'sqrt'}. Best is trial 107 with value: 0.8576752479646811.\n",
      "[I 2023-11-02 03:31:42,244] Trial 118 finished with value: 0.8271481768993403 and parameters: {'n_estimators': 191, 'min_samples_split': 0.05008331135483549, 'min_samples_leaf': 0.06943128778336627, 'max_features': 'sqrt'}. Best is trial 107 with value: 0.8576752479646811.\n",
      "[I 2023-11-02 03:31:49,712] Trial 119 finished with value: 0.8519952777243178 and parameters: {'n_estimators': 157, 'min_samples_split': 0.03904490400611959, 'min_samples_leaf': 0.023846352136488537, 'max_features': 'sqrt'}. Best is trial 107 with value: 0.8576752479646811.\n",
      "[I 2023-11-02 03:31:55,693] Trial 120 finished with value: 0.8434335374572302 and parameters: {'n_estimators': 159, 'min_samples_split': 0.09442114460437281, 'min_samples_leaf': 0.04282966740219912, 'max_features': 'sqrt'}. Best is trial 107 with value: 0.8576752479646811.\n",
      "[I 2023-11-02 03:32:00,314] Trial 121 finished with value: 0.8112713332291402 and parameters: {'n_estimators': 171, 'min_samples_split': 0.04068165389543407, 'min_samples_leaf': 0.08836155379729599, 'max_features': 'sqrt'}. Best is trial 107 with value: 0.8576752479646811.\n",
      "[I 2023-11-02 03:32:07,227] Trial 122 finished with value: 0.852880446084554 and parameters: {'n_estimators': 141, 'min_samples_split': 0.03797435205091275, 'min_samples_leaf': 0.023071557809433773, 'max_features': 'sqrt'}. Best is trial 107 with value: 0.8576752479646811.\n",
      "[I 2023-11-02 03:32:13,343] Trial 123 finished with value: 0.8517945551748056 and parameters: {'n_estimators': 128, 'min_samples_split': 0.0034568405793104894, 'min_samples_leaf': 0.02445204344560122, 'max_features': 'sqrt'}. Best is trial 107 with value: 0.8576752479646811.\n",
      "[I 2023-11-02 03:32:17,537] Trial 124 finished with value: 0.838211425168851 and parameters: {'n_estimators': 120, 'min_samples_split': 0.014328614448001308, 'min_samples_leaf': 0.05104046775042185, 'max_features': 'sqrt'}. Best is trial 107 with value: 0.8576752479646811.\n",
      "[I 2023-11-02 03:32:23,596] Trial 125 finished with value: 0.8505067792297368 and parameters: {'n_estimators': 133, 'min_samples_split': 0.02385936481905552, 'min_samples_leaf': 0.026373087718656398, 'max_features': 'sqrt'}. Best is trial 107 with value: 0.8576752479646811.\n",
      "[I 2023-11-02 03:32:26,922] Trial 126 finished with value: 0.7978468179534308 and parameters: {'n_estimators': 149, 'min_samples_split': 0.043182764428921196, 'min_samples_leaf': 0.11182049087128659, 'max_features': 'sqrt'}. Best is trial 107 with value: 0.8576752479646811.\n",
      "[I 2023-11-02 03:32:31,431] Trial 127 finished with value: 0.8246454741198368 and parameters: {'n_estimators': 158, 'min_samples_split': 0.0026284095740649015, 'min_samples_leaf': 0.07233714918536567, 'max_features': 'sqrt'}. Best is trial 107 with value: 0.8576752479646811.\n",
      "[I 2023-11-02 03:32:33,793] Trial 128 finished with value: 0.7711821705676676 and parameters: {'n_estimators': 129, 'min_samples_split': 0.09313848700810434, 'min_samples_leaf': 0.13715944777099903, 'max_features': 'sqrt'}. Best is trial 107 with value: 0.8576752479646811.\n",
      "[I 2023-11-02 03:32:37,897] Trial 129 finished with value: 0.8390823530779397 and parameters: {'n_estimators': 103, 'min_samples_split': 0.11428468516215001, 'min_samples_leaf': 0.021779606484173902, 'max_features': 'sqrt'}. Best is trial 107 with value: 0.8576752479646811.\n",
      "[I 2023-11-02 03:32:43,407] Trial 130 finished with value: 0.8412449964673349 and parameters: {'n_estimators': 147, 'min_samples_split': 0.049283869210104414, 'min_samples_leaf': 0.04885150057030964, 'max_features': 'sqrt'}. Best is trial 107 with value: 0.8576752479646811.\n",
      "[I 2023-11-02 03:32:48,374] Trial 131 finished with value: 0.8087195154242492 and parameters: {'n_estimators': 198, 'min_samples_split': 0.002141422889275109, 'min_samples_leaf': 0.09009628667272707, 'max_features': 'sqrt'}. Best is trial 107 with value: 0.8576752479646811.\n",
      "[I 2023-11-02 03:32:55,107] Trial 132 finished with value: 0.8507795113167993 and parameters: {'n_estimators': 154, 'min_samples_split': 0.056802832923389265, 'min_samples_leaf': 0.02734930453844446, 'max_features': 'sqrt'}. Best is trial 107 with value: 0.8576752479646811.\n",
      "[I 2023-11-02 03:33:02,295] Trial 133 finished with value: 0.8536466533971064 and parameters: {'n_estimators': 141, 'min_samples_split': 0.029108237071411962, 'min_samples_leaf': 0.019293042583622206, 'max_features': 'sqrt'}. Best is trial 107 with value: 0.8576752479646811.\n"
     ]
    },
    {
     "data": {
      "text/plain": [
       "0.8576752479646811"
      ]
     },
     "execution_count": 12,
     "metadata": {},
     "output_type": "execute_result"
    }
   ],
   "source": [
    "import pandas as pd\n",
    "from Dongmen_Encoder_Exp.rankhot import RankHotEncoder\n",
    "#assign ranks to each nucleotide and then use a one-hot encoding approach\n",
    "enc=RankHotEncoder(cols=['sequence', 'm1_seq', 'p1_seq']).fit(X_train,y_train)\n",
    "rank_X_train=enc.transform(X_train)\n",
    "rank_X_validation=RankHotEncoder(cols=['sequence', 'm1_seq', 'p1_seq']).fit_transform(X_valid,y_valid)\n",
    "\n",
    "##Count Encoding's Results\n",
    "study.optimize(lambda trial: objective(trial, rank_X_train, y_train, rank_X_validation,y_valid), n_trials= 60)\n",
    "rank_best_params=study.best_params\n",
    "rank_best_value=study.best_value\n",
    "rank_best_value\n",
    "#best result:0.8576752479646811"
   ]
  },
  {
   "cell_type": "markdown",
   "metadata": {},
   "source": [
    "Target Encoder"
   ]
  },
  {
   "cell_type": "code",
   "execution_count": 13,
   "metadata": {},
   "outputs": [
    {
     "name": "stderr",
     "output_type": "stream",
     "text": [
      "[I 2023-11-02 03:33:08,348] Trial 134 finished with value: 0.8101093640815135 and parameters: {'n_estimators': 141, 'min_samples_split': 0.028831907067002525, 'min_samples_leaf': 0.06002447547037434, 'max_features': 'sqrt'}. Best is trial 107 with value: 0.8576752479646811.\n",
      "[I 2023-11-02 03:33:13,674] Trial 135 finished with value: 0.8017005229894485 and parameters: {'n_estimators': 111, 'min_samples_split': 0.02232648932172857, 'min_samples_leaf': 0.04137170876708874, 'max_features': 'sqrt'}. Best is trial 107 with value: 0.8576752479646811.\n",
      "[I 2023-11-02 03:33:21,056] Trial 136 finished with value: 0.8053539898450406 and parameters: {'n_estimators': 141, 'min_samples_split': 0.0897143122845134, 'min_samples_leaf': 0.021084678455162546, 'max_features': 'sqrt'}. Best is trial 107 with value: 0.8576752479646811.\n",
      "[I 2023-11-02 03:33:26,728] Trial 137 finished with value: 0.801764847204157 and parameters: {'n_estimators': 178, 'min_samples_split': 0.03822899369671011, 'min_samples_leaf': 0.07657072022871951, 'max_features': 'sqrt'}. Best is trial 107 with value: 0.8576752479646811.\n",
      "[I 2023-11-02 03:33:45,378] Trial 138 finished with value: 0.8481842617504712 and parameters: {'n_estimators': 127, 'min_samples_split': 0.0010591685751006486, 'min_samples_leaf': 0.0002374955667670646, 'max_features': 'sqrt'}. Best is trial 107 with value: 0.8576752479646811.\n",
      "[I 2023-11-02 03:33:52,869] Trial 139 finished with value: 0.8132505944823257 and parameters: {'n_estimators': 167, 'min_samples_split': 0.10268221822073942, 'min_samples_leaf': 0.039178687117938135, 'max_features': 'sqrt'}. Best is trial 107 with value: 0.8576752479646811.\n",
      "[I 2023-11-02 03:34:02,927] Trial 140 finished with value: 0.8168641170339046 and parameters: {'n_estimators': 154, 'min_samples_split': 0.05982683932447609, 'min_samples_leaf': 0.01867153566468667, 'max_features': 'sqrt'}. Best is trial 107 with value: 0.8576752479646811.\n",
      "[I 2023-11-02 03:34:08,129] Trial 141 finished with value: 0.8072448375942743 and parameters: {'n_estimators': 116, 'min_samples_split': 0.08713046674523812, 'min_samples_leaf': 0.06386191699781514, 'max_features': 'sqrt'}. Best is trial 107 with value: 0.8576752479646811.\n",
      "[I 2023-11-02 03:34:19,617] Trial 142 finished with value: 0.8160193773467682 and parameters: {'n_estimators': 135, 'min_samples_split': 0.05043556615361111, 'min_samples_leaf': 0.0179042282346319, 'max_features': 'sqrt'}. Best is trial 107 with value: 0.8576752479646811.\n",
      "[I 2023-11-02 03:34:28,371] Trial 143 finished with value: 0.8215641763206808 and parameters: {'n_estimators': 142, 'min_samples_split': 0.02301975610606917, 'min_samples_leaf': 0.03726644289089208, 'max_features': 'sqrt'}. Best is trial 107 with value: 0.8576752479646811.\n",
      "[I 2023-11-02 03:34:39,804] Trial 144 finished with value: 0.8223943203526722 and parameters: {'n_estimators': 161, 'min_samples_split': 0.06095696161220806, 'min_samples_leaf': 0.0017309440657104457, 'max_features': 'sqrt'}. Best is trial 107 with value: 0.8576752479646811.\n",
      "[I 2023-11-02 03:34:50,215] Trial 145 finished with value: 0.8223025485563863 and parameters: {'n_estimators': 170, 'min_samples_split': 0.03658836569337839, 'min_samples_leaf': 0.019607393573423157, 'max_features': 'sqrt'}. Best is trial 107 with value: 0.8576752479646811.\n",
      "[I 2023-11-02 03:34:57,506] Trial 146 finished with value: 0.8123730468623862 and parameters: {'n_estimators': 184, 'min_samples_split': 0.13626867999346898, 'min_samples_leaf': 0.054390939260737126, 'max_features': 'sqrt'}. Best is trial 107 with value: 0.8576752479646811.\n",
      "[I 2023-11-02 03:35:02,504] Trial 147 finished with value: 0.7960797426514752 and parameters: {'n_estimators': 154, 'min_samples_split': 0.06943143746634912, 'min_samples_leaf': 0.09493489239573036, 'max_features': 'sqrt'}. Best is trial 107 with value: 0.8576752479646811.\n",
      "[I 2023-11-02 03:35:10,848] Trial 148 finished with value: 0.8066380522937783 and parameters: {'n_estimators': 176, 'min_samples_split': 0.11578850000173782, 'min_samples_leaf': 0.03319218722440675, 'max_features': 'sqrt'}. Best is trial 107 with value: 0.8576752479646811.\n",
      "[I 2023-11-02 03:35:26,928] Trial 149 finished with value: 0.8270584071619459 and parameters: {'n_estimators': 129, 'min_samples_split': 0.018701199418702644, 'min_samples_leaf': 0.00018907026344083529, 'max_features': 'sqrt'}. Best is trial 107 with value: 0.8576752479646811.\n",
      "[I 2023-11-02 03:35:34,338] Trial 150 finished with value: 0.8035532024546534 and parameters: {'n_estimators': 213, 'min_samples_split': 0.08120273991932356, 'min_samples_leaf': 0.07805906661115777, 'max_features': 'sqrt'}. Best is trial 107 with value: 0.8576752479646811.\n",
      "[I 2023-11-02 03:35:44,769] Trial 151 finished with value: 0.8167578141650186 and parameters: {'n_estimators': 246, 'min_samples_split': 0.0413325088880633, 'min_samples_leaf': 0.05606507589262664, 'max_features': 'sqrt'}. Best is trial 107 with value: 0.8576752479646811.\n",
      "[I 2023-11-02 03:36:01,223] Trial 152 finished with value: 0.8230210939508112 and parameters: {'n_estimators': 258, 'min_samples_split': 0.03472882715148407, 'min_samples_leaf': 0.023021196587201073, 'max_features': 'sqrt'}. Best is trial 107 with value: 0.8576752479646811.\n",
      "[I 2023-11-02 03:36:13,438] Trial 153 finished with value: 0.8260476257519023 and parameters: {'n_estimators': 162, 'min_samples_split': 0.017547384401729274, 'min_samples_leaf': 0.02035067775020044, 'max_features': 'sqrt'}. Best is trial 107 with value: 0.8576752479646811.\n",
      "[I 2023-11-02 03:36:23,242] Trial 154 finished with value: 0.8155707224074306 and parameters: {'n_estimators': 193, 'min_samples_split': 0.057291162128626706, 'min_samples_leaf': 0.041404264129021255, 'max_features': 'sqrt'}. Best is trial 107 with value: 0.8576752479646811.\n",
      "[I 2023-11-02 03:36:29,390] Trial 155 finished with value: 0.8109188416991407 and parameters: {'n_estimators': 146, 'min_samples_split': 0.0006395042816496367, 'min_samples_leaf': 0.05913660701593766, 'max_features': 'sqrt'}. Best is trial 107 with value: 0.8576752479646811.\n",
      "[I 2023-11-02 03:36:43,830] Trial 156 finished with value: 0.8286873081091135 and parameters: {'n_estimators': 229, 'min_samples_split': 0.039615084402013084, 'min_samples_leaf': 0.01946766758568066, 'max_features': 'sqrt'}. Best is trial 107 with value: 0.8576752479646811.\n",
      "[I 2023-11-02 03:36:50,162] Trial 157 finished with value: 0.7897202671650716 and parameters: {'n_estimators': 245, 'min_samples_split': 0.06792009112401981, 'min_samples_leaf': 0.1096919981808628, 'max_features': 'sqrt'}. Best is trial 107 with value: 0.8576752479646811.\n",
      "[I 2023-11-02 03:36:55,124] Trial 158 finished with value: 0.7744259257584897 and parameters: {'n_estimators': 236, 'min_samples_split': 0.45937631464458323, 'min_samples_leaf': 0.041339704436144493, 'max_features': 'sqrt'}. Best is trial 107 with value: 0.8576752479646811.\n",
      "[I 2023-11-02 03:37:02,746] Trial 159 finished with value: 0.8048202796940854 and parameters: {'n_estimators': 221, 'min_samples_split': 0.08970856934670078, 'min_samples_leaf': 0.07539107709730228, 'max_features': 'sqrt'}. Best is trial 107 with value: 0.8576752479646811.\n",
      "[I 2023-11-02 03:37:29,923] Trial 160 finished with value: 0.8310629124402773 and parameters: {'n_estimators': 270, 'min_samples_split': 0.026163568832252515, 'min_samples_leaf': 0.0013734668170421495, 'max_features': 'sqrt'}. Best is trial 107 with value: 0.8576752479646811.\n",
      "[I 2023-11-02 03:37:32,702] Trial 161 finished with value: 0.7679905980731152 and parameters: {'n_estimators': 152, 'min_samples_split': 0.05327181412581812, 'min_samples_leaf': 0.16072865311710693, 'max_features': 'sqrt'}. Best is trial 107 with value: 0.8576752479646811.\n",
      "[I 2023-11-02 03:37:46,044] Trial 162 finished with value: 0.821764253044744 and parameters: {'n_estimators': 237, 'min_samples_split': 0.00042933977585560973, 'min_samples_leaf': 0.024492580940472353, 'max_features': 'sqrt'}. Best is trial 107 with value: 0.8576752479646811.\n",
      "[I 2023-11-02 03:37:57,530] Trial 163 finished with value: 0.8239843426078173 and parameters: {'n_estimators': 201, 'min_samples_split': 0.06521393273164422, 'min_samples_leaf': 0.01928076395294314, 'max_features': 'sqrt'}. Best is trial 107 with value: 0.8576752479646811.\n",
      "[I 2023-11-02 03:38:03,680] Trial 164 finished with value: 0.8094206558228269 and parameters: {'n_estimators': 135, 'min_samples_split': 0.04002985271769083, 'min_samples_leaf': 0.040845568601381825, 'max_features': 'sqrt'}. Best is trial 107 with value: 0.8576752479646811.\n",
      "[I 2023-11-02 03:38:08,989] Trial 165 finished with value: 0.8109208437580325 and parameters: {'n_estimators': 144, 'min_samples_split': 0.11143558851303245, 'min_samples_leaf': 0.06206028151205517, 'max_features': 'sqrt'}. Best is trial 107 with value: 0.8576752479646811.\n",
      "[I 2023-11-02 03:38:23,580] Trial 166 finished with value: 0.828935305081484 and parameters: {'n_estimators': 238, 'min_samples_split': 0.018198208511582933, 'min_samples_leaf': 0.01884869015416494, 'max_features': 'sqrt'}. Best is trial 107 with value: 0.8576752479646811.\n",
      "[I 2023-11-02 03:38:25,336] Trial 167 finished with value: 0.5 and parameters: {'n_estimators': 247, 'min_samples_split': 0.07890897768352208, 'min_samples_leaf': 0.5127315201550638, 'max_features': 'sqrt'}. Best is trial 107 with value: 0.8576752479646811.\n",
      "[I 2023-11-02 03:38:35,519] Trial 168 finished with value: 0.8212453322965682 and parameters: {'n_estimators': 228, 'min_samples_split': 0.05779676817776197, 'min_samples_leaf': 0.0417319492209833, 'max_features': 'sqrt'}. Best is trial 107 with value: 0.8576752479646811.\n",
      "[I 2023-11-02 03:38:42,090] Trial 169 finished with value: 0.8013352441155615 and parameters: {'n_estimators': 212, 'min_samples_split': 0.021850825013480412, 'min_samples_leaf': 0.08295054644687001, 'max_features': 'sqrt'}. Best is trial 107 with value: 0.8576752479646811.\n",
      "[I 2023-11-02 03:38:55,951] Trial 170 finished with value: 0.8261016167594288 and parameters: {'n_estimators': 219, 'min_samples_split': 0.04539858991188183, 'min_samples_leaf': 0.015378593221999975, 'max_features': 'sqrt'}. Best is trial 107 with value: 0.8576752479646811.\n",
      "[I 2023-11-02 03:39:06,010] Trial 171 finished with value: 0.8050555861963852 and parameters: {'n_estimators': 166, 'min_samples_split': 0.09955052152993035, 'min_samples_leaf': 0.001069449172034321, 'max_features': 'sqrt'}. Best is trial 107 with value: 0.8576752479646811.\n",
      "[I 2023-11-02 03:39:13,798] Trial 172 finished with value: 0.8211423877200166 and parameters: {'n_estimators': 158, 'min_samples_split': 0.029766073321559817, 'min_samples_leaf': 0.03381603588593168, 'max_features': 'sqrt'}. Best is trial 107 with value: 0.8576752479646811.\n",
      "[I 2023-11-02 03:39:18,685] Trial 173 finished with value: 0.7985950713185043 and parameters: {'n_estimators': 154, 'min_samples_split': 0.22008055759074496, 'min_samples_leaf': 0.05741391166679295, 'max_features': 'sqrt'}. Best is trial 107 with value: 0.8576752479646811.\n",
      "[I 2023-11-02 03:39:29,121] Trial 174 finished with value: 0.8189210065060457 and parameters: {'n_estimators': 174, 'min_samples_split': 0.0011845030815263863, 'min_samples_leaf': 0.024488307298918537, 'max_features': 'sqrt'}. Best is trial 107 with value: 0.8576752479646811.\n",
      "[I 2023-11-02 03:39:36,655] Trial 175 finished with value: 0.8215537139484089 and parameters: {'n_estimators': 158, 'min_samples_split': 0.0572903428314777, 'min_samples_leaf': 0.03822536523525931, 'max_features': 'sqrt'}. Best is trial 107 with value: 0.8576752479646811.\n",
      "[I 2023-11-02 03:39:43,188] Trial 176 finished with value: 0.7867017435995469 and parameters: {'n_estimators': 232, 'min_samples_split': 0.3427302942745958, 'min_samples_leaf': 0.0014481756637207792, 'max_features': 'sqrt'}. Best is trial 107 with value: 0.8576752479646811.\n",
      "[I 2023-11-02 03:39:48,878] Trial 177 finished with value: 0.8126942804406596 and parameters: {'n_estimators': 148, 'min_samples_split': 0.034902845033702806, 'min_samples_leaf': 0.056505732089707786, 'max_features': 'sqrt'}. Best is trial 107 with value: 0.8576752479646811.\n",
      "[I 2023-11-02 03:39:56,566] Trial 178 finished with value: 0.8163183945296002 and parameters: {'n_estimators': 141, 'min_samples_split': 0.07608088236085245, 'min_samples_leaf': 0.021128073191624068, 'max_features': 'sqrt'}. Best is trial 107 with value: 0.8576752479646811.\n",
      "[I 2023-11-02 03:40:00,571] Trial 179 finished with value: 0.780591879649136 and parameters: {'n_estimators': 164, 'min_samples_split': 0.2749061053857642, 'min_samples_leaf': 0.0949594935105463, 'max_features': 'sqrt'}. Best is trial 107 with value: 0.8576752479646811.\n",
      "[I 2023-11-02 03:40:01,907] Trial 180 finished with value: 0.5 and parameters: {'n_estimators': 182, 'min_samples_split': 0.022387429739207695, 'min_samples_leaf': 0.3333340202960005, 'max_features': 'sqrt'}. Best is trial 107 with value: 0.8576752479646811.\n",
      "[I 2023-11-02 03:40:06,344] Trial 181 finished with value: 0.8017222550158034 and parameters: {'n_estimators': 130, 'min_samples_split': 0.04749256817631827, 'min_samples_leaf': 0.07330248806113414, 'max_features': 'sqrt'}. Best is trial 107 with value: 0.8576752479646811.\n",
      "[I 2023-11-02 03:40:14,122] Trial 182 finished with value: 0.8255667441226655 and parameters: {'n_estimators': 155, 'min_samples_split': 0.05572789467191809, 'min_samples_leaf': 0.03215532328493445, 'max_features': 'sqrt'}. Best is trial 107 with value: 0.8576752479646811.\n",
      "[I 2023-11-02 03:40:22,043] Trial 183 finished with value: 0.8313039990803446 and parameters: {'n_estimators': 122, 'min_samples_split': 0.0196365350152318, 'min_samples_leaf': 0.018152165676355574, 'max_features': 'sqrt'}. Best is trial 107 with value: 0.8576752479646811.\n",
      "[I 2023-11-02 03:40:29,187] Trial 184 finished with value: 0.8213686203747596 and parameters: {'n_estimators': 151, 'min_samples_split': 0.07089208186688413, 'min_samples_leaf': 0.03694033217002589, 'max_features': 'sqrt'}. Best is trial 107 with value: 0.8576752479646811.\n",
      "[I 2023-11-02 03:40:40,918] Trial 185 finished with value: 0.8222241453468923 and parameters: {'n_estimators': 138, 'min_samples_split': 0.036848999374513136, 'min_samples_leaf': 0.0017950525938530242, 'max_features': 'sqrt'}. Best is trial 107 with value: 0.8576752479646811.\n",
      "[I 2023-11-02 03:40:48,388] Trial 186 finished with value: 0.8152580137250824 and parameters: {'n_estimators': 169, 'min_samples_split': 0.09025971752132055, 'min_samples_leaf': 0.04965850914287842, 'max_features': 'sqrt'}. Best is trial 107 with value: 0.8576752479646811.\n",
      "[I 2023-11-02 03:40:49,589] Trial 187 finished with value: 0.5 and parameters: {'n_estimators': 161, 'min_samples_split': 0.7387165966007492, 'min_samples_leaf': 0.6757669718746049, 'max_features': 'sqrt'}. Best is trial 107 with value: 0.8576752479646811.\n",
      "[I 2023-11-02 03:40:58,223] Trial 188 finished with value: 0.8212174326371765 and parameters: {'n_estimators': 145, 'min_samples_split': 0.05941211012577251, 'min_samples_leaf': 0.021398279599913004, 'max_features': 'sqrt'}. Best is trial 107 with value: 0.8576752479646811.\n",
      "[I 2023-11-02 03:41:05,206] Trial 189 finished with value: 0.814813879563887 and parameters: {'n_estimators': 189, 'min_samples_split': 0.014891205964054556, 'min_samples_leaf': 0.06329804800603184, 'max_features': 'sqrt'}. Best is trial 107 with value: 0.8576752479646811.\n",
      "[I 2023-11-02 03:41:16,886] Trial 190 finished with value: 0.8245090757850331 and parameters: {'n_estimators': 242, 'min_samples_split': 0.000514909688937356, 'min_samples_leaf': 0.036070589971177076, 'max_features': 'sqrt'}. Best is trial 107 with value: 0.8576752479646811.\n",
      "[I 2023-11-02 03:41:39,154] Trial 191 finished with value: 0.8280959257455731 and parameters: {'n_estimators': 261, 'min_samples_split': 0.0360355037952688, 'min_samples_leaf': 0.000985234956220167, 'max_features': 'sqrt'}. Best is trial 107 with value: 0.8576752479646811.\n",
      "[I 2023-11-02 03:41:54,028] Trial 192 finished with value: 0.8102676558990342 and parameters: {'n_estimators': 233, 'min_samples_split': 0.07924499340184445, 'min_samples_leaf': 0.00021708564867987815, 'max_features': 'sqrt'}. Best is trial 107 with value: 0.8576752479646811.\n",
      "[I 2023-11-02 03:42:05,610] Trial 193 finished with value: 0.8092156062428071 and parameters: {'n_estimators': 250, 'min_samples_split': 0.13171768228899955, 'min_samples_leaf': 0.021826043704964725, 'max_features': 'sqrt'}. Best is trial 107 with value: 0.8576752479646811.\n"
     ]
    },
    {
     "data": {
      "text/plain": [
       "0.8576752479646811"
      ]
     },
     "execution_count": 13,
     "metadata": {},
     "output_type": "execute_result"
    }
   ],
   "source": [
    "import pandas as pd\n",
    "from Dongmen_Encoder_Exp.target_encoder import TargetEncoder\n",
    "enc=TargetEncoder(cols=['sequence', 'm1_seq', 'p1_seq']).fit(X_train,y_train)\n",
    "target_X_train=enc.transform(X_train)\n",
    "target_X_validation=TargetEncoder(cols=['sequence', 'm1_seq', 'p1_seq']).fit_transform(X_valid,y_valid)\n",
    "\n",
    "##Count Encoding's Results\n",
    "study.optimize(lambda trial: objective(trial, target_X_train, y_train, target_X_validation,y_valid), n_trials= 60)\n",
    "target_best_params=study.best_params\n",
    "target_best_value=study.best_value\n",
    "target_best_value\n",
    "#best result:0.8481842617504712"
   ]
  },
  {
   "cell_type": "markdown",
   "metadata": {},
   "source": [
    "Woe encoder"
   ]
  },
  {
   "cell_type": "code",
   "execution_count": 14,
   "metadata": {},
   "outputs": [
    {
     "name": "stderr",
     "output_type": "stream",
     "text": [
      "[I 2023-11-02 03:42:15,484] Trial 194 finished with value: 0.8475322363772809 and parameters: {'n_estimators': 231, 'min_samples_split': 0.059416698727336834, 'min_samples_leaf': 0.045502485176644104, 'max_features': 'sqrt'}. Best is trial 107 with value: 0.8576752479646811.\n",
      "[I 2023-11-02 03:42:24,741] Trial 195 finished with value: 0.8402348285914676 and parameters: {'n_estimators': 238, 'min_samples_split': 0.1802793614899026, 'min_samples_leaf': 0.021668595328057323, 'max_features': 'sqrt'}. Best is trial 107 with value: 0.8576752479646811.\n",
      "[I 2023-11-02 03:42:26,216] Trial 196 finished with value: 0.5 and parameters: {'n_estimators': 225, 'min_samples_split': 0.09991215763448531, 'min_samples_leaf': 0.40487740260622956, 'max_features': 'sqrt'}. Best is trial 107 with value: 0.8576752479646811.\n",
      "[I 2023-11-02 03:42:32,220] Trial 197 finished with value: 0.8450037651623669 and parameters: {'n_estimators': 152, 'min_samples_split': 0.038427114355494583, 'min_samples_leaf': 0.04909353237223843, 'max_features': 'sqrt'}. Best is trial 107 with value: 0.8576752479646811.\n",
      "[I 2023-11-02 03:42:41,012] Trial 198 finished with value: 0.8531497552967374 and parameters: {'n_estimators': 159, 'min_samples_split': 0.07281405918579864, 'min_samples_leaf': 0.017968055720379166, 'max_features': 'sqrt'}. Best is trial 107 with value: 0.8576752479646811.\n",
      "[I 2023-11-02 03:42:46,460] Trial 199 finished with value: 0.838132731337905 and parameters: {'n_estimators': 163, 'min_samples_split': 0.02041104372613902, 'min_samples_leaf': 0.07151205165465782, 'max_features': 'sqrt'}. Best is trial 107 with value: 0.8576752479646811.\n",
      "[I 2023-11-02 03:42:48,310] Trial 200 finished with value: 0.802836949740572 and parameters: {'n_estimators': 157, 'min_samples_split': 0.0499669377325472, 'min_samples_leaf': 0.2662604154338779, 'max_features': 'sqrt'}. Best is trial 107 with value: 0.8576752479646811.\n",
      "[I 2023-11-02 03:42:56,685] Trial 201 finished with value: 0.8492250740438877 and parameters: {'n_estimators': 171, 'min_samples_split': 0.07885801826355196, 'min_samples_leaf': 0.032136590041133915, 'max_features': 'sqrt'}. Best is trial 107 with value: 0.8576752479646811.\n",
      "[I 2023-11-02 03:42:58,917] Trial 202 finished with value: 0.8121360612139193 and parameters: {'n_estimators': 150, 'min_samples_split': 0.06207291675314828, 'min_samples_leaf': 0.2028613364224341, 'max_features': 'sqrt'}. Best is trial 107 with value: 0.8576752479646811.\n",
      "[I 2023-11-02 03:43:00,595] Trial 203 finished with value: 0.5 and parameters: {'n_estimators': 246, 'min_samples_split': 0.8129382933845057, 'min_samples_leaf': 0.016965461305570556, 'max_features': 'sqrt'}. Best is trial 107 with value: 0.8576752479646811.\n",
      "[I 2023-11-02 03:43:08,064] Trial 204 finished with value: 0.8473061974701726 and parameters: {'n_estimators': 142, 'min_samples_split': 0.10677380861664751, 'min_samples_leaf': 0.016901435682730524, 'max_features': 'sqrt'}. Best is trial 107 with value: 0.8576752479646811.\n",
      "[I 2023-11-02 03:43:10,361] Trial 205 finished with value: 0.8002760903793966 and parameters: {'n_estimators': 203, 'min_samples_split': 0.03525778592542636, 'min_samples_leaf': 0.29094308204726094, 'max_features': 'sqrt'}. Best is trial 107 with value: 0.8576752479646811.\n",
      "[I 2023-11-02 03:43:16,854] Trial 206 finished with value: 0.8360397079318991 and parameters: {'n_estimators': 162, 'min_samples_split': 0.22668562163354977, 'min_samples_leaf': 0.0005072593338369992, 'max_features': 'sqrt'}. Best is trial 107 with value: 0.8576752479646811.\n",
      "[I 2023-11-02 03:43:29,113] Trial 207 finished with value: 0.8473256368161838 and parameters: {'n_estimators': 255, 'min_samples_split': 0.08411916282351364, 'min_samples_leaf': 0.047237810712133704, 'max_features': 'sqrt'}. Best is trial 107 with value: 0.8576752479646811.\n",
      "[I 2023-11-02 03:43:35,239] Trial 208 finished with value: 0.8396004665443043 and parameters: {'n_estimators': 138, 'min_samples_split': 0.1522347971781851, 'min_samples_leaf': 0.029527450538815447, 'max_features': 'sqrt'}. Best is trial 107 with value: 0.8576752479646811.\n",
      "[I 2023-11-02 03:43:37,922] Trial 209 finished with value: 0.7980296834292815 and parameters: {'n_estimators': 219, 'min_samples_split': 0.01819527721012548, 'min_samples_leaf': 0.23066941465419744, 'max_features': 'sqrt'}. Best is trial 107 with value: 0.8576752479646811.\n",
      "[I 2023-11-02 03:43:44,495] Trial 210 finished with value: 0.8444250409776247 and parameters: {'n_estimators': 177, 'min_samples_split': 0.06412144312270425, 'min_samples_leaf': 0.05851698916192559, 'max_features': 'sqrt'}. Best is trial 107 with value: 0.8576752479646811.\n",
      "[I 2023-11-02 03:44:00,344] Trial 211 finished with value: 0.8649443363045609 and parameters: {'n_estimators': 239, 'min_samples_split': 0.001884401858690623, 'min_samples_leaf': 0.01633621920983386, 'max_features': 'sqrt'}. Best is trial 211 with value: 0.8649443363045609.\n",
      "[I 2023-11-02 03:44:15,730] Trial 212 finished with value: 0.8640857113702736 and parameters: {'n_estimators': 237, 'min_samples_split': 0.0033192047593213862, 'min_samples_leaf': 0.016934737581573225, 'max_features': 'sqrt'}. Best is trial 211 with value: 0.8649443363045609.\n",
      "[I 2023-11-02 03:44:23,002] Trial 213 finished with value: 0.8515216293401086 and parameters: {'n_estimators': 155, 'min_samples_split': 0.014130315367941279, 'min_samples_leaf': 0.03472761067169544, 'max_features': 'sqrt'}. Best is trial 211 with value: 0.8649443363045609.\n",
      "[I 2023-11-02 03:44:24,601] Trial 214 finished with value: 0.5 and parameters: {'n_estimators': 241, 'min_samples_split': 0.0036036219048828713, 'min_samples_leaf': 0.37686106702894245, 'max_features': 'sqrt'}. Best is trial 211 with value: 0.8649443363045609.\n",
      "[I 2023-11-02 03:44:35,943] Trial 215 finished with value: 0.8504119074712964 and parameters: {'n_estimators': 236, 'min_samples_split': 0.0006437472101138483, 'min_samples_leaf': 0.036655407051537636, 'max_features': 'sqrt'}. Best is trial 211 with value: 0.8649443363045609.\n",
      "[I 2023-11-02 03:44:40,428] Trial 216 finished with value: 0.8182982370256897 and parameters: {'n_estimators': 243, 'min_samples_split': 0.022309571578229753, 'min_samples_leaf': 0.18611218099016258, 'max_features': 'sqrt'}. Best is trial 211 with value: 0.8649443363045609.\n",
      "[I 2023-11-02 03:44:57,003] Trial 217 finished with value: 0.8645467015756849 and parameters: {'n_estimators': 252, 'min_samples_split': 0.027756414383240672, 'min_samples_leaf': 0.016193300563023583, 'max_features': 'sqrt'}. Best is trial 211 with value: 0.8649443363045609.\n",
      "[I 2023-11-02 03:45:16,947] Trial 218 finished with value: 0.8623685260842441 and parameters: {'n_estimators': 253, 'min_samples_split': 0.03776719520790778, 'min_samples_leaf': 0.01479551984214263, 'max_features': 'sqrt'}. Best is trial 211 with value: 0.8649443363045609.\n",
      "[I 2023-11-02 03:45:18,844] Trial 219 finished with value: 0.5 and parameters: {'n_estimators': 256, 'min_samples_split': 0.016239536806587934, 'min_samples_leaf': 0.35809363219873114, 'max_features': 'sqrt'}. Best is trial 211 with value: 0.8649443363045609.\n",
      "[I 2023-11-02 03:45:29,162] Trial 220 finished with value: 0.8363674320559337 and parameters: {'n_estimators': 252, 'min_samples_split': 0.25200899798441806, 'min_samples_leaf': 0.01491830100498784, 'max_features': 'sqrt'}. Best is trial 211 with value: 0.8649443363045609.\n",
      "[I 2023-11-02 03:45:39,708] Trial 221 finished with value: 0.8458994604774199 and parameters: {'n_estimators': 265, 'min_samples_split': 0.03720193110017182, 'min_samples_leaf': 0.051876362126416865, 'max_features': 'sqrt'}. Best is trial 211 with value: 0.8649443363045609.\n",
      "[I 2023-11-02 03:45:59,430] Trial 222 finished with value: 0.8645612972308296 and parameters: {'n_estimators': 248, 'min_samples_split': 7.270421255911076e-05, 'min_samples_leaf': 0.015050502493273048, 'max_features': 'sqrt'}. Best is trial 211 with value: 0.8649443363045609.\n",
      "[I 2023-11-02 03:46:17,118] Trial 223 finished with value: 0.8672128627763002 and parameters: {'n_estimators': 250, 'min_samples_split': 0.016412122099476477, 'min_samples_leaf': 0.013177724778273524, 'max_features': 'sqrt'}. Best is trial 223 with value: 0.8672128627763002.\n",
      "[I 2023-11-02 03:46:48,938] Trial 224 finished with value: 0.8963996522875783 and parameters: {'n_estimators': 247, 'min_samples_split': 0.0018134254195600191, 'min_samples_leaf': 0.0004469024845103371, 'max_features': 'sqrt'}. Best is trial 224 with value: 0.8963996522875783.\n",
      "[I 2023-11-02 03:47:12,716] Trial 225 finished with value: 0.8775823653486231 and parameters: {'n_estimators': 251, 'min_samples_split': 0.015390116994522213, 'min_samples_leaf': 0.0018167293159170005, 'max_features': 'sqrt'}. Best is trial 224 with value: 0.8963996522875783.\n",
      "[I 2023-11-02 03:47:43,869] Trial 226 finished with value: 0.8891425117185028 and parameters: {'n_estimators': 258, 'min_samples_split': 0.004834786203065291, 'min_samples_leaf': 0.0007146271355909593, 'max_features': 'sqrt'}. Best is trial 224 with value: 0.8963996522875783.\n",
      "[I 2023-11-02 03:48:10,827] Trial 227 finished with value: 0.8866495609032774 and parameters: {'n_estimators': 265, 'min_samples_split': 0.0008899544823457868, 'min_samples_leaf': 0.002657658209903494, 'max_features': 'sqrt'}. Best is trial 224 with value: 0.8963996522875783.\n",
      "[I 2023-11-02 03:48:37,534] Trial 228 finished with value: 0.8829438144775983 and parameters: {'n_estimators': 276, 'min_samples_split': 0.001082319733581475, 'min_samples_leaf': 0.00373367744696362, 'max_features': 'sqrt'}. Best is trial 224 with value: 0.8963996522875783.\n",
      "[I 2023-11-02 03:48:57,753] Trial 229 finished with value: 0.8692699459960759 and parameters: {'n_estimators': 272, 'min_samples_split': 0.001105813106005452, 'min_samples_leaf': 0.010818517684608182, 'max_features': 'sqrt'}. Best is trial 224 with value: 0.8963996522875783.\n",
      "[I 2023-11-02 03:49:30,724] Trial 230 finished with value: 0.8756215101207305 and parameters: {'n_estimators': 282, 'min_samples_split': 0.0008905521669679353, 'min_samples_leaf': 0.007062500746309106, 'max_features': 'sqrt'}. Best is trial 224 with value: 0.8963996522875783.\n",
      "[I 2023-11-02 03:50:07,477] Trial 231 finished with value: 0.8865779388609966 and parameters: {'n_estimators': 280, 'min_samples_split': 0.006194138335608482, 'min_samples_leaf': 0.0008473544486609259, 'max_features': 'sqrt'}. Best is trial 224 with value: 0.8963996522875783.\n",
      "[I 2023-11-02 03:50:52,857] Trial 232 finished with value: 0.8976573327667291 and parameters: {'n_estimators': 275, 'min_samples_split': 0.0001488453290195875, 'min_samples_leaf': 0.00017741231108026057, 'max_features': 'sqrt'}. Best is trial 232 with value: 0.8976573327667291.\n",
      "[I 2023-11-02 03:51:29,812] Trial 233 finished with value: 0.8874757654000307 and parameters: {'n_estimators': 275, 'min_samples_split': 0.0060868166806929466, 'min_samples_leaf': 0.0003492966905423618, 'max_features': 'sqrt'}. Best is trial 232 with value: 0.8976573327667291.\n",
      "[I 2023-11-02 03:52:05,438] Trial 234 finished with value: 0.8940879846758537 and parameters: {'n_estimators': 281, 'min_samples_split': 0.00199539773125497, 'min_samples_leaf': 0.0008874011844380945, 'max_features': 'sqrt'}. Best is trial 232 with value: 0.8976573327667291.\n",
      "[I 2023-11-02 03:52:37,753] Trial 235 finished with value: 0.8867193746343013 and parameters: {'n_estimators': 285, 'min_samples_split': 0.0003567852396086078, 'min_samples_leaf': 0.002865084393878996, 'max_features': 'sqrt'}. Best is trial 232 with value: 0.8976573327667291.\n",
      "[I 2023-11-02 03:53:13,354] Trial 236 finished with value: 0.891557188489324 and parameters: {'n_estimators': 285, 'min_samples_split': 0.0011595815985365606, 'min_samples_leaf': 0.001470650120343961, 'max_features': 'sqrt'}. Best is trial 232 with value: 0.8976573327667291.\n",
      "[I 2023-11-02 03:53:45,986] Trial 237 finished with value: 0.8815420503408021 and parameters: {'n_estimators': 288, 'min_samples_split': 0.010144436167732272, 'min_samples_leaf': 0.0009599092490137793, 'max_features': 'sqrt'}. Best is trial 232 with value: 0.8976573327667291.\n",
      "[I 2023-11-02 03:54:21,495] Trial 238 finished with value: 0.8923951470092468 and parameters: {'n_estimators': 288, 'min_samples_split': 0.0005119431375778588, 'min_samples_leaf': 0.0012636645542696279, 'max_features': 'sqrt'}. Best is trial 232 with value: 0.8976573327667291.\n",
      "[I 2023-11-02 03:54:53,520] Trial 239 finished with value: 0.8878595794643008 and parameters: {'n_estimators': 288, 'min_samples_split': 0.0013962196584827633, 'min_samples_leaf': 0.0025450952409019653, 'max_features': 'sqrt'}. Best is trial 232 with value: 0.8976573327667291.\n",
      "[I 2023-11-02 03:55:30,465] Trial 240 finished with value: 0.8937323931836999 and parameters: {'n_estimators': 286, 'min_samples_split': 0.00021262525347076101, 'min_samples_leaf': 0.0010640869413060423, 'max_features': 'sqrt'}. Best is trial 232 with value: 0.8976573327667291.\n",
      "[I 2023-11-02 03:56:14,726] Trial 241 finished with value: 0.8988078708039107 and parameters: {'n_estimators': 288, 'min_samples_split': 0.00026364704033713206, 'min_samples_leaf': 0.0002645129502763825, 'max_features': 'sqrt'}. Best is trial 241 with value: 0.8988078708039107.\n",
      "[I 2023-11-02 03:56:41,585] Trial 242 finished with value: 0.8791673501652667 and parameters: {'n_estimators': 286, 'min_samples_split': 0.002032513877438089, 'min_samples_leaf': 0.0052751880931563334, 'max_features': 'sqrt'}. Best is trial 241 with value: 0.8988078708039107.\n",
      "[I 2023-11-02 03:57:14,232] Trial 243 finished with value: 0.8869378573836578 and parameters: {'n_estimators': 286, 'min_samples_split': 0.0004435059983955193, 'min_samples_leaf': 0.002855153311765846, 'max_features': 'sqrt'}. Best is trial 241 with value: 0.8988078708039107.\n",
      "[I 2023-11-02 03:57:48,188] Trial 244 finished with value: 0.8902975705338263 and parameters: {'n_estimators': 287, 'min_samples_split': 0.00015381264861826687, 'min_samples_leaf': 0.0018720894875148468, 'max_features': 'sqrt'}. Best is trial 241 with value: 0.8988078708039107.\n",
      "[I 2023-11-02 03:58:32,245] Trial 245 finished with value: 0.898842357882881 and parameters: {'n_estimators': 289, 'min_samples_split': 7.126362597380709e-05, 'min_samples_leaf': 0.00021791073336670133, 'max_features': 'sqrt'}. Best is trial 245 with value: 0.898842357882881.\n",
      "[I 2023-11-02 03:59:10,295] Trial 246 finished with value: 0.8908398701632517 and parameters: {'n_estimators': 288, 'min_samples_split': 0.0037115243526761, 'min_samples_leaf': 0.00047992200530515543, 'max_features': 'sqrt'}. Best is trial 245 with value: 0.898842357882881.\n",
      "[I 2023-11-02 03:59:46,308] Trial 247 finished with value: 0.8920330972626044 and parameters: {'n_estimators': 288, 'min_samples_split': 0.001129829725717861, 'min_samples_leaf': 0.0013876982220571519, 'max_features': 'sqrt'}. Best is trial 245 with value: 0.898842357882881.\n",
      "[I 2023-11-02 04:00:27,288] Trial 248 finished with value: 0.8966851717185286 and parameters: {'n_estimators': 287, 'min_samples_split': 0.0012069221415011093, 'min_samples_leaf': 0.00040222316877004964, 'max_features': 'sqrt'}. Best is trial 245 with value: 0.898842357882881.\n",
      "[I 2023-11-02 04:01:04,555] Trial 249 finished with value: 0.8940477497503886 and parameters: {'n_estimators': 288, 'min_samples_split': 0.001065728907610742, 'min_samples_leaf': 0.000983822451633271, 'max_features': 'sqrt'}. Best is trial 245 with value: 0.898842357882881.\n",
      "[I 2023-11-02 04:01:32,435] Trial 250 finished with value: 0.8800994054530916 and parameters: {'n_estimators': 284, 'min_samples_split': 0.010361291630180632, 'min_samples_leaf': 0.0040024890113538976, 'max_features': 'sqrt'}. Best is trial 245 with value: 0.898842357882881.\n",
      "[I 2023-11-02 04:02:00,949] Trial 251 finished with value: 0.8798033590673248 and parameters: {'n_estimators': 293, 'min_samples_split': 0.0018380134762010746, 'min_samples_leaf': 0.004963148509478396, 'max_features': 'sqrt'}. Best is trial 245 with value: 0.898842357882881.\n",
      "[I 2023-11-02 04:02:32,021] Trial 252 finished with value: 0.8856031945110004 and parameters: {'n_estimators': 293, 'min_samples_split': 0.00038520776200232695, 'min_samples_leaf': 0.00303045512538833, 'max_features': 'sqrt'}. Best is trial 245 with value: 0.898842357882881.\n",
      "[I 2023-11-02 04:03:01,028] Trial 253 finished with value: 0.8813680649648734 and parameters: {'n_estimators': 294, 'min_samples_split': 0.0011484722003319812, 'min_samples_leaf': 0.004251378333772491, 'max_features': 'sqrt'}. Best is trial 245 with value: 0.898842357882881.\n"
     ]
    },
    {
     "data": {
      "text/plain": [
       "0.898842357882881"
      ]
     },
     "execution_count": 14,
     "metadata": {},
     "output_type": "execute_result"
    }
   ],
   "source": [
    "import pandas as pd\n",
    "from Dongmen_Encoder_Exp.woe import WOEEncoder\n",
    "enc=WOEEncoder(cols=['sequence', 'm1_seq', 'p1_seq']).fit(X_train,y_train)\n",
    "woe_X_train=enc.transform(X_train)\n",
    "woe_X_validation=WOEEncoder(cols=['sequence', 'm1_seq', 'p1_seq']).fit_transform(X_valid,y_valid)\n",
    "\n",
    "##Count Encoding's Results\n",
    "study.optimize(lambda trial: objective(trial, woe_X_train, y_train, woe_X_validation,y_valid), n_trials= 60)\n",
    "woe_best_params=study.best_params\n",
    "woe_best_value=study.best_value\n",
    "woe_best_value\n",
    "#best result:0.898842357882881"
   ]
  }
 ],
 "metadata": {
  "kernelspec": {
   "display_name": "wp",
   "language": "python",
   "name": "python3"
  },
  "language_info": {
   "codemirror_mode": {
    "name": "ipython",
    "version": 3
   },
   "file_extension": ".py",
   "mimetype": "text/x-python",
   "name": "python",
   "nbconvert_exporter": "python",
   "pygments_lexer": "ipython3",
   "version": "3.8.7"
  }
 },
 "nbformat": 4,
 "nbformat_minor": 2
}
