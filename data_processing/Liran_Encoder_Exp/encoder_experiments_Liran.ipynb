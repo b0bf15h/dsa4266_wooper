{
 "cells": [
  {
   "cell_type": "code",
   "execution_count": 1,
   "metadata": {},
   "outputs": [
    {
     "name": "stderr",
     "output_type": "stream",
     "text": [
      "/Users/yangliran/anaconda3/envs/wp/lib/python3.9/site-packages/tqdm/auto.py:21: TqdmWarning: IProgress not found. Please update jupyter and ipywidgets. See https://ipywidgets.readthedocs.io/en/stable/user_install.html\n",
      "  from .autonotebook import tqdm as notebook_tqdm\n"
     ]
    }
   ],
   "source": [
    "\n",
    "import pandas as pd\n",
    "import numpy as np\n",
    "from pathlib import Path\n",
    "import os\n",
    "import optuna\n",
    "from sklearn.metrics import roc_auc_score\n",
    "from sklearn.ensemble import RandomForestClassifier"
   ]
  },
  {
   "cell_type": "code",
   "execution_count": 7,
   "metadata": {},
   "outputs": [
    {
     "data": {
      "text/plain": [
       "PosixPath('/Users/yangliran/Desktop/DSA4266/Project2/dsa4266_wooper/data_processing/../data')"
      ]
     },
     "execution_count": 7,
     "metadata": {},
     "output_type": "execute_result"
    }
   ],
   "source": [
    "path = Path(os.path.abspath(''))\n",
    "data_path = path.resolve().parents[0]/'../data/'\n",
    "data_path\n",
    "# this notebook should be in data_processing, the pkl files should be in data"
   ]
  },
  {
   "cell_type": "code",
   "execution_count": 8,
   "metadata": {},
   "outputs": [],
   "source": [
    "# perform various encodings based on train_df\n",
    "# https://github.com/scikit-learn-contrib/category_encoders\n",
    "# Generalized Linear Mixed Model Encoder\n",
    "# Target Encoder\n",
    "# Leave One Out Encoder\n",
    "# James Stein\n",
    "# Weight of evidence\n",
    "# M-estimate \n",
    "train_df = pd.read_pickle(data_path/'train.pkl')\n",
    "validation_df = pd.read_pickle(data_path/'validation.pkl')\n",
    "# OHE is the baseline to compare with\n",
    "train_df_OHE = pd.read_pickle(data_path/'train_OHE.pkl')\n",
    "validation_df_OHE = pd.read_pickle(data_path/'validation_OHE.pkl')\n",
    "\n",
    "X_train = train_df.drop(['label'], axis=1)\n",
    "y_train = train_df['label']\n",
    "X_valid = validation_df.drop(['label'], axis=1)\n",
    "y_valid = validation_df['label']"
   ]
  },
  {
   "cell_type": "markdown",
   "metadata": {},
   "source": [
    "##Below is the Objective and study optimizer, rerun it evertime to try a new encoder"
   ]
  },
  {
   "cell_type": "code",
   "execution_count": null,
   "metadata": {},
   "outputs": [],
   "source": [
    "def objective(trial, X_train, y_train, X_valid, y_valid):\n",
    "    n_estimators = trial.suggest_int('n_estimators', 100,400)\n",
    "    min_samples_split = trial.suggest_float('min_samples_split',0.0,1.0)\n",
    "    min_samples_leaf = trial.suggest_float('min_samples_leaf', 0.0,1.0)\n",
    "    max_features = trial.suggest_categorical('max_features', ['sqrt', 'log2'])\n",
    "    rf = RandomForestClassifier(n_estimators= n_estimators, min_samples_split = min_samples_split, min_samples_leaf= min_samples_leaf, random_state=42, n_jobs= -1, max_features= max_features)\n",
    "    rf.fit(X_train, y_train)\n",
    "    rf_probs = rf.predict_proba(X_valid)\n",
    "    true_probs = [entry[1] for entry in rf_probs]\n",
    "    return roc_auc_score(y_true=y_valid,y_score=true_probs)"
   ]
  },
  {
   "cell_type": "code",
   "execution_count": null,
   "metadata": {},
   "outputs": [
    {
     "name": "stderr",
     "output_type": "stream",
     "text": [
      "[I 2023-11-01 22:30:04,113] A new study created in memory with name: label_encoder\n"
     ]
    }
   ],
   "source": [
    "# name study after encoding method used\n",
    "# create a new study for each encoding method \n",
    "study = optuna.create_study(study_name = 'label_encoder',pruner = optuna.pruners.HyperbandPruner(\n",
    "        min_resource=1, reduction_factor=3\n",
    "    ), direction = \"maximize\", )    \n",
    "\n",
    "'''\n",
    "Example run of study to optimize params \n",
    "-----------\n",
    "\n",
    "study.optimize(lambda trial: objective(trial, X_train, y_train, X_valid, y_valid), n_trials= 60)\n",
    "\n",
    "#these 2 should be recorded for each study:\n",
    "#study.best_params\n",
    "#study.best_value\n",
    "'''"
   ]
  },
  {
   "cell_type": "markdown",
   "metadata": {},
   "source": [
    "##One Hot Encoder"
   ]
  },
  {
   "cell_type": "code",
   "execution_count": 28,
   "metadata": {},
   "outputs": [
    {
     "name": "stderr",
     "output_type": "stream",
     "text": [
      "[I 2023-11-01 16:59:58,371] Trial 0 finished with value: 0.5 and parameters: {'n_estimators': 149, 'min_samples_split': 0.6563482542554723, 'min_samples_leaf': 0.15326087971968738, 'max_features': 'log2'}. Best is trial 0 with value: 0.5.\n",
      "[I 2023-11-01 17:00:00,112] Trial 1 finished with value: 0.5 and parameters: {'n_estimators': 147, 'min_samples_split': 0.3456083716568995, 'min_samples_leaf': 0.5546559515315573, 'max_features': 'sqrt'}. Best is trial 0 with value: 0.5.\n",
      "[I 2023-11-01 17:00:02,575] Trial 2 finished with value: 0.5 and parameters: {'n_estimators': 214, 'min_samples_split': 0.5087600334141884, 'min_samples_leaf': 0.8032553174231851, 'max_features': 'sqrt'}. Best is trial 0 with value: 0.5.\n",
      "[I 2023-11-01 17:00:06,224] Trial 3 finished with value: 0.5 and parameters: {'n_estimators': 372, 'min_samples_split': 0.6475955285958578, 'min_samples_leaf': 0.48349455729801716, 'max_features': 'sqrt'}. Best is trial 0 with value: 0.5.\n",
      "[I 2023-11-01 17:00:07,445] Trial 4 finished with value: 0.5 and parameters: {'n_estimators': 109, 'min_samples_split': 0.7045921320366642, 'min_samples_leaf': 0.8674125372008142, 'max_features': 'log2'}. Best is trial 0 with value: 0.5.\n",
      "[I 2023-11-01 17:00:08,953] Trial 5 finished with value: 0.5 and parameters: {'n_estimators': 129, 'min_samples_split': 0.42830826394855603, 'min_samples_leaf': 0.4118907214033929, 'max_features': 'log2'}. Best is trial 0 with value: 0.5.\n",
      "[I 2023-11-01 17:00:10,885] Trial 6 finished with value: 0.5 and parameters: {'n_estimators': 182, 'min_samples_split': 0.10870584996105137, 'min_samples_leaf': 0.9061541326314677, 'max_features': 'sqrt'}. Best is trial 0 with value: 0.5.\n",
      "[I 2023-11-01 17:00:22,549] Trial 7 finished with value: 0.8029919155570309 and parameters: {'n_estimators': 265, 'min_samples_split': 0.34132255711020043, 'min_samples_leaf': 0.024837465402464565, 'max_features': 'log2'}. Best is trial 7 with value: 0.8029919155570309.\n",
      "[I 2023-11-01 17:00:32,334] Trial 8 finished with value: 0.7122646127695191 and parameters: {'n_estimators': 384, 'min_samples_split': 0.3911946074692494, 'min_samples_leaf': 0.23912847526123548, 'max_features': 'sqrt'}. Best is trial 7 with value: 0.8029919155570309.\n",
      "[I 2023-11-01 17:00:37,093] Trial 9 finished with value: 0.5 and parameters: {'n_estimators': 392, 'min_samples_split': 0.9378473123078694, 'min_samples_leaf': 0.5110396586978495, 'max_features': 'sqrt'}. Best is trial 7 with value: 0.8029919155570309.\n",
      "[I 2023-11-01 17:01:13,082] Trial 10 finished with value: 0.8453629086944897 and parameters: {'n_estimators': 294, 'min_samples_split': 0.044550916611575286, 'min_samples_leaf': 0.009863424709507535, 'max_features': 'log2'}. Best is trial 10 with value: 0.8453629086944897.\n",
      "[I 2023-11-01 17:01:45,883] Trial 11 finished with value: 0.8440642828818797 and parameters: {'n_estimators': 280, 'min_samples_split': 0.02844354799636541, 'min_samples_leaf': 0.016395566419990272, 'max_features': 'log2'}. Best is trial 10 with value: 0.8453629086944897.\n",
      "[I 2023-11-01 17:02:26,761] Trial 12 finished with value: 0.8571041445202356 and parameters: {'n_estimators': 293, 'min_samples_split': 0.023033291234123135, 'min_samples_leaf': 0.004072549653805263, 'max_features': 'log2'}. Best is trial 12 with value: 0.8571041445202356.\n",
      "[I 2023-11-01 17:02:35,145] Trial 13 finished with value: 0.7341355238871459 and parameters: {'n_estimators': 313, 'min_samples_split': 0.1511193747743767, 'min_samples_leaf': 0.20296997496339242, 'max_features': 'log2'}. Best is trial 12 with value: 0.8571041445202356.\n",
      "[I 2023-11-01 17:03:22,469] Trial 14 finished with value: 0.8560248410300658 and parameters: {'n_estimators': 317, 'min_samples_split': 0.0011453241983895232, 'min_samples_leaf': 0.007660865788453375, 'max_features': 'log2'}. Best is trial 12 with value: 0.8571041445202356.\n",
      "[I 2023-11-01 17:03:29,808] Trial 15 finished with value: 0.6924353496434398 and parameters: {'n_estimators': 337, 'min_samples_split': 0.20210653475921864, 'min_samples_leaf': 0.2966716432577396, 'max_features': 'log2'}. Best is trial 12 with value: 0.8571041445202356.\n",
      "[I 2023-11-01 17:03:37,594] Trial 16 finished with value: 0.7787412668253675 and parameters: {'n_estimators': 224, 'min_samples_split': 0.003806648136776978, 'min_samples_leaf': 0.12101979871969704, 'max_features': 'log2'}. Best is trial 12 with value: 0.8571041445202356.\n",
      "[I 2023-11-01 17:03:40,554] Trial 17 finished with value: 0.5 and parameters: {'n_estimators': 240, 'min_samples_split': 0.20821300411850846, 'min_samples_leaf': 0.31811320715518693, 'max_features': 'log2'}. Best is trial 12 with value: 0.8571041445202356.\n",
      "[I 2023-11-01 17:03:49,878] Trial 18 finished with value: 0.7378953581941687 and parameters: {'n_estimators': 332, 'min_samples_split': 0.2461288548985472, 'min_samples_leaf': 0.18049361382065426, 'max_features': 'log2'}. Best is trial 12 with value: 0.8571041445202356.\n",
      "[I 2023-11-01 17:04:02,439] Trial 19 finished with value: 0.7837463171803777 and parameters: {'n_estimators': 350, 'min_samples_split': 0.12390347770306626, 'min_samples_leaf': 0.1104576153953355, 'max_features': 'log2'}. Best is trial 12 with value: 0.8571041445202356.\n",
      "[I 2023-11-01 17:04:18,417] Trial 20 finished with value: 0.7914556647287598 and parameters: {'n_estimators': 283, 'min_samples_split': 0.010039096089919614, 'min_samples_leaf': 0.09011340400958237, 'max_features': 'log2'}. Best is trial 12 with value: 0.8571041445202356.\n",
      "[I 2023-11-01 17:05:09,019] Trial 21 finished with value: 0.8428948867415911 and parameters: {'n_estimators': 303, 'min_samples_split': 0.08773585755896571, 'min_samples_leaf': 0.0001558391680221401, 'max_features': 'log2'}. Best is trial 12 with value: 0.8571041445202356.\n",
      "[I 2023-11-01 17:05:34,291] Trial 22 finished with value: 0.8013579125888171 and parameters: {'n_estimators': 303, 'min_samples_split': 0.005750841665669082, 'min_samples_leaf': 0.07314114946193795, 'max_features': 'log2'}. Best is trial 12 with value: 0.8571041445202356.\n",
      "[I 2023-11-01 17:06:12,917] Trial 23 finished with value: 0.8394758222326703 and parameters: {'n_estimators': 260, 'min_samples_split': 0.09291445365298551, 'min_samples_leaf': 0.006196430308825397, 'max_features': 'log2'}. Best is trial 12 with value: 0.8571041445202356.\n",
      "[I 2023-11-01 17:06:33,484] Trial 24 finished with value: 0.7792863757954953 and parameters: {'n_estimators': 355, 'min_samples_split': 0.25738466721396636, 'min_samples_leaf': 0.12197839661951942, 'max_features': 'log2'}. Best is trial 12 with value: 0.8571041445202356.\n",
      "[I 2023-11-01 17:06:45,297] Trial 25 finished with value: 0.7103220666931025 and parameters: {'n_estimators': 322, 'min_samples_split': 0.1697733568322678, 'min_samples_leaf': 0.2396872679403286, 'max_features': 'log2'}. Best is trial 12 with value: 0.8571041445202356.\n",
      "[I 2023-11-01 17:07:04,612] Trial 26 finished with value: 0.8054466335056826 and parameters: {'n_estimators': 287, 'min_samples_split': 0.07667062504168826, 'min_samples_leaf': 0.06350491005120804, 'max_features': 'log2'}. Best is trial 12 with value: 0.8571041445202356.\n",
      "[I 2023-11-01 17:07:17,060] Trial 27 finished with value: 0.7924443589084517 and parameters: {'n_estimators': 243, 'min_samples_split': 0.2700923040668088, 'min_samples_leaf': 0.0810265255756909, 'max_features': 'log2'}. Best is trial 12 with value: 0.8571041445202356.\n",
      "[I 2023-11-01 17:07:23,634] Trial 28 finished with value: 0.7437825738210778 and parameters: {'n_estimators': 201, 'min_samples_split': 0.14570726980557344, 'min_samples_leaf': 0.17183425752082385, 'max_features': 'log2'}. Best is trial 12 with value: 0.8571041445202356.\n",
      "[I 2023-11-01 17:07:35,940] Trial 29 finished with value: 0.7706546280497493 and parameters: {'n_estimators': 363, 'min_samples_split': 0.0631489065445066, 'min_samples_leaf': 0.15253879400037695, 'max_features': 'log2'}. Best is trial 12 with value: 0.8571041445202356.\n",
      "[I 2023-11-01 17:08:11,282] Trial 30 finished with value: 0.842793362981027 and parameters: {'n_estimators': 295, 'min_samples_split': 0.06739546272342034, 'min_samples_leaf': 0.008667234000702354, 'max_features': 'log2'}. Best is trial 12 with value: 0.8571041445202356.\n",
      "[I 2023-11-01 17:09:09,713] Trial 31 finished with value: 0.8629663021197282 and parameters: {'n_estimators': 274, 'min_samples_split': 0.014906324511762499, 'min_samples_leaf': 0.0005254413062380676, 'max_features': 'log2'}. Best is trial 31 with value: 0.8629663021197282.\n",
      "[I 2023-11-01 17:09:25,670] Trial 32 finished with value: 0.7932194786121987 and parameters: {'n_estimators': 259, 'min_samples_split': 0.0008934984008804657, 'min_samples_leaf': 0.0877015048829954, 'max_features': 'log2'}. Best is trial 31 with value: 0.8629663021197282.\n",
      "[I 2023-11-01 17:09:37,692] Trial 33 finished with value: 0.7690128428848764 and parameters: {'n_estimators': 270, 'min_samples_split': 0.134638610948007, 'min_samples_leaf': 0.1485681067045349, 'max_features': 'log2'}. Best is trial 31 with value: 0.8629663021197282.\n",
      "[I 2023-11-01 17:10:18,185] Trial 34 finished with value: 0.8315538689465166 and parameters: {'n_estimators': 318, 'min_samples_split': 0.05225089292379193, 'min_samples_leaf': 0.041771212808168076, 'max_features': 'sqrt'}. Best is trial 31 with value: 0.8629663021197282.\n",
      "[I 2023-11-01 17:10:24,782] Trial 35 finished with value: 0.5 and parameters: {'n_estimators': 230, 'min_samples_split': 0.18746985547299413, 'min_samples_leaf': 0.6420549772791928, 'max_features': 'log2'}. Best is trial 31 with value: 0.8629663021197282.\n",
      "[I 2023-11-01 17:10:45,807] Trial 36 finished with value: 0.8093166133430121 and parameters: {'n_estimators': 207, 'min_samples_split': 0.06157934260962937, 'min_samples_leaf': 0.07184917622235096, 'max_features': 'sqrt'}. Best is trial 31 with value: 0.8629663021197282.\n",
      "[I 2023-11-01 17:10:58,347] Trial 37 finished with value: 0.7765711318607651 and parameters: {'n_estimators': 337, 'min_samples_split': 0.09960682599691134, 'min_samples_leaf': 0.13073529828256747, 'max_features': 'log2'}. Best is trial 31 with value: 0.8629663021197282.\n",
      "[I 2023-11-01 17:11:06,897] Trial 38 finished with value: 0.7994353225187709 and parameters: {'n_estimators': 165, 'min_samples_split': 0.2899092086507568, 'min_samples_leaf': 0.058998603851864756, 'max_features': 'log2'}. Best is trial 31 with value: 0.8629663021197282.\n",
      "[I 2023-11-01 17:11:42,203] Trial 39 finished with value: 0.8374209348194207 and parameters: {'n_estimators': 275, 'min_samples_split': 0.13634725977826553, 'min_samples_leaf': 0.0030681936116781555, 'max_features': 'sqrt'}. Best is trial 31 with value: 0.8629663021197282.\n",
      "[I 2023-11-01 17:11:50,287] Trial 40 finished with value: 0.7333583375419626 and parameters: {'n_estimators': 301, 'min_samples_split': 0.046616843752081194, 'min_samples_leaf': 0.19953584569262206, 'max_features': 'log2'}. Best is trial 31 with value: 0.8629663021197282.\n",
      "[I 2023-11-01 17:12:09,837] Trial 41 finished with value: 0.8266979073963807 and parameters: {'n_estimators': 282, 'min_samples_split': 0.0013653503677984848, 'min_samples_leaf': 0.034177017470071215, 'max_features': 'log2'}. Best is trial 31 with value: 0.8629663021197282.\n",
      "[I 2023-11-01 17:12:41,297] Trial 42 finished with value: 0.851102359458695 and parameters: {'n_estimators': 247, 'min_samples_split': 0.042359699165625125, 'min_samples_leaf': 0.0017520049248407749, 'max_features': 'log2'}. Best is trial 31 with value: 0.8629663021197282.\n",
      "[I 2023-11-01 17:12:55,913] Trial 43 finished with value: 0.810655151168363 and parameters: {'n_estimators': 255, 'min_samples_split': 0.1074781578521491, 'min_samples_leaf': 0.05089799360290234, 'max_features': 'log2'}. Best is trial 31 with value: 0.8629663021197282.\n",
      "[I 2023-11-01 17:13:07,419] Trial 44 finished with value: 0.7813558265726173 and parameters: {'n_estimators': 314, 'min_samples_split': 0.1909168501283097, 'min_samples_leaf': 0.11515903668081581, 'max_features': 'log2'}. Best is trial 31 with value: 0.8629663021197282.\n",
      "[I 2023-11-01 17:13:24,385] Trial 45 finished with value: 0.8222108413426453 and parameters: {'n_estimators': 189, 'min_samples_split': 0.04571634217423067, 'min_samples_leaf': 0.04993122616132087, 'max_features': 'sqrt'}. Best is trial 31 with value: 0.8629663021197282.\n",
      "[I 2023-11-01 17:13:31,870] Trial 46 finished with value: 0.7710673105115842 and parameters: {'n_estimators': 225, 'min_samples_split': 0.1562378484114921, 'min_samples_leaf': 0.14690824389859403, 'max_features': 'log2'}. Best is trial 31 with value: 0.8629663021197282.\n",
      "[I 2023-11-01 17:13:39,311] Trial 47 finished with value: 0.7112581260987104 and parameters: {'n_estimators': 293, 'min_samples_split': 0.4833936213991958, 'min_samples_leaf': 0.2392028745363375, 'max_features': 'log2'}. Best is trial 31 with value: 0.8629663021197282.\n",
      "[I 2023-11-01 17:13:50,217] Trial 48 finished with value: 0.7888126240792143 and parameters: {'n_estimators': 247, 'min_samples_split': 0.2272957880520087, 'min_samples_leaf': 0.09938185072110947, 'max_features': 'log2'}. Best is trial 31 with value: 0.8629663021197282.\n",
      "[I 2023-11-01 17:14:10,501] Trial 49 finished with value: 0.8051160354584005 and parameters: {'n_estimators': 374, 'min_samples_split': 0.32173149035183396, 'min_samples_leaf': 0.03738597309167698, 'max_features': 'log2'}. Best is trial 31 with value: 0.8629663021197282.\n",
      "[I 2023-11-01 17:14:54,216] Trial 50 finished with value: 0.8433598810647853 and parameters: {'n_estimators': 327, 'min_samples_split': 0.10252645024389978, 'min_samples_leaf': 0.001623140608022883, 'max_features': 'sqrt'}. Best is trial 31 with value: 0.8629663021197282.\n",
      "[I 2023-11-01 17:15:12,970] Trial 51 finished with value: 0.8189229439823922 and parameters: {'n_estimators': 278, 'min_samples_split': 0.03293440241260907, 'min_samples_leaf': 0.04225552630244982, 'max_features': 'log2'}. Best is trial 31 with value: 0.8629663021197282.\n",
      "[I 2023-11-01 17:15:56,781] Trial 52 finished with value: 0.8556687328775529 and parameters: {'n_estimators': 270, 'min_samples_split': 0.030963157181968758, 'min_samples_leaf': 0.0009498507119920716, 'max_features': 'log2'}. Best is trial 31 with value: 0.8629663021197282.\n",
      "[I 2023-11-01 17:16:09,261] Trial 53 finished with value: 0.7903873402712208 and parameters: {'n_estimators': 268, 'min_samples_split': 0.04772553078768219, 'min_samples_leaf': 0.0975215239406556, 'max_features': 'log2'}. Best is trial 31 with value: 0.8629663021197282.\n",
      "[I 2023-11-01 17:16:35,110] Trial 54 finished with value: 0.838648907327923 and parameters: {'n_estimators': 236, 'min_samples_split': 0.11697836262180705, 'min_samples_leaf': 0.000179646300881694, 'max_features': 'log2'}. Best is trial 31 with value: 0.8629663021197282.\n",
      "[I 2023-11-01 17:16:49,598] Trial 55 finished with value: 0.7976732846553165 and parameters: {'n_estimators': 303, 'min_samples_split': 0.0012148249893145823, 'min_samples_leaf': 0.0832078147901338, 'max_features': 'log2'}. Best is trial 31 with value: 0.8629663021197282.\n",
      "[I 2023-11-01 17:16:56,745] Trial 56 finished with value: 0.7395724377198227 and parameters: {'n_estimators': 248, 'min_samples_split': 0.17526082248469443, 'min_samples_leaf': 0.17858223149528074, 'max_features': 'log2'}. Best is trial 31 with value: 0.8629663021197282.\n",
      "[I 2023-11-01 17:17:07,723] Trial 57 finished with value: 0.7802752960140944 and parameters: {'n_estimators': 309, 'min_samples_split': 0.0913031351404828, 'min_samples_leaf': 0.1190449869265693, 'max_features': 'log2'}. Best is trial 31 with value: 0.8629663021197282.\n",
      "[I 2023-11-01 17:17:25,714] Trial 58 finished with value: 0.8078900172177065 and parameters: {'n_estimators': 345, 'min_samples_split': 0.22361655309728345, 'min_samples_leaf': 0.04352418274814758, 'max_features': 'log2'}. Best is trial 31 with value: 0.8629663021197282.\n",
      "[I 2023-11-01 17:17:30,963] Trial 59 finished with value: 0.7187411764098046 and parameters: {'n_estimators': 217, 'min_samples_split': 0.022676977097833645, 'min_samples_leaf': 0.2147808853355459, 'max_features': 'log2'}. Best is trial 31 with value: 0.8629663021197282.\n"
     ]
    }
   ],
   "source": [
    "##One HOt's Results\n",
    "study.optimize(lambda trial: objective(trial, train_df_OHE.drop(\"label\",axis=1),train_df_OHE[\"label\"], validation_df_OHE.drop(\"label\",axis=1),validation_df_OHE[\"label\"]), n_trials= 60)\n",
    "#Best is trial 31 with value: 0.8629663021197282."
   ]
  },
  {
   "cell_type": "markdown",
   "metadata": {},
   "source": [
    "##Count Encoding"
   ]
  },
  {
   "cell_type": "code",
   "execution_count": 35,
   "metadata": {},
   "outputs": [
    {
     "name": "stderr",
     "output_type": "stream",
     "text": [
      "[I 2023-11-01 17:20:47,333] Trial 0 finished with value: 0.5 and parameters: {'n_estimators': 117, 'min_samples_split': 0.4672112300669361, 'min_samples_leaf': 0.796829116606089, 'max_features': 'log2'}. Best is trial 0 with value: 0.5.\n",
      "[I 2023-11-01 17:20:56,755] Trial 1 finished with value: 0.7713252854871397 and parameters: {'n_estimators': 243, 'min_samples_split': 0.07162120984005937, 'min_samples_leaf': 0.18830043100233151, 'max_features': 'sqrt'}. Best is trial 1 with value: 0.7713252854871397.\n",
      "[I 2023-11-01 17:20:58,672] Trial 2 finished with value: 0.5 and parameters: {'n_estimators': 185, 'min_samples_split': 0.9206712941073871, 'min_samples_leaf': 0.8054461103217903, 'max_features': 'log2'}. Best is trial 1 with value: 0.7713252854871397.\n",
      "[I 2023-11-01 17:21:00,644] Trial 3 finished with value: 0.5 and parameters: {'n_estimators': 190, 'min_samples_split': 0.87083417957451, 'min_samples_leaf': 0.8003897849542819, 'max_features': 'sqrt'}. Best is trial 1 with value: 0.7713252854871397.\n",
      "[I 2023-11-01 17:21:02,064] Trial 4 finished with value: 0.5 and parameters: {'n_estimators': 127, 'min_samples_split': 0.27471263151956626, 'min_samples_leaf': 0.8188806438118514, 'max_features': 'sqrt'}. Best is trial 1 with value: 0.7713252854871397.\n",
      "[I 2023-11-01 17:21:05,949] Trial 5 finished with value: 0.5 and parameters: {'n_estimators': 366, 'min_samples_split': 0.1837012581041525, 'min_samples_leaf': 0.5244423362691409, 'max_features': 'log2'}. Best is trial 1 with value: 0.7713252854871397.\n",
      "[I 2023-11-01 17:21:07,757] Trial 6 finished with value: 0.5 and parameters: {'n_estimators': 165, 'min_samples_split': 0.7872396024334876, 'min_samples_leaf': 0.9434514315723186, 'max_features': 'sqrt'}. Best is trial 1 with value: 0.7713252854871397.\n",
      "[I 2023-11-01 17:21:27,911] Trial 7 finished with value: 0.7891277868982683 and parameters: {'n_estimators': 280, 'min_samples_split': 0.3102350229221046, 'min_samples_leaf': 0.019481863743687766, 'max_features': 'log2'}. Best is trial 7 with value: 0.7891277868982683.\n",
      "[I 2023-11-01 17:21:31,274] Trial 8 finished with value: 0.5 and parameters: {'n_estimators': 290, 'min_samples_split': 0.399814179927803, 'min_samples_leaf': 0.5361252601962166, 'max_features': 'log2'}. Best is trial 7 with value: 0.7891277868982683.\n",
      "[I 2023-11-01 17:21:41,582] Trial 9 finished with value: 0.6999660618726613 and parameters: {'n_estimators': 299, 'min_samples_split': 0.06630566286224071, 'min_samples_leaf': 0.296979502731042, 'max_features': 'sqrt'}. Best is trial 7 with value: 0.7891277868982683.\n",
      "[I 2023-11-01 17:21:48,238] Trial 10 finished with value: 0.5 and parameters: {'n_estimators': 387, 'min_samples_split': 0.6408513838306353, 'min_samples_leaf': 0.09040029801805316, 'max_features': 'log2'}. Best is trial 7 with value: 0.7891277868982683.\n",
      "[I 2023-11-01 17:22:11,563] Trial 11 finished with value: 0.803933206148775 and parameters: {'n_estimators': 254, 'min_samples_split': 0.005116158505008461, 'min_samples_leaf': 0.08493909599414948, 'max_features': 'sqrt'}. Best is trial 11 with value: 0.803933206148775.\n",
      "[I 2023-11-01 17:23:03,860] Trial 12 finished with value: 0.8185927334303793 and parameters: {'n_estimators': 255, 'min_samples_split': 0.0035923397726084216, 'min_samples_leaf': 0.014176274796043026, 'max_features': 'sqrt'}. Best is trial 12 with value: 0.8185927334303793.\n",
      "[I 2023-11-01 17:24:03,456] Trial 13 finished with value: 0.8196568600225005 and parameters: {'n_estimators': 227, 'min_samples_split': 0.013172888182806153, 'min_samples_leaf': 0.005642514310612204, 'max_features': 'sqrt'}. Best is trial 13 with value: 0.8196568600225005.\n",
      "[I 2023-11-01 17:24:11,233] Trial 14 finished with value: 0.7272206385147048 and parameters: {'n_estimators': 223, 'min_samples_split': 0.15766508058285722, 'min_samples_leaf': 0.2481845882090155, 'max_features': 'sqrt'}. Best is trial 13 with value: 0.8196568600225005.\n",
      "[I 2023-11-01 17:24:15,204] Trial 15 finished with value: 0.5 and parameters: {'n_estimators': 343, 'min_samples_split': 0.0132426043362164, 'min_samples_leaf': 0.363353666617784, 'max_features': 'sqrt'}. Best is trial 13 with value: 0.8196568600225005.\n",
      "[I 2023-11-01 17:24:53,740] Trial 16 finished with value: 0.7968192773729887 and parameters: {'n_estimators': 334, 'min_samples_split': 0.19578469453833952, 'min_samples_leaf': 0.004166263402522555, 'max_features': 'sqrt'}. Best is trial 13 with value: 0.8196568600225005.\n",
      "[I 2023-11-01 17:25:05,062] Trial 17 finished with value: 0.769475383071365 and parameters: {'n_estimators': 218, 'min_samples_split': 0.3493353971494395, 'min_samples_leaf': 0.18595530713418712, 'max_features': 'sqrt'}. Best is trial 13 with value: 0.8196568600225005.\n",
      "[I 2023-11-01 17:25:07,671] Trial 18 finished with value: 0.5 and parameters: {'n_estimators': 148, 'min_samples_split': 0.5267511116018491, 'min_samples_leaf': 0.3918146608387184, 'max_features': 'sqrt'}. Best is trial 13 with value: 0.8196568600225005.\n",
      "[I 2023-11-01 17:25:25,260] Trial 19 finished with value: 0.7999382913783595 and parameters: {'n_estimators': 268, 'min_samples_split': 0.12602228248162373, 'min_samples_leaf': 0.12418947116217972, 'max_features': 'sqrt'}. Best is trial 13 with value: 0.8196568600225005.\n",
      "[I 2023-11-01 17:25:48,049] Trial 20 finished with value: 0.7942110790064105 and parameters: {'n_estimators': 219, 'min_samples_split': 0.23799440258757276, 'min_samples_leaf': 0.007172175840112356, 'max_features': 'sqrt'}. Best is trial 13 with value: 0.8196568600225005.\n",
      "[I 2023-11-01 17:26:07,349] Trial 21 finished with value: 0.7996705644385258 and parameters: {'n_estimators': 255, 'min_samples_split': 0.0059883827584025625, 'min_samples_leaf': 0.11293303436231122, 'max_features': 'sqrt'}. Best is trial 13 with value: 0.8196568600225005.\n",
      "[I 2023-11-01 17:26:35,056] Trial 22 finished with value: 0.8066403126828493 and parameters: {'n_estimators': 318, 'min_samples_split': 0.096515895126265, 'min_samples_leaf': 0.08057747762795418, 'max_features': 'sqrt'}. Best is trial 13 with value: 0.8196568600225005.\n",
      "[I 2023-11-01 17:27:22,597] Trial 23 finished with value: 0.7867246058204372 and parameters: {'n_estimators': 322, 'min_samples_split': 0.1104132596188008, 'min_samples_leaf': 0.0027020978221389564, 'max_features': 'sqrt'}. Best is trial 13 with value: 0.8196568600225005.\n",
      "[I 2023-11-01 17:27:38,239] Trial 24 finished with value: 0.772670991974973 and parameters: {'n_estimators': 309, 'min_samples_split': 0.12298272668133059, 'min_samples_leaf': 0.18598168235031393, 'max_features': 'sqrt'}. Best is trial 13 with value: 0.8196568600225005.\n",
      "[I 2023-11-01 17:28:04,105] Trial 25 finished with value: 0.7995606449471263 and parameters: {'n_estimators': 352, 'min_samples_split': 0.24190808538787256, 'min_samples_leaf': 0.09519831939551483, 'max_features': 'sqrt'}. Best is trial 13 with value: 0.8196568600225005.\n",
      "[I 2023-11-01 17:28:11,107] Trial 26 finished with value: 0.7290627587338204 and parameters: {'n_estimators': 194, 'min_samples_split': 0.07879004576071805, 'min_samples_leaf': 0.23528998501142, 'max_features': 'sqrt'}. Best is trial 13 with value: 0.8196568600225005.\n",
      "[I 2023-11-01 17:28:33,921] Trial 27 finished with value: 0.800840509530446 and parameters: {'n_estimators': 240, 'min_samples_split': 0.19146260228004672, 'min_samples_leaf': 0.07237881564563658, 'max_features': 'sqrt'}. Best is trial 13 with value: 0.8196568600225005.\n",
      "[I 2023-11-01 17:28:51,770] Trial 28 finished with value: 0.7859957272188303 and parameters: {'n_estimators': 276, 'min_samples_split': 0.002162013221530437, 'min_samples_leaf': 0.1438746632657727, 'max_features': 'sqrt'}. Best is trial 13 with value: 0.8196568600225005.\n",
      "[I 2023-11-01 17:29:37,247] Trial 29 finished with value: 0.8102301334404544 and parameters: {'n_estimators': 389, 'min_samples_split': 0.08786970994185302, 'min_samples_leaf': 0.06824328503948227, 'max_features': 'log2'}. Best is trial 13 with value: 0.8196568600225005.\n",
      "[I 2023-11-01 17:29:53,194] Trial 30 finished with value: 0.7065289400841898 and parameters: {'n_estimators': 383, 'min_samples_split': 0.2363227640839775, 'min_samples_leaf': 0.2769139165308113, 'max_features': 'log2'}. Best is trial 13 with value: 0.8196568600225005.\n",
      "[I 2023-11-01 17:30:46,116] Trial 31 finished with value: 0.8101476615306322 and parameters: {'n_estimators': 396, 'min_samples_split': 0.07171800730289363, 'min_samples_leaf': 0.06057282615209275, 'max_features': 'log2'}. Best is trial 13 with value: 0.8196568600225005.\n",
      "[I 2023-11-01 17:31:07,504] Trial 32 finished with value: 0.7772947792762364 and parameters: {'n_estimators': 374, 'min_samples_split': 0.06487091403542253, 'min_samples_leaf': 0.16223931091615768, 'max_features': 'log2'}. Best is trial 13 with value: 0.8196568600225005.\n",
      "[I 2023-11-01 17:31:56,016] Trial 33 finished with value: 0.8069542484335503 and parameters: {'n_estimators': 399, 'min_samples_split': 0.05800524127733393, 'min_samples_leaf': 0.05396044457881681, 'max_features': 'log2'}. Best is trial 13 with value: 0.8196568600225005.\n",
      "[I 2023-11-01 17:32:02,882] Trial 34 finished with value: 0.7862176974256105 and parameters: {'n_estimators': 106, 'min_samples_split': 0.14583692680676605, 'min_samples_leaf': 0.1444932272406599, 'max_features': 'log2'}. Best is trial 13 with value: 0.8196568600225005.\n",
      "[I 2023-11-01 17:32:51,875] Trial 35 finished with value: 0.7916529644033931 and parameters: {'n_estimators': 360, 'min_samples_split': 0.1460730768380839, 'min_samples_leaf': 0.0013201940403697893, 'max_features': 'log2'}. Best is trial 13 with value: 0.8196568600225005.\n",
      "[I 2023-11-01 17:33:39,906] Trial 36 finished with value: 0.8091638756243518 and parameters: {'n_estimators': 399, 'min_samples_split': 0.059434782932378895, 'min_samples_leaf': 0.055869287267735664, 'max_features': 'log2'}. Best is trial 13 with value: 0.8196568600225005.\n",
      "[I 2023-11-01 17:33:48,197] Trial 37 finished with value: 0.7472327025340899 and parameters: {'n_estimators': 168, 'min_samples_split': 0.19396778145799776, 'min_samples_leaf': 0.199209112812736, 'max_features': 'log2'}. Best is trial 13 with value: 0.8196568600225005.\n",
      "[I 2023-11-01 17:33:59,582] Trial 38 finished with value: 0.7861505315789269 and parameters: {'n_estimators': 198, 'min_samples_split': 0.30259070561896334, 'min_samples_leaf': 0.13933854312049143, 'max_features': 'log2'}. Best is trial 13 with value: 0.8196568600225005.\n",
      "[I 2023-11-01 17:34:14,677] Trial 39 finished with value: 0.7920745592564225 and parameters: {'n_estimators': 131, 'min_samples_split': 0.05503988808400099, 'min_samples_leaf': 0.05197592542501034, 'max_features': 'log2'}. Best is trial 13 with value: 0.8196568600225005.\n",
      "[I 2023-11-01 17:34:38,609] Trial 40 finished with value: 0.8032473395220633 and parameters: {'n_estimators': 231, 'min_samples_split': 0.1479182357513117, 'min_samples_leaf': 0.05117019390883281, 'max_features': 'log2'}. Best is trial 13 with value: 0.8196568600225005.\n",
      "[I 2023-11-01 17:35:31,292] Trial 41 finished with value: 0.8048784362757571 and parameters: {'n_estimators': 398, 'min_samples_split': 0.04978018128719481, 'min_samples_leaf': 0.046568961545223476, 'max_features': 'log2'}. Best is trial 13 with value: 0.8196568600225005.\n",
      "[I 2023-11-01 17:36:01,059] Trial 42 finished with value: 0.8002415387178815 and parameters: {'n_estimators': 372, 'min_samples_split': 0.10788866150422405, 'min_samples_leaf': 0.12550044574286306, 'max_features': 'log2'}. Best is trial 13 with value: 0.8196568600225005.\n",
      "[I 2023-11-01 17:36:57,674] Trial 43 finished with value: 0.8019390909102652 and parameters: {'n_estimators': 386, 'min_samples_split': 0.04545698882944404, 'min_samples_leaf': 0.047840065505410874, 'max_features': 'log2'}. Best is trial 13 with value: 0.8196568600225005.\n",
      "[I 2023-11-01 17:37:29,635] Trial 44 finished with value: 0.8049390469941345 and parameters: {'n_estimators': 346, 'min_samples_split': 4.6503607933885346e-05, 'min_samples_leaf': 0.09420593526851626, 'max_features': 'log2'}. Best is trial 13 with value: 0.8196568600225005.\n",
      "[I 2023-11-01 17:37:44,015] Trial 45 finished with value: 0.7310552916999804 and parameters: {'n_estimators': 362, 'min_samples_split': 0.09326043291180608, 'min_samples_leaf': 0.21685205522721943, 'max_features': 'log2'}. Best is trial 13 with value: 0.8196568600225005.\n",
      "[I 2023-11-01 17:38:07,519] Trial 46 finished with value: 0.7736510643849221 and parameters: {'n_estimators': 400, 'min_samples_split': 0.03783778557604333, 'min_samples_leaf': 0.1707412108110225, 'max_features': 'log2'}. Best is trial 13 with value: 0.8196568600225005.\n",
      "[I 2023-11-01 17:38:42,886] Trial 47 finished with value: 0.7998134856103631 and parameters: {'n_estimators': 293, 'min_samples_split': 0.17851139953233117, 'min_samples_leaf': 0.03340659871588092, 'max_features': 'log2'}. Best is trial 13 with value: 0.8196568600225005.\n",
      "[I 2023-11-01 17:38:59,257] Trial 48 finished with value: 0.7994623503138067 and parameters: {'n_estimators': 179, 'min_samples_split': 0.0957885676417405, 'min_samples_leaf': 0.10395227796851603, 'max_features': 'log2'}. Best is trial 13 with value: 0.8196568600225005.\n",
      "[I 2023-11-01 17:40:20,582] Trial 49 finished with value: 0.8046046062854315 and parameters: {'n_estimators': 329, 'min_samples_split': 0.04230655818114921, 'min_samples_leaf': 0.005729000437720233, 'max_features': 'log2'}. Best is trial 13 with value: 0.8196568600225005.\n",
      "[I 2023-11-01 17:40:28,703] Trial 50 finished with value: 0.7276217284097324 and parameters: {'n_estimators': 202, 'min_samples_split': 0.13088402562897264, 'min_samples_leaf': 0.22289403574327396, 'max_features': 'log2'}. Best is trial 13 with value: 0.8196568600225005.\n",
      "[I 2023-11-01 17:41:16,666] Trial 51 finished with value: 0.8106672281042568 and parameters: {'n_estimators': 388, 'min_samples_split': 0.08254009616794653, 'min_samples_leaf': 0.05992575127869197, 'max_features': 'log2'}. Best is trial 13 with value: 0.8196568600225005.\n",
      "[I 2023-11-01 17:41:59,158] Trial 52 finished with value: 0.8063668701877932 and parameters: {'n_estimators': 382, 'min_samples_split': 0.03195996095220031, 'min_samples_leaf': 0.07126596343042428, 'max_features': 'log2'}. Best is trial 13 with value: 0.8196568600225005.\n",
      "[I 2023-11-01 17:42:29,909] Trial 53 finished with value: 0.7994499827564604 and parameters: {'n_estimators': 373, 'min_samples_split': 0.07743399636992354, 'min_samples_leaf': 0.1170197282254515, 'max_features': 'log2'}. Best is trial 13 with value: 0.8196568600225005.\n",
      "[I 2023-11-01 17:43:13,330] Trial 54 finished with value: 0.8071277171491197 and parameters: {'n_estimators': 393, 'min_samples_split': 0.16735914874210892, 'min_samples_leaf': 0.05977719098438763, 'max_features': 'log2'}. Best is trial 13 with value: 0.8196568600225005.\n",
      "[I 2023-11-01 17:43:35,382] Trial 55 finished with value: 0.7782181159205015 and parameters: {'n_estimators': 355, 'min_samples_split': 0.0006008939441534966, 'min_samples_leaf': 0.16141669283645854, 'max_features': 'sqrt'}. Best is trial 13 with value: 0.8196568600225005.\n",
      "[I 2023-11-01 17:44:15,753] Trial 56 finished with value: 0.7863243877897658 and parameters: {'n_estimators': 260, 'min_samples_split': 0.10364961489341895, 'min_samples_leaf': 0.029189199368545145, 'max_features': 'sqrt'}. Best is trial 13 with value: 0.8196568600225005.\n",
      "[I 2023-11-01 17:44:49,656] Trial 57 finished with value: 0.8031602499602817 and parameters: {'n_estimators': 379, 'min_samples_split': 0.2154577288542538, 'min_samples_leaf': 0.09587422195324315, 'max_features': 'log2'}. Best is trial 13 with value: 0.8196568600225005.\n",
      "[I 2023-11-01 17:45:36,527] Trial 58 finished with value: 0.8000003229127245 and parameters: {'n_estimators': 366, 'min_samples_split': 0.16122553535778295, 'min_samples_leaf': 0.028508325504977707, 'max_features': 'sqrt'}. Best is trial 13 with value: 0.8196568600225005.\n",
      "[I 2023-11-01 17:45:50,683] Trial 59 finished with value: 0.7714140541950884 and parameters: {'n_estimators': 243, 'min_samples_split': 0.07869115505630178, 'min_samples_leaf': 0.188473265190648, 'max_features': 'sqrt'}. Best is trial 13 with value: 0.8196568600225005.\n"
     ]
    },
    {
     "data": {
      "text/plain": [
       "0.8196568600225005"
      ]
     },
     "execution_count": 35,
     "metadata": {},
     "output_type": "execute_result"
    }
   ],
   "source": [
    "# insert encoding steps here\n",
    "\n",
    "#train_df.columns\n",
    "#start with count encoding: \n",
    "'''\n",
    "Count encoding for categorical features.\n",
    "For a given categorical feature, replace the names of the groups with the group counts.\n",
    "'''\n",
    "import pandas as pd\n",
    "from count import CountEncoder\n",
    "\n",
    "enc=CountEncoder(cols=['sequence', 'm1_seq', 'p1_seq']).fit(X_train,y_train)\n",
    "count_X_train=enc.transform(X_train)\n",
    "count_X_validation=CountEncoder(cols=['sequence', 'm1_seq', 'p1_seq']).fit_transform(X_valid,y_valid)\n",
    "\n",
    "##Count Encoding's Results\n",
    "study.optimize(lambda trial: objective(trial, count_X_train, y_train, count_X_validation,y_valid), n_trials= 60)\n",
    "count_best_params=study.best_params\n",
    "count_best_value=study.best_value\n",
    "count_best_value\n",
    "\n",
    "#Best is trial 13 with value: 0.8196568600225005.\n",
    "\n",
    "\n"
   ]
  },
  {
   "cell_type": "markdown",
   "metadata": {},
   "source": [
    "##Backward Difference Encoder"
   ]
  },
  {
   "cell_type": "code",
   "execution_count": 40,
   "metadata": {},
   "outputs": [
    {
     "name": "stderr",
     "output_type": "stream",
     "text": [
      "/Users/yangliran/Desktop/DSA4266/Project2/dsa4266_wooper/data_processing/base_contrast_encoder.py:126: FutureWarning: Intercept column might not be added anymore in future releases (c.f. issue #370)\n",
      "  warnings.warn(\"Intercept column might not be added anymore in future releases (c.f. issue #370)\",\n",
      "/Users/yangliran/Desktop/DSA4266/Project2/dsa4266_wooper/data_processing/base_contrast_encoder.py:126: FutureWarning: Intercept column might not be added anymore in future releases (c.f. issue #370)\n",
      "  warnings.warn(\"Intercept column might not be added anymore in future releases (c.f. issue #370)\",\n",
      "/Users/yangliran/Desktop/DSA4266/Project2/dsa4266_wooper/data_processing/base_contrast_encoder.py:126: FutureWarning: Intercept column might not be added anymore in future releases (c.f. issue #370)\n",
      "  warnings.warn(\"Intercept column might not be added anymore in future releases (c.f. issue #370)\",\n",
      "/Users/yangliran/Desktop/DSA4266/Project2/dsa4266_wooper/data_processing/base_contrast_encoder.py:126: FutureWarning: Intercept column might not be added anymore in future releases (c.f. issue #370)\n",
      "  warnings.warn(\"Intercept column might not be added anymore in future releases (c.f. issue #370)\",\n",
      "[I 2023-11-01 21:30:42,636] Trial 0 finished with value: 0.5 and parameters: {'n_estimators': 215, 'min_samples_split': 0.04173264809932142, 'min_samples_leaf': 0.6544912748111981, 'max_features': 'sqrt'}. Best is trial 0 with value: 0.5.\n",
      "[I 2023-11-01 21:30:43,983] Trial 1 finished with value: 0.5 and parameters: {'n_estimators': 152, 'min_samples_split': 0.7149978743366856, 'min_samples_leaf': 0.20948191249869064, 'max_features': 'log2'}. Best is trial 0 with value: 0.5.\n",
      "[I 2023-11-01 21:30:46,938] Trial 2 finished with value: 0.5 and parameters: {'n_estimators': 374, 'min_samples_split': 0.747349574852959, 'min_samples_leaf': 0.14362523892914347, 'max_features': 'log2'}. Best is trial 0 with value: 0.5.\n",
      "[I 2023-11-01 21:30:51,689] Trial 3 finished with value: 0.6770849505878949 and parameters: {'n_estimators': 362, 'min_samples_split': 0.09647831442818222, 'min_samples_leaf': 0.29872181228667927, 'max_features': 'log2'}. Best is trial 3 with value: 0.6770849505878949.\n",
      "[I 2023-11-01 21:30:55,921] Trial 4 finished with value: 0.5 and parameters: {'n_estimators': 376, 'min_samples_split': 0.8712992122888162, 'min_samples_leaf': 0.32089673726300216, 'max_features': 'sqrt'}. Best is trial 3 with value: 0.6770849505878949.\n",
      "[I 2023-11-01 21:30:59,622] Trial 5 finished with value: 0.5 and parameters: {'n_estimators': 384, 'min_samples_split': 0.8769457084554968, 'min_samples_leaf': 0.5182135386600313, 'max_features': 'sqrt'}. Best is trial 3 with value: 0.6770849505878949.\n",
      "[I 2023-11-01 21:31:08,420] Trial 6 finished with value: 0.6865405455675062 and parameters: {'n_estimators': 343, 'min_samples_split': 0.30843179989945424, 'min_samples_leaf': 0.2409053081491347, 'max_features': 'sqrt'}. Best is trial 6 with value: 0.6865405455675062.\n",
      "[I 2023-11-01 21:31:11,981] Trial 7 finished with value: 0.5 and parameters: {'n_estimators': 285, 'min_samples_split': 0.10103804341904299, 'min_samples_leaf': 0.9703245804948536, 'max_features': 'sqrt'}. Best is trial 6 with value: 0.6865405455675062.\n",
      "[I 2023-11-01 21:31:17,816] Trial 8 finished with value: 0.6569369403115204 and parameters: {'n_estimators': 258, 'min_samples_split': 0.5778163902628055, 'min_samples_leaf': 0.10831395648056241, 'max_features': 'log2'}. Best is trial 6 with value: 0.6865405455675062.\n",
      "[I 2023-11-01 21:31:19,871] Trial 9 finished with value: 0.5 and parameters: {'n_estimators': 171, 'min_samples_split': 0.13611275923186583, 'min_samples_leaf': 0.685782538964914, 'max_features': 'log2'}. Best is trial 6 with value: 0.6865405455675062.\n",
      "[I 2023-11-01 21:31:38,938] Trial 10 finished with value: 0.664997423156459 and parameters: {'n_estimators': 315, 'min_samples_split': 0.33075848491804954, 'min_samples_leaf': 0.06300507987633919, 'max_features': 'sqrt'}. Best is trial 6 with value: 0.6865405455675062.\n",
      "[I 2023-11-01 21:31:42,962] Trial 11 finished with value: 0.5 and parameters: {'n_estimators': 318, 'min_samples_split': 0.28676561437779546, 'min_samples_leaf': 0.3325395522048442, 'max_features': 'log2'}. Best is trial 6 with value: 0.6865405455675062.\n",
      "[I 2023-11-01 21:32:05,362] Trial 12 finished with value: 0.6058675179507184 and parameters: {'n_estimators': 339, 'min_samples_split': 0.3966368752642724, 'min_samples_leaf': 0.012276258986933852, 'max_features': 'sqrt'}. Best is trial 6 with value: 0.6865405455675062.\n",
      "[I 2023-11-01 21:32:08,141] Trial 13 finished with value: 0.6790668274341483 and parameters: {'n_estimators': 102, 'min_samples_split': 0.23865283188489853, 'min_samples_leaf': 0.3064315389240664, 'max_features': 'log2'}. Best is trial 6 with value: 0.6865405455675062.\n",
      "[I 2023-11-01 21:32:09,906] Trial 14 finished with value: 0.5 and parameters: {'n_estimators': 127, 'min_samples_split': 0.25318951810560675, 'min_samples_leaf': 0.41817462442116776, 'max_features': 'sqrt'}. Best is trial 6 with value: 0.6865405455675062.\n",
      "[I 2023-11-01 21:32:15,403] Trial 15 finished with value: 0.6922228730707579 and parameters: {'n_estimators': 212, 'min_samples_split': 0.44386345324954013, 'min_samples_leaf': 0.19274553605293054, 'max_features': 'log2'}. Best is trial 15 with value: 0.6922228730707579.\n",
      "[I 2023-11-01 21:32:24,335] Trial 16 finished with value: 0.7063436204716333 and parameters: {'n_estimators': 213, 'min_samples_split': 0.39539595950562073, 'min_samples_leaf': 0.17059230472162856, 'max_features': 'sqrt'}. Best is trial 16 with value: 0.7063436204716333.\n",
      "[I 2023-11-01 21:32:29,674] Trial 17 finished with value: 0.6826249381622133 and parameters: {'n_estimators': 202, 'min_samples_split': 0.46733888455087813, 'min_samples_leaf': 0.1712125488657253, 'max_features': 'log2'}. Best is trial 16 with value: 0.7063436204716333.\n",
      "[I 2023-11-01 21:32:37,287] Trial 18 finished with value: 0.6155104346017776 and parameters: {'n_estimators': 226, 'min_samples_split': 0.5254685536889852, 'min_samples_leaf': 0.045543412538339045, 'max_features': 'log2'}. Best is trial 16 with value: 0.7063436204716333.\n",
      "[I 2023-11-01 21:32:53,052] Trial 19 finished with value: 0.5994995498596621 and parameters: {'n_estimators': 254, 'min_samples_split': 0.41130914886536774, 'min_samples_leaf': 0.009685997918416428, 'max_features': 'sqrt'}. Best is trial 16 with value: 0.7063436204716333.\n",
      "[I 2023-11-01 21:32:58,553] Trial 20 finished with value: 0.687118656218072 and parameters: {'n_estimators': 169, 'min_samples_split': 0.5529085679998124, 'min_samples_leaf': 0.15703001104018244, 'max_features': 'sqrt'}. Best is trial 16 with value: 0.7063436204716333.\n",
      "[I 2023-11-01 21:33:04,459] Trial 21 finished with value: 0.6886799715320142 and parameters: {'n_estimators': 184, 'min_samples_split': 0.5578020794464376, 'min_samples_leaf': 0.15341299037997547, 'max_features': 'sqrt'}. Best is trial 16 with value: 0.7063436204716333.\n",
      "[I 2023-11-01 21:33:11,031] Trial 22 finished with value: 0.6887946701317356 and parameters: {'n_estimators': 198, 'min_samples_split': 0.6076268575454906, 'min_samples_leaf': 0.11862832344848473, 'max_features': 'sqrt'}. Best is trial 16 with value: 0.7063436204716333.\n",
      "[I 2023-11-01 21:33:13,995] Trial 23 finished with value: 0.5 and parameters: {'n_estimators': 232, 'min_samples_split': 0.6549385141771451, 'min_samples_leaf': 0.09790168227928832, 'max_features': 'sqrt'}. Best is trial 16 with value: 0.7063436204716333.\n",
      "[I 2023-11-01 21:33:22,510] Trial 24 finished with value: 0.6984421398522094 and parameters: {'n_estimators': 279, 'min_samples_split': 0.4220337578614042, 'min_samples_leaf': 0.21007154351389848, 'max_features': 'sqrt'}. Best is trial 16 with value: 0.7063436204716333.\n",
      "[I 2023-11-01 21:33:30,377] Trial 25 finished with value: 0.6862620656339488 and parameters: {'n_estimators': 272, 'min_samples_split': 0.4882610982674322, 'min_samples_leaf': 0.22013884721215943, 'max_features': 'sqrt'}. Best is trial 16 with value: 0.7063436204716333.\n",
      "[I 2023-11-01 21:33:34,052] Trial 26 finished with value: 0.5 and parameters: {'n_estimators': 295, 'min_samples_split': 0.40000578073333687, 'min_samples_leaf': 0.39097020039845426, 'max_features': 'log2'}. Best is trial 16 with value: 0.7063436204716333.\n",
      "[I 2023-11-01 21:33:41,361] Trial 27 finished with value: 0.6888368748248198 and parameters: {'n_estimators': 243, 'min_samples_split': 0.4531256832753914, 'min_samples_leaf': 0.21051951825047743, 'max_features': 'sqrt'}. Best is trial 16 with value: 0.7063436204716333.\n",
      "[I 2023-11-01 21:33:50,106] Trial 28 finished with value: 0.674502230035275 and parameters: {'n_estimators': 213, 'min_samples_split': 0.34546795022619237, 'min_samples_leaf': 0.07527499404831618, 'max_features': 'log2'}. Best is trial 16 with value: 0.7063436204716333.\n",
      "[I 2023-11-01 21:33:55,004] Trial 29 finished with value: 0.6716124194817121 and parameters: {'n_estimators': 149, 'min_samples_split': 0.21433613587457362, 'min_samples_leaf': 0.24122601810550487, 'max_features': 'sqrt'}. Best is trial 16 with value: 0.7063436204716333.\n",
      "[I 2023-11-01 21:34:53,400] Trial 30 finished with value: 0.6610525275670593 and parameters: {'n_estimators': 271, 'min_samples_split': 0.0031187027451873295, 'min_samples_leaf': 0.004839155202302353, 'max_features': 'sqrt'}. Best is trial 16 with value: 0.7063436204716333.\n",
      "[I 2023-11-01 21:35:00,398] Trial 31 finished with value: 0.6971230736641424 and parameters: {'n_estimators': 232, 'min_samples_split': 0.4507409917473406, 'min_samples_leaf': 0.18423177555385994, 'max_features': 'sqrt'}. Best is trial 16 with value: 0.7063436204716333.\n",
      "[I 2023-11-01 21:35:06,758] Trial 32 finished with value: 0.6644342633650347 and parameters: {'n_estimators': 216, 'min_samples_split': 0.48558943997000736, 'min_samples_leaf': 0.25279031260022883, 'max_features': 'sqrt'}. Best is trial 16 with value: 0.7063436204716333.\n",
      "[I 2023-11-01 21:35:18,593] Trial 33 finished with value: 0.7132236958523798 and parameters: {'n_estimators': 240, 'min_samples_split': 0.367420946500344, 'min_samples_leaf': 0.17442401843193517, 'max_features': 'sqrt'}. Best is trial 33 with value: 0.7132236958523798.\n",
      "[I 2023-11-01 21:35:32,007] Trial 34 finished with value: 0.7125323074180803 and parameters: {'n_estimators': 238, 'min_samples_split': 0.36880151743091283, 'min_samples_leaf': 0.13705439943956638, 'max_features': 'sqrt'}. Best is trial 33 with value: 0.7132236958523798.\n",
      "[I 2023-11-01 21:35:52,754] Trial 35 finished with value: 0.7250054572250431 and parameters: {'n_estimators': 294, 'min_samples_split': 0.3655124169286234, 'min_samples_leaf': 0.10876473386234953, 'max_features': 'sqrt'}. Best is trial 35 with value: 0.7250054572250431.\n",
      "[I 2023-11-01 21:36:11,276] Trial 36 finished with value: 0.7348560390491901 and parameters: {'n_estimators': 301, 'min_samples_split': 0.35843223019287984, 'min_samples_leaf': 0.11554341189645856, 'max_features': 'sqrt'}. Best is trial 36 with value: 0.7348560390491901.\n",
      "[I 2023-11-01 21:36:35,718] Trial 37 finished with value: 0.707810580687494 and parameters: {'n_estimators': 299, 'min_samples_split': 0.18652391759891185, 'min_samples_leaf': 0.07587558528005028, 'max_features': 'sqrt'}. Best is trial 36 with value: 0.7348560390491901.\n",
      "[I 2023-11-01 21:36:53,282] Trial 38 finished with value: 0.7200050891045371 and parameters: {'n_estimators': 322, 'min_samples_split': 0.3453458989162397, 'min_samples_leaf': 0.1419659010115223, 'max_features': 'sqrt'}. Best is trial 36 with value: 0.7348560390491901.\n",
      "[I 2023-11-01 21:37:14,609] Trial 39 finished with value: 0.7401554889350727 and parameters: {'n_estimators': 352, 'min_samples_split': 0.3057477294386002, 'min_samples_leaf': 0.11716409394760584, 'max_features': 'sqrt'}. Best is trial 39 with value: 0.7401554889350727.\n",
      "[I 2023-11-01 21:37:41,084] Trial 40 finished with value: 0.7341795691827595 and parameters: {'n_estimators': 399, 'min_samples_split': 0.29117725751063267, 'min_samples_leaf': 0.11282742432820236, 'max_features': 'sqrt'}. Best is trial 39 with value: 0.7401554889350727.\n",
      "[I 2023-11-01 21:38:15,793] Trial 41 finished with value: 0.7331946207906711 and parameters: {'n_estimators': 400, 'min_samples_split': 0.29211358397458753, 'min_samples_leaf': 0.10529061454228802, 'max_features': 'sqrt'}. Best is trial 39 with value: 0.7401554889350727.\n",
      "[I 2023-11-01 21:38:52,043] Trial 42 finished with value: 0.6716969580329707 and parameters: {'n_estimators': 399, 'min_samples_split': 0.3190022492088346, 'min_samples_leaf': 0.05425834907839266, 'max_features': 'sqrt'}. Best is trial 39 with value: 0.7401554889350727.\n",
      "[I 2023-11-01 21:39:19,860] Trial 43 finished with value: 0.7354458068491082 and parameters: {'n_estimators': 369, 'min_samples_split': 0.2800607879408645, 'min_samples_leaf': 0.10486955221249146, 'max_features': 'sqrt'}. Best is trial 39 with value: 0.7401554889350727.\n",
      "[I 2023-11-01 21:39:30,211] Trial 44 finished with value: 0.6516391049892599 and parameters: {'n_estimators': 363, 'min_samples_split': 0.28305564990963455, 'min_samples_leaf': 0.2725816961221281, 'max_features': 'sqrt'}. Best is trial 39 with value: 0.7401554889350727.\n",
      "[I 2023-11-01 21:40:16,765] Trial 45 finished with value: 0.6906981760597672 and parameters: {'n_estimators': 395, 'min_samples_split': 0.16363427061430516, 'min_samples_leaf': 0.04690505402597203, 'max_features': 'sqrt'}. Best is trial 39 with value: 0.7401554889350727.\n",
      "[I 2023-11-01 21:40:43,167] Trial 46 finished with value: 0.7393689704121528 and parameters: {'n_estimators': 348, 'min_samples_split': 0.2754209479479232, 'min_samples_leaf': 0.10801167016607284, 'max_features': 'sqrt'}. Best is trial 39 with value: 0.7401554889350727.\n",
      "[I 2023-11-01 21:40:55,263] Trial 47 finished with value: 0.6521111711011195 and parameters: {'n_estimators': 346, 'min_samples_split': 0.2215804839886521, 'min_samples_leaf': 0.2814853423387489, 'max_features': 'sqrt'}. Best is trial 39 with value: 0.7401554889350727.\n",
      "[I 2023-11-01 21:41:50,340] Trial 48 finished with value: 0.594949806446113 and parameters: {'n_estimators': 366, 'min_samples_split': 0.2693945008337267, 'min_samples_leaf': 0.0033956271119437442, 'max_features': 'sqrt'}. Best is trial 39 with value: 0.7401554889350727.\n",
      "[I 2023-11-01 21:42:23,809] Trial 49 finished with value: 0.7267741793818934 and parameters: {'n_estimators': 379, 'min_samples_split': 0.1413131830709025, 'min_samples_leaf': 0.08319527344313356, 'max_features': 'sqrt'}. Best is trial 39 with value: 0.7401554889350727.\n",
      "[I 2023-11-01 21:43:09,278] Trial 50 finished with value: 0.7032291918269499 and parameters: {'n_estimators': 349, 'min_samples_split': 0.08712091022584062, 'min_samples_leaf': 0.044371774187339626, 'max_features': 'sqrt'}. Best is trial 39 with value: 0.7401554889350727.\n",
      "[I 2023-11-01 21:43:32,090] Trial 51 finished with value: 0.7326159934797463 and parameters: {'n_estimators': 387, 'min_samples_split': 0.3098298560992911, 'min_samples_leaf': 0.1284081420936519, 'max_features': 'sqrt'}. Best is trial 39 with value: 0.7401554889350727.\n",
      "[I 2023-11-01 21:43:59,195] Trial 52 finished with value: 0.7351982296632795 and parameters: {'n_estimators': 333, 'min_samples_split': 0.2625738973592874, 'min_samples_leaf': 0.09973301537322245, 'max_features': 'sqrt'}. Best is trial 39 with value: 0.7401554889350727.\n",
      "[I 2023-11-01 21:44:14,169] Trial 53 finished with value: 0.7086384966216871 and parameters: {'n_estimators': 329, 'min_samples_split': 0.25638819651017897, 'min_samples_leaf': 0.2056941156288229, 'max_features': 'sqrt'}. Best is trial 39 with value: 0.7401554889350727.\n",
      "[I 2023-11-01 21:44:41,616] Trial 54 finished with value: 0.7447328413865615 and parameters: {'n_estimators': 355, 'min_samples_split': 0.20215870079427908, 'min_samples_leaf': 0.10444241775044351, 'max_features': 'sqrt'}. Best is trial 54 with value: 0.7447328413865615.\n",
      "[I 2023-11-01 21:45:12,448] Trial 55 finished with value: 0.6734654218596414 and parameters: {'n_estimators': 334, 'min_samples_split': 0.19322627565860434, 'min_samples_leaf': 0.04521161843008316, 'max_features': 'sqrt'}. Best is trial 54 with value: 0.7447328413865615.\n",
      "[I 2023-11-01 21:45:26,332] Trial 56 finished with value: 0.7264930515639956 and parameters: {'n_estimators': 312, 'min_samples_split': 0.23373433986562575, 'min_samples_leaf': 0.15956037208674195, 'max_features': 'sqrt'}. Best is trial 54 with value: 0.7447328413865615.\n",
      "[I 2023-11-01 21:45:51,623] Trial 57 finished with value: 0.7243397726436089 and parameters: {'n_estimators': 353, 'min_samples_split': 0.2476560828962464, 'min_samples_leaf': 0.08641190362816012, 'max_features': 'sqrt'}. Best is trial 54 with value: 0.7447328413865615.\n",
      "[I 2023-11-01 21:45:57,036] Trial 58 finished with value: 0.5 and parameters: {'n_estimators': 369, 'min_samples_split': 0.3233297265002485, 'min_samples_leaf': 0.31744372007583177, 'max_features': 'sqrt'}. Best is trial 54 with value: 0.7447328413865615.\n",
      "[I 2023-11-01 21:46:09,483] Trial 59 finished with value: 0.7080854762898103 and parameters: {'n_estimators': 307, 'min_samples_split': 0.16126029757416713, 'min_samples_leaf': 0.139994645435918, 'max_features': 'log2'}. Best is trial 54 with value: 0.7447328413865615.\n"
     ]
    },
    {
     "data": {
      "text/plain": [
       "0.7447328413865615"
      ]
     },
     "execution_count": 40,
     "metadata": {},
     "output_type": "execute_result"
    }
   ],
   "source": [
    "#Backward Difference Contrast encoding\n",
    "from backward_difference import BackwardDifferenceEncoder\n",
    "\n",
    "enc=BackwardDifferenceEncoder(cols=['sequence', 'm1_seq', 'p1_seq']).fit(X_train,y_train)\n",
    "BackwardDC_X_train=enc.transform(X_train)\n",
    "BackwardDC_X_validation=BackwardDifferenceEncoder(cols=['sequence', 'm1_seq', 'p1_seq']).fit_transform(X_valid,y_valid)\n",
    "\n",
    "##Count Encoding's Results\n",
    "study.optimize(lambda trial: objective(trial, BackwardDC_X_train, y_train, BackwardDC_X_validation,y_valid), n_trials= 60)\n",
    "BackwardDC_best_params=study.best_params\n",
    "BackwardDC_best_value=study.best_value\n",
    "BackwardDC_best_value\n",
    "\n",
    "\n",
    "\n",
    "\n"
   ]
  },
  {
   "cell_type": "markdown",
   "metadata": {},
   "source": [
    "##Helmert Encoder"
   ]
  },
  {
   "cell_type": "code",
   "execution_count": 43,
   "metadata": {},
   "outputs": [
    {
     "name": "stderr",
     "output_type": "stream",
     "text": [
      "/Users/yangliran/Desktop/DSA4266/Project2/dsa4266_wooper/data_processing/base_contrast_encoder.py:126: FutureWarning: Intercept column might not be added anymore in future releases (c.f. issue #370)\n",
      "  warnings.warn(\"Intercept column might not be added anymore in future releases (c.f. issue #370)\",\n",
      "/Users/yangliran/Desktop/DSA4266/Project2/dsa4266_wooper/data_processing/base_contrast_encoder.py:126: FutureWarning: Intercept column might not be added anymore in future releases (c.f. issue #370)\n",
      "  warnings.warn(\"Intercept column might not be added anymore in future releases (c.f. issue #370)\",\n",
      "/Users/yangliran/Desktop/DSA4266/Project2/dsa4266_wooper/data_processing/base_contrast_encoder.py:126: FutureWarning: Intercept column might not be added anymore in future releases (c.f. issue #370)\n",
      "  warnings.warn(\"Intercept column might not be added anymore in future releases (c.f. issue #370)\",\n",
      "/Users/yangliran/Desktop/DSA4266/Project2/dsa4266_wooper/data_processing/base_contrast_encoder.py:126: FutureWarning: Intercept column might not be added anymore in future releases (c.f. issue #370)\n",
      "  warnings.warn(\"Intercept column might not be added anymore in future releases (c.f. issue #370)\",\n",
      "[I 2023-11-01 22:01:04,602] Trial 0 finished with value: 0.5 and parameters: {'n_estimators': 336, 'min_samples_split': 0.3941660497255557, 'min_samples_leaf': 0.3639684337275443, 'max_features': 'sqrt'}. Best is trial 0 with value: 0.5.\n",
      "[I 2023-11-01 22:01:08,995] Trial 1 finished with value: 0.5 and parameters: {'n_estimators': 396, 'min_samples_split': 0.4861562494061705, 'min_samples_leaf': 0.3700159993258436, 'max_features': 'sqrt'}. Best is trial 0 with value: 0.5.\n",
      "[I 2023-11-01 22:01:12,116] Trial 2 finished with value: 0.5 and parameters: {'n_estimators': 283, 'min_samples_split': 0.5733549108186827, 'min_samples_leaf': 0.5140082038446863, 'max_features': 'log2'}. Best is trial 0 with value: 0.5.\n",
      "[I 2023-11-01 22:01:13,822] Trial 3 finished with value: 0.5 and parameters: {'n_estimators': 140, 'min_samples_split': 0.08845895311957175, 'min_samples_leaf': 0.519157524969812, 'max_features': 'log2'}. Best is trial 0 with value: 0.5.\n",
      "[I 2023-11-01 22:01:22,411] Trial 4 finished with value: 0.6735491854203614 and parameters: {'n_estimators': 333, 'min_samples_split': 0.1448197845470146, 'min_samples_leaf': 0.296987043174034, 'max_features': 'sqrt'}. Best is trial 4 with value: 0.6735491854203614.\n",
      "[I 2023-11-01 22:01:24,993] Trial 5 finished with value: 0.5 and parameters: {'n_estimators': 198, 'min_samples_split': 0.7182169798218707, 'min_samples_leaf': 0.04492569043469119, 'max_features': 'sqrt'}. Best is trial 4 with value: 0.6735491854203614.\n",
      "[I 2023-11-01 22:01:31,670] Trial 6 finished with value: 0.6463627433631747 and parameters: {'n_estimators': 177, 'min_samples_split': 0.5593852465335544, 'min_samples_leaf': 0.033503687141460126, 'max_features': 'sqrt'}. Best is trial 4 with value: 0.6735491854203614.\n",
      "[I 2023-11-01 22:01:34,812] Trial 7 finished with value: 0.5 and parameters: {'n_estimators': 223, 'min_samples_split': 0.7601900551286366, 'min_samples_leaf': 0.9271383689975602, 'max_features': 'log2'}. Best is trial 4 with value: 0.6735491854203614.\n",
      "[I 2023-11-01 22:01:37,382] Trial 8 finished with value: 0.5 and parameters: {'n_estimators': 167, 'min_samples_split': 0.7453552804290178, 'min_samples_leaf': 0.9584324561656132, 'max_features': 'sqrt'}. Best is trial 4 with value: 0.6735491854203614.\n",
      "[I 2023-11-01 22:01:38,956] Trial 9 finished with value: 0.5 and parameters: {'n_estimators': 113, 'min_samples_split': 0.1650220016935161, 'min_samples_leaf': 0.7823777677806164, 'max_features': 'log2'}. Best is trial 4 with value: 0.6735491854203614.\n",
      "[I 2023-11-01 22:01:49,936] Trial 10 finished with value: 0.7085527955846206 and parameters: {'n_estimators': 305, 'min_samples_split': 0.2586594481675875, 'min_samples_leaf': 0.20385220383339517, 'max_features': 'sqrt'}. Best is trial 10 with value: 0.7085527955846206.\n",
      "[I 2023-11-01 22:02:01,217] Trial 11 finished with value: 0.7038249012209976 and parameters: {'n_estimators': 295, 'min_samples_split': 0.2591698451065391, 'min_samples_leaf': 0.20009990112041498, 'max_features': 'sqrt'}. Best is trial 10 with value: 0.7085527955846206.\n",
      "[I 2023-11-01 22:02:14,532] Trial 12 finished with value: 0.7139343621763284 and parameters: {'n_estimators': 279, 'min_samples_split': 0.3000128881133759, 'min_samples_leaf': 0.17813562810890166, 'max_features': 'sqrt'}. Best is trial 12 with value: 0.7139343621763284.\n",
      "[I 2023-11-01 22:02:27,103] Trial 13 finished with value: 0.7198839322503271 and parameters: {'n_estimators': 249, 'min_samples_split': 0.0010276897448037725, 'min_samples_leaf': 0.14976604034563493, 'max_features': 'sqrt'}. Best is trial 13 with value: 0.7198839322503271.\n",
      "[I 2023-11-01 22:03:11,419] Trial 14 finished with value: 0.732014213326479 and parameters: {'n_estimators': 255, 'min_samples_split': 0.002608567892520939, 'min_samples_leaf': 0.018233798619587432, 'max_features': 'sqrt'}. Best is trial 14 with value: 0.732014213326479.\n",
      "[I 2023-11-01 22:04:00,957] Trial 15 finished with value: 0.7169436827292067 and parameters: {'n_estimators': 236, 'min_samples_split': 0.018404398149178193, 'min_samples_leaf': 0.005906867420913953, 'max_features': 'sqrt'}. Best is trial 14 with value: 0.732014213326479.\n",
      "[I 2023-11-01 22:04:28,429] Trial 16 finished with value: 0.7511345861485941 and parameters: {'n_estimators': 253, 'min_samples_split': 0.0015531090445777274, 'min_samples_leaf': 0.09297812449554788, 'max_features': 'sqrt'}. Best is trial 16 with value: 0.7511345861485941.\n",
      "[I 2023-11-01 22:04:35,457] Trial 17 finished with value: 0.5 and parameters: {'n_estimators': 378, 'min_samples_split': 0.92443140322568, 'min_samples_leaf': 0.0914021654736801, 'max_features': 'sqrt'}. Best is trial 16 with value: 0.7511345861485941.\n",
      "[I 2023-11-01 22:04:55,899] Trial 18 finished with value: 0.6813835970669192 and parameters: {'n_estimators': 212, 'min_samples_split': 0.11001880843130318, 'min_samples_leaf': 0.011478187664706485, 'max_features': 'log2'}. Best is trial 16 with value: 0.7511345861485941.\n",
      "[I 2023-11-01 22:05:18,343] Trial 19 finished with value: 0.7424866604753533 and parameters: {'n_estimators': 267, 'min_samples_split': 0.19097834875582112, 'min_samples_leaf': 0.11525775709654024, 'max_features': 'sqrt'}. Best is trial 16 with value: 0.7511345861485941.\n",
      "[I 2023-11-01 22:05:23,672] Trial 20 finished with value: 0.5 and parameters: {'n_estimators': 264, 'min_samples_split': 0.19346991805608407, 'min_samples_leaf': 0.32008873090148704, 'max_features': 'sqrt'}. Best is trial 16 with value: 0.7511345861485941.\n",
      "[I 2023-11-01 22:05:47,943] Trial 21 finished with value: 0.7479208295498725 and parameters: {'n_estimators': 324, 'min_samples_split': 0.009253193140392246, 'min_samples_leaf': 0.11561242749011508, 'max_features': 'sqrt'}. Best is trial 16 with value: 0.7511345861485941.\n",
      "[I 2023-11-01 22:06:14,006] Trial 22 finished with value: 0.7423823596653591 and parameters: {'n_estimators': 327, 'min_samples_split': 0.10201465117228013, 'min_samples_leaf': 0.1174966003134148, 'max_features': 'sqrt'}. Best is trial 16 with value: 0.7511345861485941.\n",
      "[I 2023-11-01 22:06:24,984] Trial 23 finished with value: 0.6875524571720852 and parameters: {'n_estimators': 363, 'min_samples_split': 0.07533956442888139, 'min_samples_leaf': 0.23980508674685996, 'max_features': 'sqrt'}. Best is trial 16 with value: 0.7511345861485941.\n",
      "[I 2023-11-01 22:06:44,801] Trial 24 finished with value: 0.7492521987127408 and parameters: {'n_estimators': 314, 'min_samples_split': 0.21852837531214636, 'min_samples_leaf': 0.102056287273906, 'max_features': 'sqrt'}. Best is trial 16 with value: 0.7511345861485941.\n",
      "[I 2023-11-01 22:07:04,534] Trial 25 finished with value: 0.7511081073051901 and parameters: {'n_estimators': 305, 'min_samples_split': 0.05541535511947036, 'min_samples_leaf': 0.10727718136228859, 'max_features': 'sqrt'}. Best is trial 16 with value: 0.7511345861485941.\n",
      "[I 2023-11-01 22:07:13,467] Trial 26 finished with value: 0.6848974687517356 and parameters: {'n_estimators': 308, 'min_samples_split': 0.33151571291764476, 'min_samples_leaf': 0.23596917433984488, 'max_features': 'sqrt'}. Best is trial 16 with value: 0.7511345861485941.\n",
      "[I 2023-11-01 22:07:17,856] Trial 27 finished with value: 0.5 and parameters: {'n_estimators': 353, 'min_samples_split': 0.19127133720612252, 'min_samples_leaf': 0.4380353671846149, 'max_features': 'log2'}. Best is trial 16 with value: 0.7511345861485941.\n",
      "[I 2023-11-01 22:07:41,877] Trial 28 finished with value: 0.7584990629072738 and parameters: {'n_estimators': 297, 'min_samples_split': 0.0647075419460254, 'min_samples_leaf': 0.08949800422108153, 'max_features': 'sqrt'}. Best is trial 28 with value: 0.7584990629072738.\n",
      "[I 2023-11-01 22:07:52,734] Trial 29 finished with value: 0.6525468126576621 and parameters: {'n_estimators': 288, 'min_samples_split': 0.3805581541490564, 'min_samples_leaf': 0.2629493725300671, 'max_features': 'sqrt'}. Best is trial 28 with value: 0.7584990629072738.\n",
      "[I 2023-11-01 22:08:08,600] Trial 30 finished with value: 0.7198501232880782 and parameters: {'n_estimators': 351, 'min_samples_split': 0.07342981334145132, 'min_samples_leaf': 0.17223411765270635, 'max_features': 'sqrt'}. Best is trial 28 with value: 0.7584990629072738.\n",
      "[I 2023-11-01 22:08:39,631] Trial 31 finished with value: 0.7281339648645123 and parameters: {'n_estimators': 313, 'min_samples_split': 0.06229742700267382, 'min_samples_leaf': 0.08499615589791702, 'max_features': 'sqrt'}. Best is trial 28 with value: 0.7584990629072738.\n",
      "[I 2023-11-01 22:09:04,916] Trial 32 finished with value: 0.7279801938251337 and parameters: {'n_estimators': 247, 'min_samples_split': 0.13757931352552352, 'min_samples_leaf': 0.07580148661298663, 'max_features': 'sqrt'}. Best is trial 28 with value: 0.7584990629072738.\n",
      "[I 2023-11-01 22:09:19,705] Trial 33 finished with value: 0.7261198290370873 and parameters: {'n_estimators': 280, 'min_samples_split': 0.056930555385775336, 'min_samples_leaf': 0.14896787826970892, 'max_features': 'sqrt'}. Best is trial 28 with value: 0.7584990629072738.\n",
      "[I 2023-11-01 22:09:26,644] Trial 34 finished with value: 0.5 and parameters: {'n_estimators': 378, 'min_samples_split': 0.22503163720070246, 'min_samples_leaf': 0.3779618486742201, 'max_features': 'sqrt'}. Best is trial 28 with value: 0.7584990629072738.\n",
      "[I 2023-11-01 22:09:47,925] Trial 35 finished with value: 0.7200448073696433 and parameters: {'n_estimators': 338, 'min_samples_split': 0.13508132749185098, 'min_samples_leaf': 0.06756515600805886, 'max_features': 'log2'}. Best is trial 28 with value: 0.7584990629072738.\n",
      "[I 2023-11-01 22:09:54,329] Trial 36 finished with value: 0.6771950638269292 and parameters: {'n_estimators': 230, 'min_samples_split': 0.14102620909654243, 'min_samples_leaf': 0.29110175289345863, 'max_features': 'sqrt'}. Best is trial 28 with value: 0.7584990629072738.\n",
      "[I 2023-11-01 22:10:11,272] Trial 37 finished with value: 0.6589800737016003 and parameters: {'n_estimators': 298, 'min_samples_split': 0.44104234598042935, 'min_samples_leaf': 0.0033127552322309017, 'max_features': 'sqrt'}. Best is trial 28 with value: 0.7584990629072738.\n",
      "[I 2023-11-01 22:10:19,865] Trial 38 finished with value: 0.6971666668819417 and parameters: {'n_estimators': 321, 'min_samples_split': 0.05319132308949594, 'min_samples_leaf': 0.2010154657104078, 'max_features': 'log2'}. Best is trial 28 with value: 0.7584990629072738.\n",
      "[I 2023-11-01 22:10:42,837] Trial 39 finished with value: 0.7162276560540324 and parameters: {'n_estimators': 198, 'min_samples_split': 0.1203727652511087, 'min_samples_leaf': 0.06044458547406506, 'max_features': 'sqrt'}. Best is trial 28 with value: 0.7584990629072738.\n",
      "[I 2023-11-01 22:10:58,674] Trial 40 finished with value: 0.7166781838871716 and parameters: {'n_estimators': 269, 'min_samples_split': 0.23142273849822104, 'min_samples_leaf': 0.14130536960995127, 'max_features': 'sqrt'}. Best is trial 28 with value: 0.7584990629072738.\n",
      "[I 2023-11-01 22:11:27,176] Trial 41 finished with value: 0.750245284505485 and parameters: {'n_estimators': 335, 'min_samples_split': 0.02652297385723683, 'min_samples_leaf': 0.10271737246513654, 'max_features': 'sqrt'}. Best is trial 28 with value: 0.7584990629072738.\n",
      "[I 2023-11-01 22:11:59,132] Trial 42 finished with value: 0.7324299957504684 and parameters: {'n_estimators': 347, 'min_samples_split': 0.03774768014841031, 'min_samples_leaf': 0.06177340413578047, 'max_features': 'sqrt'}. Best is trial 28 with value: 0.7584990629072738.\n",
      "[I 2023-11-01 22:12:20,398] Trial 43 finished with value: 0.7350231786753604 and parameters: {'n_estimators': 396, 'min_samples_split': 0.09703784927355509, 'min_samples_leaf': 0.12976728827835637, 'max_features': 'sqrt'}. Best is trial 28 with value: 0.7584990629072738.\n",
      "[I 2023-11-01 22:12:29,710] Trial 44 finished with value: 0.6885445096441114 and parameters: {'n_estimators': 310, 'min_samples_split': 0.1664429703675153, 'min_samples_leaf': 0.21773424704950417, 'max_features': 'sqrt'}. Best is trial 28 with value: 0.7584990629072738.\n",
      "[I 2023-11-01 22:12:42,871] Trial 45 finished with value: 0.713944372470786 and parameters: {'n_estimators': 291, 'min_samples_split': 0.044806187315111504, 'min_samples_leaf': 0.15772735618275224, 'max_features': 'sqrt'}. Best is trial 28 with value: 0.7584990629072738.\n",
      "[I 2023-11-01 22:13:20,735] Trial 46 finished with value: 0.7151792230203189 and parameters: {'n_estimators': 334, 'min_samples_split': 0.09350141664778357, 'min_samples_leaf': 0.03958458150303108, 'max_features': 'sqrt'}. Best is trial 28 with value: 0.7584990629072738.\n",
      "[I 2023-11-01 22:13:33,365] Trial 47 finished with value: 0.6995106580573829 and parameters: {'n_estimators': 371, 'min_samples_split': 0.004738989915918493, 'min_samples_leaf': 0.18616564524779422, 'max_features': 'log2'}. Best is trial 28 with value: 0.7584990629072738.\n",
      "[I 2023-11-01 22:13:55,966] Trial 48 finished with value: 0.7481272353633348 and parameters: {'n_estimators': 281, 'min_samples_split': 0.045430920651648096, 'min_samples_leaf': 0.10508371371119807, 'max_features': 'sqrt'}. Best is trial 28 with value: 0.7584990629072738.\n",
      "[I 2023-11-01 22:14:00,188] Trial 49 finished with value: 0.6324826951070972 and parameters: {'n_estimators': 104, 'min_samples_split': 0.16462881401015284, 'min_samples_leaf': 0.26410832720787675, 'max_features': 'sqrt'}. Best is trial 28 with value: 0.7584990629072738.\n",
      "[I 2023-11-01 22:14:41,652] Trial 50 finished with value: 0.7032077504220469 and parameters: {'n_estimators': 302, 'min_samples_split': 0.10181045180251838, 'min_samples_leaf': 0.03443528079340266, 'max_features': 'sqrt'}. Best is trial 28 with value: 0.7584990629072738.\n",
      "[I 2023-11-01 22:15:05,999] Trial 51 finished with value: 0.7525464251623929 and parameters: {'n_estimators': 286, 'min_samples_split': 0.046508745469601445, 'min_samples_leaf': 0.09816721180800259, 'max_features': 'sqrt'}. Best is trial 28 with value: 0.7584990629072738.\n",
      "[I 2023-11-01 22:15:28,656] Trial 52 finished with value: 0.7239513409273794 and parameters: {'n_estimators': 255, 'min_samples_split': 0.03344624527701828, 'min_samples_leaf': 0.08295362786214354, 'max_features': 'sqrt'}. Best is trial 28 with value: 0.7584990629072738.\n",
      "[I 2023-11-01 22:15:43,351] Trial 53 finished with value: 0.7165886078974119 and parameters: {'n_estimators': 318, 'min_samples_split': 0.00386924772890819, 'min_samples_leaf': 0.18043763199865664, 'max_features': 'sqrt'}. Best is trial 28 with value: 0.7584990629072738.\n",
      "[I 2023-11-01 22:16:12,556] Trial 54 finished with value: 0.7156353695348635 and parameters: {'n_estimators': 272, 'min_samples_split': 0.08006855203789573, 'min_samples_leaf': 0.04565905401374733, 'max_features': 'sqrt'}. Best is trial 28 with value: 0.7584990629072738.\n",
      "[I 2023-11-01 22:16:25,298] Trial 55 finished with value: 0.7354997978566344 and parameters: {'n_estimators': 239, 'min_samples_split': 0.1391130477703696, 'min_samples_leaf': 0.1178001760862152, 'max_features': 'sqrt'}. Best is trial 28 with value: 0.7584990629072738.\n",
      "[I 2023-11-01 22:16:34,508] Trial 56 finished with value: 0.7111692605169444 and parameters: {'n_estimators': 218, 'min_samples_split': 0.0016565479481526922, 'min_samples_leaf': 0.15597260428530366, 'max_features': 'sqrt'}. Best is trial 28 with value: 0.7584990629072738.\n",
      "[I 2023-11-01 22:16:58,734] Trial 57 finished with value: 0.7572934359593027 and parameters: {'n_estimators': 292, 'min_samples_split': 0.10786879174224302, 'min_samples_leaf': 0.0893929080860163, 'max_features': 'sqrt'}. Best is trial 28 with value: 0.7584990629072738.\n",
      "[I 2023-11-01 22:17:23,013] Trial 58 finished with value: 0.690842582630137 and parameters: {'n_estimators': 297, 'min_samples_split': 0.1132111743429317, 'min_samples_leaf': 0.02015715493052217, 'max_features': 'log2'}. Best is trial 28 with value: 0.7584990629072738.\n",
      "[I 2023-11-01 22:17:31,879] Trial 59 finished with value: 0.6974514113223534 and parameters: {'n_estimators': 260, 'min_samples_split': 0.04215006322716666, 'min_samples_leaf': 0.20083808124857658, 'max_features': 'sqrt'}. Best is trial 28 with value: 0.7584990629072738.\n"
     ]
    },
    {
     "data": {
      "text/plain": [
       "0.7584990629072738"
      ]
     },
     "execution_count": 43,
     "metadata": {},
     "output_type": "execute_result"
    }
   ],
   "source": [
    "#Helmert encoder\n",
    "from helmert import HelmertEncoder\n",
    "\n",
    "enc=HelmertEncoder(cols=['sequence', 'm1_seq', 'p1_seq']).fit(X_train,y_train)\n",
    "Helmert_X_train=enc.transform(X_train)\n",
    "Helmert_X_validation=HelmertEncoder(cols=['sequence', 'm1_seq', 'p1_seq']).fit_transform(X_valid,y_valid)\n",
    "\n",
    "##Count Encoding's Results\n",
    "study.optimize(lambda trial: objective(trial, Helmert_X_train, y_train, Helmert_X_validation,y_valid), n_trials= 60)\n",
    "Helmert_best_params=study.best_params\n",
    "Helmert_best_value=study.best_value\n",
    "Helmert_best_value\n",
    "\n",
    "#Best is trial 28 with value: 0.7584990629072738.\n"
   ]
  },
  {
   "cell_type": "markdown",
   "metadata": {},
   "source": [
    "##Leave One Out Encoding"
   ]
  },
  {
   "cell_type": "code",
   "execution_count": 46,
   "metadata": {},
   "outputs": [
    {
     "name": "stderr",
     "output_type": "stream",
     "text": [
      "[I 2023-11-01 22:30:13,438] Trial 0 finished with value: 0.5 and parameters: {'n_estimators': 236, 'min_samples_split': 0.31083294735728484, 'min_samples_leaf': 0.32420480311207334, 'max_features': 'sqrt'}. Best is trial 0 with value: 0.5.\n",
      "[I 2023-11-01 22:30:22,047] Trial 1 finished with value: 0.7803918029250726 and parameters: {'n_estimators': 143, 'min_samples_split': 0.3325012113669469, 'min_samples_leaf': 0.041896038406206926, 'max_features': 'sqrt'}. Best is trial 1 with value: 0.7803918029250726.\n",
      "[I 2023-11-01 22:30:23,330] Trial 2 finished with value: 0.5 and parameters: {'n_estimators': 112, 'min_samples_split': 0.7052503079265777, 'min_samples_leaf': 0.6317970840342333, 'max_features': 'log2'}. Best is trial 1 with value: 0.7803918029250726.\n",
      "[I 2023-11-01 22:30:27,601] Trial 3 finished with value: 0.5 and parameters: {'n_estimators': 397, 'min_samples_split': 0.053554546240364376, 'min_samples_leaf': 0.7727768398134881, 'max_features': 'sqrt'}. Best is trial 1 with value: 0.7803918029250726.\n",
      "[I 2023-11-01 22:30:30,906] Trial 4 finished with value: 0.5 and parameters: {'n_estimators': 299, 'min_samples_split': 0.34560862438825957, 'min_samples_leaf': 0.8079197559785194, 'max_features': 'sqrt'}. Best is trial 1 with value: 0.7803918029250726.\n",
      "[I 2023-11-01 22:30:34,593] Trial 5 finished with value: 0.5 and parameters: {'n_estimators': 322, 'min_samples_split': 0.6546933634029053, 'min_samples_leaf': 0.8187384093373237, 'max_features': 'sqrt'}. Best is trial 1 with value: 0.7803918029250726.\n",
      "[I 2023-11-01 22:30:38,104] Trial 6 finished with value: 0.5 and parameters: {'n_estimators': 286, 'min_samples_split': 0.5206457905155716, 'min_samples_leaf': 0.3946121709193967, 'max_features': 'log2'}. Best is trial 1 with value: 0.7803918029250726.\n",
      "[I 2023-11-01 22:30:39,652] Trial 7 finished with value: 0.5 and parameters: {'n_estimators': 124, 'min_samples_split': 0.8606144583957889, 'min_samples_leaf': 0.9393631210958998, 'max_features': 'sqrt'}. Best is trial 1 with value: 0.7803918029250726.\n",
      "[I 2023-11-01 22:30:42,367] Trial 8 finished with value: 0.5 and parameters: {'n_estimators': 221, 'min_samples_split': 0.653899733397787, 'min_samples_leaf': 0.2889022148232544, 'max_features': 'log2'}. Best is trial 1 with value: 0.7803918029250726.\n",
      "[I 2023-11-01 22:30:46,593] Trial 9 finished with value: 0.5 and parameters: {'n_estimators': 344, 'min_samples_split': 0.7565873909807239, 'min_samples_leaf': 0.20934336450828372, 'max_features': 'log2'}. Best is trial 1 with value: 0.7803918029250726.\n",
      "[I 2023-11-01 22:30:49,003] Trial 10 finished with value: 0.5 and parameters: {'n_estimators': 174, 'min_samples_split': 0.9502660004157716, 'min_samples_leaf': 0.03767757814338746, 'max_features': 'sqrt'}. Best is trial 1 with value: 0.7803918029250726.\n",
      "[I 2023-11-01 22:31:07,658] Trial 11 finished with value: 0.7888847304905819 and parameters: {'n_estimators': 199, 'min_samples_split': 0.29597341695095747, 'min_samples_leaf': 0.0018631252979879331, 'max_features': 'sqrt'}. Best is trial 11 with value: 0.7888847304905819.\n",
      "[I 2023-11-01 22:31:22,948] Trial 12 finished with value: 0.7886690893732006 and parameters: {'n_estimators': 166, 'min_samples_split': 0.2800237283460877, 'min_samples_leaf': 0.04269772831797401, 'max_features': 'sqrt'}. Best is trial 11 with value: 0.7888847304905819.\n",
      "[I 2023-11-01 22:31:57,058] Trial 13 finished with value: 0.8069828585009358 and parameters: {'n_estimators': 178, 'min_samples_split': 0.14983694198959957, 'min_samples_leaf': 0.022010468032568682, 'max_features': 'sqrt'}. Best is trial 13 with value: 0.8069828585009358.\n",
      "[I 2023-11-01 22:32:13,159] Trial 14 finished with value: 0.7675637720339499 and parameters: {'n_estimators': 206, 'min_samples_split': 0.05521442694084988, 'min_samples_leaf': 0.1666473988211471, 'max_features': 'sqrt'}. Best is trial 13 with value: 0.8069828585009358.\n",
      "[I 2023-11-01 22:32:15,896] Trial 15 finished with value: 0.5 and parameters: {'n_estimators': 191, 'min_samples_split': 0.15135707111196828, 'min_samples_leaf': 0.48472173255670453, 'max_features': 'sqrt'}. Best is trial 13 with value: 0.8069828585009358.\n",
      "[I 2023-11-01 22:32:33,877] Trial 16 finished with value: 0.7614853920741718 and parameters: {'n_estimators': 254, 'min_samples_split': 0.1745104534523631, 'min_samples_leaf': 0.18090814858860932, 'max_features': 'sqrt'}. Best is trial 13 with value: 0.8069828585009358.\n",
      "[I 2023-11-01 22:32:52,067] Trial 17 finished with value: 0.7751532543790194 and parameters: {'n_estimators': 263, 'min_samples_split': 0.4507997708887824, 'min_samples_leaf': 0.010956927595201362, 'max_features': 'sqrt'}. Best is trial 13 with value: 0.8069828585009358.\n",
      "[I 2023-11-01 22:33:07,342] Trial 18 finished with value: 0.7986898784944001 and parameters: {'n_estimators': 144, 'min_samples_split': 0.002933580036671657, 'min_samples_leaf': 0.09969471224396645, 'max_features': 'log2'}. Best is trial 13 with value: 0.8069828585009358.\n",
      "[I 2023-11-01 22:33:18,050] Trial 19 finished with value: 0.7827908184287584 and parameters: {'n_estimators': 147, 'min_samples_split': 0.009125482983619194, 'min_samples_leaf': 0.13166220646677418, 'max_features': 'log2'}. Best is trial 13 with value: 0.8069828585009358.\n",
      "[I 2023-11-01 22:33:22,243] Trial 20 finished with value: 0.726220319476933 and parameters: {'n_estimators': 110, 'min_samples_split': 0.16717662574788633, 'min_samples_leaf': 0.24609500349749186, 'max_features': 'log2'}. Best is trial 13 with value: 0.8069828585009358.\n",
      "[I 2023-11-01 22:33:35,710] Trial 21 finished with value: 0.791274607564166 and parameters: {'n_estimators': 190, 'min_samples_split': 0.0026317853328881964, 'min_samples_leaf': 0.1203215465738087, 'max_features': 'log2'}. Best is trial 13 with value: 0.8069828585009358.\n",
      "[I 2023-11-01 22:33:47,209] Trial 22 finished with value: 0.7902218152086726 and parameters: {'n_estimators': 163, 'min_samples_split': 0.0242995941351819, 'min_samples_leaf': 0.1195611403742542, 'max_features': 'log2'}. Best is trial 13 with value: 0.8069828585009358.\n",
      "[I 2023-11-01 22:34:02,837] Trial 23 finished with value: 0.7960516815357211 and parameters: {'n_estimators': 185, 'min_samples_split': 0.11315789503925726, 'min_samples_leaf': 0.09076008490172283, 'max_features': 'log2'}. Best is trial 13 with value: 0.8069828585009358.\n",
      "[I 2023-11-01 22:34:04,768] Trial 24 finished with value: 0.5 and parameters: {'n_estimators': 150, 'min_samples_split': 0.15507415158142965, 'min_samples_leaf': 0.3273976402224434, 'max_features': 'log2'}. Best is trial 13 with value: 0.8069828585009358.\n",
      "[I 2023-11-01 22:34:10,267] Trial 25 finished with value: 0.7259275668009553 and parameters: {'n_estimators': 130, 'min_samples_split': 0.10423360898924917, 'min_samples_leaf': 0.22473632698963128, 'max_features': 'log2'}. Best is trial 13 with value: 0.8069828585009358.\n",
      "[I 2023-11-01 22:34:20,713] Trial 26 finished with value: 0.7915839256629076 and parameters: {'n_estimators': 101, 'min_samples_split': 0.23021061507891746, 'min_samples_leaf': 0.10859393756933611, 'max_features': 'log2'}. Best is trial 13 with value: 0.8069828585009358.\n",
      "[I 2023-11-01 22:34:37,498] Trial 27 finished with value: 0.7867290620160347 and parameters: {'n_estimators': 233, 'min_samples_split': 0.09813368205468188, 'min_samples_leaf': 0.11339710252197802, 'max_features': 'log2'}. Best is trial 13 with value: 0.8069828585009358.\n",
      "[I 2023-11-01 22:34:43,555] Trial 28 finished with value: 0.722141221359256 and parameters: {'n_estimators': 179, 'min_samples_split': 0.22833929272631992, 'min_samples_leaf': 0.24988352909090805, 'max_features': 'log2'}. Best is trial 13 with value: 0.8069828585009358.\n",
      "[I 2023-11-01 22:34:46,207] Trial 29 finished with value: 0.5 and parameters: {'n_estimators': 219, 'min_samples_split': 0.11619048280168212, 'min_samples_leaf': 0.33393695354697717, 'max_features': 'log2'}. Best is trial 13 with value: 0.8069828585009358.\n",
      "[I 2023-11-01 22:34:58,073] Trial 30 finished with value: 0.7964420507282974 and parameters: {'n_estimators': 134, 'min_samples_split': 0.22305623359765284, 'min_samples_leaf': 0.07706661250184627, 'max_features': 'log2'}. Best is trial 13 with value: 0.8069828585009358.\n",
      "[I 2023-11-01 22:35:09,287] Trial 31 finished with value: 0.7978219213823765 and parameters: {'n_estimators': 136, 'min_samples_split': 0.08659547176926773, 'min_samples_leaf': 0.09878373323942781, 'max_features': 'log2'}. Best is trial 13 with value: 0.8069828585009358.\n",
      "[I 2023-11-01 22:35:16,094] Trial 32 finished with value: 0.7606657104144521 and parameters: {'n_estimators': 136, 'min_samples_split': 0.07491339903252946, 'min_samples_leaf': 0.17818648400070491, 'max_features': 'log2'}. Best is trial 13 with value: 0.8069828585009358.\n",
      "[I 2023-11-01 22:35:28,108] Trial 33 finished with value: 0.7989093622732022 and parameters: {'n_estimators': 152, 'min_samples_split': 0.2364046369168203, 'min_samples_leaf': 0.0749413334787506, 'max_features': 'log2'}. Best is trial 13 with value: 0.8069828585009358.\n",
      "[I 2023-11-01 22:36:24,396] Trial 34 finished with value: 0.8401168685732296 and parameters: {'n_estimators': 157, 'min_samples_split': 0.005284416759078611, 'min_samples_leaf': 0.0029472400080552963, 'max_features': 'log2'}. Best is trial 34 with value: 0.8401168685732296.\n",
      "[I 2023-11-01 22:37:05,980] Trial 35 finished with value: 0.8281202087824511 and parameters: {'n_estimators': 158, 'min_samples_split': 0.006421686191510158, 'min_samples_leaf': 0.018639978128954002, 'max_features': 'log2'}. Best is trial 34 with value: 0.8401168685732296.\n",
      "[I 2023-11-01 22:37:42,262] Trial 36 finished with value: 0.8075901927530634 and parameters: {'n_estimators': 159, 'min_samples_split': 0.058159068763585196, 'min_samples_leaf': 0.0056901777685082755, 'max_features': 'log2'}. Best is trial 34 with value: 0.8401168685732296.\n",
      "[I 2023-11-01 22:38:20,545] Trial 37 finished with value: 0.8102318125866215 and parameters: {'n_estimators': 164, 'min_samples_split': 0.04910623529446012, 'min_samples_leaf': 0.005072483854195547, 'max_features': 'sqrt'}. Best is trial 34 with value: 0.8401168685732296.\n",
      "[I 2023-11-01 22:38:49,679] Trial 38 finished with value: 0.8103090533103074 and parameters: {'n_estimators': 117, 'min_samples_split': 0.06505931202273826, 'min_samples_leaf': 0.011152154151816161, 'max_features': 'log2'}. Best is trial 34 with value: 0.8401168685732296.\n",
      "[I 2023-11-01 22:39:08,190] Trial 39 finished with value: 0.8088952445288897 and parameters: {'n_estimators': 118, 'min_samples_split': 0.054656686777538946, 'min_samples_leaf': 0.059993792058830875, 'max_features': 'sqrt'}. Best is trial 34 with value: 0.8401168685732296.\n",
      "[I 2023-11-01 22:39:16,539] Trial 40 finished with value: 0.7638101053599637 and parameters: {'n_estimators': 120, 'min_samples_split': 0.35312477402654263, 'min_samples_leaf': 0.16585612201917074, 'max_features': 'log2'}. Best is trial 34 with value: 0.8401168685732296.\n",
      "[I 2023-11-01 22:39:34,784] Trial 41 finished with value: 0.8068082272995584 and parameters: {'n_estimators': 112, 'min_samples_split': 0.04848533065043183, 'min_samples_leaf': 0.04865661988016312, 'max_features': 'sqrt'}. Best is trial 34 with value: 0.8401168685732296.\n",
      "[I 2023-11-01 22:40:32,363] Trial 42 finished with value: 0.8165160816995025 and parameters: {'n_estimators': 392, 'min_samples_split': 0.04784908574567757, 'min_samples_leaf': 0.05402000713876903, 'max_features': 'sqrt'}. Best is trial 34 with value: 0.8401168685732296.\n",
      "[I 2023-11-01 22:42:09,421] Trial 43 finished with value: 0.8412413152622763 and parameters: {'n_estimators': 391, 'min_samples_split': 0.002717307553360677, 'min_samples_leaf': 0.0142214064358744, 'max_features': 'sqrt'}. Best is trial 43 with value: 0.8412413152622763.\n",
      "[I 2023-11-01 22:42:59,359] Trial 44 finished with value: 0.817323815588418 and parameters: {'n_estimators': 380, 'min_samples_split': 0.0017414064750721128, 'min_samples_leaf': 0.0585139562539448, 'max_features': 'sqrt'}. Best is trial 43 with value: 0.8412413152622763.\n",
      "[I 2023-11-01 22:43:56,819] Trial 45 finished with value: 0.8163245944539093 and parameters: {'n_estimators': 400, 'min_samples_split': 0.011166399480690165, 'min_samples_leaf': 0.06092760115490873, 'max_features': 'sqrt'}. Best is trial 43 with value: 0.8412413152622763.\n",
      "[I 2023-11-01 22:44:23,561] Trial 46 finished with value: 0.7794805755079739 and parameters: {'n_estimators': 375, 'min_samples_split': 0.12150837278470705, 'min_samples_leaf': 0.1503070634408582, 'max_features': 'sqrt'}. Best is trial 43 with value: 0.8412413152622763.\n",
      "[I 2023-11-01 22:45:13,875] Trial 47 finished with value: 0.8129699187422421 and parameters: {'n_estimators': 373, 'min_samples_split': 0.03761110200050245, 'min_samples_leaf': 0.050940331952907265, 'max_features': 'sqrt'}. Best is trial 43 with value: 0.8412413152622763.\n",
      "[I 2023-11-01 22:45:28,664] Trial 48 finished with value: 0.7601195035410608 and parameters: {'n_estimators': 339, 'min_samples_split': 8.602311864162621e-05, 'min_samples_leaf': 0.20412082390622377, 'max_features': 'sqrt'}. Best is trial 43 with value: 0.8412413152622763.\n",
      "[I 2023-11-01 22:45:52,467] Trial 49 finished with value: 0.7807463610965082 and parameters: {'n_estimators': 379, 'min_samples_split': 0.18839010068735018, 'min_samples_leaf': 0.14604610171071608, 'max_features': 'sqrt'}. Best is trial 43 with value: 0.8412413152622763.\n",
      "[I 2023-11-01 22:46:36,150] Trial 50 finished with value: 0.8136202649692651 and parameters: {'n_estimators': 358, 'min_samples_split': 0.11687283031994271, 'min_samples_leaf': 0.05227154013093088, 'max_features': 'sqrt'}. Best is trial 43 with value: 0.8412413152622763.\n",
      "[I 2023-11-01 22:47:21,154] Trial 51 finished with value: 0.8173871064824084 and parameters: {'n_estimators': 391, 'min_samples_split': 0.0034452022316293126, 'min_samples_leaf': 0.06193859161102576, 'max_features': 'sqrt'}. Best is trial 43 with value: 0.8412413152622763.\n",
      "[I 2023-11-01 22:48:20,239] Trial 52 finished with value: 0.8209988853052752 and parameters: {'n_estimators': 389, 'min_samples_split': 0.08048468544683245, 'min_samples_leaf': 0.04150346833164439, 'max_features': 'sqrt'}. Best is trial 43 with value: 0.8412413152622763.\n",
      "[I 2023-11-01 22:49:31,375] Trial 53 finished with value: 0.8176312930846302 and parameters: {'n_estimators': 309, 'min_samples_split': 0.08363382191995349, 'min_samples_leaf': 0.009059245235131956, 'max_features': 'sqrt'}. Best is trial 43 with value: 0.8412413152622763.\n",
      "[I 2023-11-01 22:50:33,486] Trial 54 finished with value: 0.8154629987225572 and parameters: {'n_estimators': 302, 'min_samples_split': 0.08380937113919083, 'min_samples_leaf': 0.010892810341222546, 'max_features': 'sqrt'}. Best is trial 43 with value: 0.8412413152622763.\n",
      "[I 2023-11-01 22:50:55,229] Trial 55 finished with value: 0.7807593421880308 and parameters: {'n_estimators': 322, 'min_samples_split': 0.11952854711341163, 'min_samples_leaf': 0.14556767433419945, 'max_features': 'sqrt'}. Best is trial 43 with value: 0.8412413152622763.\n",
      "[I 2023-11-01 22:52:08,863] Trial 56 finished with value: 0.8088225891658907 and parameters: {'n_estimators': 348, 'min_samples_split': 0.14055812043761026, 'min_samples_leaf': 0.005204918150534463, 'max_features': 'sqrt'}. Best is trial 43 with value: 0.8412413152622763.\n",
      "[I 2023-11-01 22:52:38,086] Trial 57 finished with value: 0.8012906498683163 and parameters: {'n_estimators': 288, 'min_samples_split': 0.03302956393705809, 'min_samples_leaf': 0.08477738375466462, 'max_features': 'sqrt'}. Best is trial 43 with value: 0.8412413152622763.\n",
      "[I 2023-11-01 22:53:28,157] Trial 58 finished with value: 0.8209200946005117 and parameters: {'n_estimators': 362, 'min_samples_split': 0.08211408099914812, 'min_samples_leaf': 0.03481307265056643, 'max_features': 'sqrt'}. Best is trial 43 with value: 0.8412413152622763.\n",
      "[I 2023-11-01 22:54:14,666] Trial 59 finished with value: 0.8012760865044439 and parameters: {'n_estimators': 363, 'min_samples_split': 0.19253116580967886, 'min_samples_leaf': 0.028388342720298422, 'max_features': 'sqrt'}. Best is trial 43 with value: 0.8412413152622763.\n"
     ]
    },
    {
     "data": {
      "text/plain": [
       "0.8412413152622763"
      ]
     },
     "execution_count": 46,
     "metadata": {},
     "output_type": "execute_result"
    }
   ],
   "source": [
    "#Leave one out encoding \n",
    "from leave_one_out import LeaveOneOutEncoder\n",
    "\n",
    "enc=LeaveOneOutEncoder(cols=['sequence', 'm1_seq', 'p1_seq']).fit(X_train,y_train)\n",
    "LOO_X_train=enc.transform(X_train)\n",
    "LOO_X_validation=LeaveOneOutEncoder(cols=['sequence', 'm1_seq', 'p1_seq']).fit_transform(X_valid,y_valid)\n",
    "\n",
    "##Count Encoding's Results\n",
    "study.optimize(lambda trial: objective(trial, LOO_X_train, y_train, LOO_X_validation,y_valid), n_trials= 60)\n",
    "LOO_best_params=study.best_params\n",
    "LOO_best_value=study.best_value\n",
    "LOO_best_value\n",
    "\n",
    "\n"
   ]
  }
 ],
 "metadata": {
  "kernelspec": {
   "display_name": "wp",
   "language": "python",
   "name": "python3"
  },
  "language_info": {
   "codemirror_mode": {
    "name": "ipython",
    "version": 3
   },
   "file_extension": ".py",
   "mimetype": "text/x-python",
   "name": "python",
   "nbconvert_exporter": "python",
   "pygments_lexer": "ipython3",
   "version": "3.9.0"
  }
 },
 "nbformat": 4,
 "nbformat_minor": 2
}
