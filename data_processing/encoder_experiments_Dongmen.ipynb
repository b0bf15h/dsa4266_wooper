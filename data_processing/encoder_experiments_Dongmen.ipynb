{
 "cells": [
  {
   "cell_type": "code",
   "execution_count": 5,
   "metadata": {},
   "outputs": [
    {
     "name": "stderr",
     "output_type": "stream",
     "text": [
      "c:\\Users\\65829\\anaconda3\\envs\\wp\\lib\\site-packages\\tqdm\\auto.py:21: TqdmWarning: IProgress not found. Please update jupyter and ipywidgets. See https://ipywidgets.readthedocs.io/en/stable/user_install.html\n",
      "  from .autonotebook import tqdm as notebook_tqdm\n"
     ]
    }
   ],
   "source": [
    "\n",
    "import pandas as pd\n",
    "import numpy as np\n",
    "from pathlib import Path\n",
    "import os\n",
    "import optuna\n",
    "from sklearn.metrics import roc_auc_score\n",
    "from sklearn.ensemble import RandomForestClassifier"
   ]
  },
  {
   "cell_type": "code",
   "execution_count": 2,
   "metadata": {},
   "outputs": [],
   "source": [
    "path = Path(os.path.abspath(''))\n",
    "data_path = path.resolve().parents[0]/'data'\n",
    "\n",
    "# this notebook should be in data_processing, the pkl files should be in data"
   ]
  },
  {
   "cell_type": "code",
   "execution_count": 7,
   "metadata": {},
   "outputs": [],
   "source": [
    "# perform various encodings based on train_df\n",
    "# https://github.com/scikit-learn-contrib/category_encoders\n",
    "# Generalized Linear Mixed Model Encoder\n",
    "# Target Encoder\n",
    "# Leave One Out Encoder\n",
    "# James Stein\n",
    "# Weight of evidence\n",
    "# M-estimate \n",
    "train_df = pd.read_pickle(data_path/'train.pkl')\n",
    "validation_df = pd.read_pickle(data_path/'validation.pkl')\n",
    "# OHE is the baseline to compare with\n",
    "train_df_OHE = pd.read_pickle(data_path/'train_OHE.pkl')\n",
    "validation_df_OHE = pd.read_pickle(data_path/'validation_OHE.pkl')"
   ]
  },
  {
   "cell_type": "code",
   "execution_count": null,
   "metadata": {},
   "outputs": [],
   "source": [
    "# insert encoding steps here\n",
    "\n",
    "\n"
   ]
  },
  {
   "cell_type": "code",
   "execution_count": null,
   "metadata": {},
   "outputs": [],
   "source": [
    "X_train = train_df.drop(['label'], axis=1)\n",
    "y_train = train_df['label']\n",
    "X_valid = validation_df.drop(['label'], axis=1)\n",
    "y_valid = validation_df['label']\n"
   ]
  },
  {
   "cell_type": "code",
   "execution_count": null,
   "metadata": {},
   "outputs": [],
   "source": [
    "def objective(trial, X_train, y_train, X_valid, y_valid):\n",
    "    n_estimators = trial.suggest_int('n_estimators', 100,400)\n",
    "    min_samples_split = trial.suggest_float('min_samples_split',0.0,1.0)\n",
    "    min_samples_leaf = trial.suggest_float('min_samples_leaf', 0.0,1.0)\n",
    "    max_features = trial.suggest_categorical('max_features', ['sqrt', 'log2'])\n",
    "    rf = RandomForestClassifier(n_estimators= n_estimators, min_samples_split = min_samples_split, min_samples_leaf= min_samples_leaf, random_state=42, n_jobs= -1, max_features= max_features)\n",
    "    rf.fit(X_train, y_train)\n",
    "    rf_probs = rf.predict_proba(X_valid)\n",
    "    true_probs = [entry[1] for entry in rf_probs]\n",
    "    return roc_auc_score(y_true=y_valid,y_score=true_probs)"
   ]
  },
  {
   "cell_type": "code",
   "execution_count": null,
   "metadata": {},
   "outputs": [],
   "source": [
    "# name study after encoding method used\n",
    "# create a new study for each encoding method \n",
    "study = optuna.create_study(study_name = 'label_encoder',pruner = optuna.pruners.HyperbandPruner(\n",
    "        min_resource=1, reduction_factor=3\n",
    "    ), direction = \"maximize\", )    "
   ]
  },
  {
   "cell_type": "code",
   "execution_count": null,
   "metadata": {},
   "outputs": [],
   "source": [
    "study.optimize(lambda trial: objective(trial, X_train, y_train, X_valid, y_valid), n_trials= 60)\n"
   ]
  },
  {
   "cell_type": "code",
   "execution_count": null,
   "metadata": {},
   "outputs": [],
   "source": [
    "# these 2 should be recorded for each study\n",
    "study.best_params\n",
    "study.best_value"
   ]
  }
 ],
 "metadata": {
  "kernelspec": {
   "display_name": "wp",
   "language": "python",
   "name": "python3"
  },
  "language_info": {
   "codemirror_mode": {
    "name": "ipython",
    "version": 3
   },
   "file_extension": ".py",
   "mimetype": "text/x-python",
   "name": "python",
   "nbconvert_exporter": "python",
   "pygments_lexer": "ipython3",
   "version": "3.9.0"
  }
 },
 "nbformat": 4,
 "nbformat_minor": 2
}
