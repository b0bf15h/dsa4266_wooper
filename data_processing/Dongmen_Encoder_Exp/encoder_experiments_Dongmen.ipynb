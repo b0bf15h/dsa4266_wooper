{
 "cells": [
  {
   "cell_type": "code",
   "execution_count": 2,
   "metadata": {},
   "outputs": [
    {
     "name": "stderr",
     "output_type": "stream",
     "text": [
      "c:\\Users\\dongm\\AppData\\Local\\Programs\\Python\\Python38\\lib\\site-packages\\tqdm\\auto.py:21: TqdmWarning: IProgress not found. Please update jupyter and ipywidgets. See https://ipywidgets.readthedocs.io/en/stable/user_install.html\n",
      "  from .autonotebook import tqdm as notebook_tqdm\n"
     ]
    }
   ],
   "source": [
    "\n",
    "import pandas as pd\n",
    "import numpy as np\n",
    "from pathlib import Path\n",
    "import os\n",
    "import optuna\n",
    "from sklearn.metrics import roc_auc_score\n",
    "from sklearn.ensemble import RandomForestClassifier"
   ]
  },
  {
   "cell_type": "code",
   "execution_count": 3,
   "metadata": {},
   "outputs": [
    {
     "data": {
      "text/plain": [
       "WindowsPath('C:/Users/dongm/Documents/GitHub/dsa4266_wooper/data_processing/data')"
      ]
     },
     "execution_count": 3,
     "metadata": {},
     "output_type": "execute_result"
    }
   ],
   "source": [
    "path = Path(os.path.abspath(''))\n",
    "data_path = path.resolve().parents[0]/'data'\n",
    "data_path\n",
    "# this notebook should be in data_processing, the pkl files should be in data"
   ]
  },
  {
   "cell_type": "code",
   "execution_count": 7,
   "metadata": {},
   "outputs": [
    {
     "ename": "FileNotFoundError",
     "evalue": "[Errno 2] No such file or directory: 'C:\\\\Users\\\\dongm\\\\Documents\\\\GitHub\\\\dsa4266_wooper\\\\data_processing\\\\data\\\\train.pkl'",
     "output_type": "error",
     "traceback": [
      "\u001b[1;31m---------------------------------------------------------------------------\u001b[0m",
      "\u001b[1;31mFileNotFoundError\u001b[0m                         Traceback (most recent call last)",
      "\u001b[1;32mc:\\Users\\dongm\\Documents\\GitHub\\dsa4266_wooper\\data_processing\\Dongmen_Encoder_Exp\\encoder_experiments_Dongmen.ipynb Cell 3\u001b[0m line \u001b[0;36m9\n\u001b[0;32m      <a href='vscode-notebook-cell:/c%3A/Users/dongm/Documents/GitHub/dsa4266_wooper/data_processing/Dongmen_Encoder_Exp/encoder_experiments_Dongmen.ipynb#W2sZmlsZQ%3D%3D?line=0'>1</a>\u001b[0m \u001b[39m# perform various encodings based on train_df\u001b[39;00m\n\u001b[0;32m      <a href='vscode-notebook-cell:/c%3A/Users/dongm/Documents/GitHub/dsa4266_wooper/data_processing/Dongmen_Encoder_Exp/encoder_experiments_Dongmen.ipynb#W2sZmlsZQ%3D%3D?line=1'>2</a>\u001b[0m \u001b[39m# https://github.com/scikit-learn-contrib/category_encoders\u001b[39;00m\n\u001b[0;32m      <a href='vscode-notebook-cell:/c%3A/Users/dongm/Documents/GitHub/dsa4266_wooper/data_processing/Dongmen_Encoder_Exp/encoder_experiments_Dongmen.ipynb#W2sZmlsZQ%3D%3D?line=2'>3</a>\u001b[0m \u001b[39m# Generalized Linear Mixed Model Encoder\u001b[39;00m\n\u001b[1;32m   (...)\u001b[0m\n\u001b[0;32m      <a href='vscode-notebook-cell:/c%3A/Users/dongm/Documents/GitHub/dsa4266_wooper/data_processing/Dongmen_Encoder_Exp/encoder_experiments_Dongmen.ipynb#W2sZmlsZQ%3D%3D?line=6'>7</a>\u001b[0m \u001b[39m# Weight of evidence\u001b[39;00m\n\u001b[0;32m      <a href='vscode-notebook-cell:/c%3A/Users/dongm/Documents/GitHub/dsa4266_wooper/data_processing/Dongmen_Encoder_Exp/encoder_experiments_Dongmen.ipynb#W2sZmlsZQ%3D%3D?line=7'>8</a>\u001b[0m \u001b[39m# M-estimate\u001b[39;00m\n\u001b[1;32m----> <a href='vscode-notebook-cell:/c%3A/Users/dongm/Documents/GitHub/dsa4266_wooper/data_processing/Dongmen_Encoder_Exp/encoder_experiments_Dongmen.ipynb#W2sZmlsZQ%3D%3D?line=8'>9</a>\u001b[0m \u001b[39mwith\u001b[39;00m \u001b[39mopen\u001b[39m(\u001b[39m'\u001b[39m\u001b[39mC:\u001b[39m\u001b[39m\\\\\u001b[39;00m\u001b[39mUsers\u001b[39m\u001b[39m\\\\\u001b[39;00m\u001b[39mdongm\u001b[39m\u001b[39m\\\\\u001b[39;00m\u001b[39mDocuments\u001b[39m\u001b[39m\\\\\u001b[39;00m\u001b[39mGitHub\u001b[39m\u001b[39m\\\\\u001b[39;00m\u001b[39mdsa4266_wooper\u001b[39m\u001b[39m\\\\\u001b[39;00m\u001b[39mdata_processing\u001b[39m\u001b[39m\\\\\u001b[39;00m\u001b[39mdata\u001b[39m\u001b[39m\\\\\u001b[39;00m\u001b[39mtrain.pkl\u001b[39m\u001b[39m'\u001b[39m, \u001b[39m'\u001b[39m\u001b[39mrb\u001b[39m\u001b[39m'\u001b[39m) \u001b[39mas\u001b[39;00m f:\n\u001b[0;32m     <a href='vscode-notebook-cell:/c%3A/Users/dongm/Documents/GitHub/dsa4266_wooper/data_processing/Dongmen_Encoder_Exp/encoder_experiments_Dongmen.ipynb#W2sZmlsZQ%3D%3D?line=9'>10</a>\u001b[0m     train_df \u001b[39m=\u001b[39m pickle\u001b[39m.\u001b[39mload(f)\n\u001b[0;32m     <a href='vscode-notebook-cell:/c%3A/Users/dongm/Documents/GitHub/dsa4266_wooper/data_processing/Dongmen_Encoder_Exp/encoder_experiments_Dongmen.ipynb#W2sZmlsZQ%3D%3D?line=10'>11</a>\u001b[0m train_df \u001b[39m=\u001b[39m pd\u001b[39m.\u001b[39mread_pickle(data_path\u001b[39m/\u001b[39m\u001b[39m'\u001b[39m\u001b[39mtrain.pkl\u001b[39m\u001b[39m'\u001b[39m)\n",
      "\u001b[1;31mFileNotFoundError\u001b[0m: [Errno 2] No such file or directory: 'C:\\\\Users\\\\dongm\\\\Documents\\\\GitHub\\\\dsa4266_wooper\\\\data_processing\\\\data\\\\train.pkl'"
     ]
    }
   ],
   "source": [
    "# perform various encodings based on train_df\n",
    "# https://github.com/scikit-learn-contrib/category_encoders\n",
    "# Generalized Linear Mixed Model Encoder\n",
    "# Target Encoder\n",
    "# Leave One Out Encoder\n",
    "# James Stein\n",
    "# Weight of evidence\n",
    "# M-estimate\n",
    "train_df = pd.read_pickle(data_path/'train.pkl')\n",
    "validation_df = pd.read_pickle(data_path/'validation.pkl')\n",
    "# OHE is the baseline to compare with\n",
    "train_df_OHE = pd.read_pickle(data_path/'train_OHE.pkl')\n",
    "validation_df_OHE = pd.read_pickle(data_path/'validation_OHE.pkl')"
   ]
  },
  {
   "cell_type": "code",
   "execution_count": null,
   "metadata": {},
   "outputs": [],
   "source": [
    "X_train = train_df.drop(['label'], axis=1)\n",
    "y_train = train_df['label']\n",
    "X_valid = validation_df.drop(['label'], axis=1)\n",
    "y_valid = validation_df['label']\n",
    "def objective(trial, X_train, y_train, X_valid, y_valid):\n",
    "    n_estimators = trial.suggest_int('n_estimators', 100,400)\n",
    "    min_samples_split = trial.suggest_float('min_samples_split',0.0,1.0)\n",
    "    min_samples_leaf = trial.suggest_float('min_samples_leaf', 0.0,1.0)\n",
    "    max_features = trial.suggest_categorical('max_features', ['sqrt', 'log2'])\n",
    "    rf = RandomForestClassifier(n_estimators= n_estimators, min_samples_split = min_samples_split, min_samples_leaf= min_samples_leaf, random_state=42, n_jobs= -1, max_features= max_features)\n",
    "    rf.fit(X_train, y_train)\n",
    "    rf_probs = rf.predict_proba(X_valid)\n",
    "    true_probs = [entry[1] for entry in rf_probs]\n",
    "    return roc_auc_score(y_true=y_valid,y_score=true_probs)"
   ]
  },
  {
   "cell_type": "code",
   "execution_count": null,
   "metadata": {},
   "outputs": [],
   "source": [
    "# name study after encoding method used\n",
    "# create a new study for each encoding method \n",
    "study = optuna.create_study(study_name = 'label_encoder',pruner = optuna.pruners.HyperbandPruner(\n",
    "        min_resource=1, reduction_factor=3\n",
    "    ), direction = \"maximize\", )    "
   ]
  },
  {
   "cell_type": "code",
   "execution_count": null,
   "metadata": {},
   "outputs": [],
   "source": [
    "study.optimize(lambda trial: objective(trial, X_train, y_train, X_valid, y_valid), n_trials= 60)\n"
   ]
  },
  {
   "cell_type": "code",
   "execution_count": null,
   "metadata": {},
   "outputs": [],
   "source": [
    "# these 2 should be recorded for each study\n",
    "study.best_params\n",
    "study.best_value"
   ]
  }
 ],
 "metadata": {
  "kernelspec": {
   "display_name": "wp",
   "language": "python",
   "name": "python3"
  },
  "language_info": {
   "codemirror_mode": {
    "name": "ipython",
    "version": 3
   },
   "file_extension": ".py",
   "mimetype": "text/x-python",
   "name": "python",
   "nbconvert_exporter": "python",
   "pygments_lexer": "ipython3",
   "version": "3.8.7"
  }
 },
 "nbformat": 4,
 "nbformat_minor": 2
}
