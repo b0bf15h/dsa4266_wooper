{
 "cells": [
  {
   "cell_type": "code",
   "execution_count": 122,
   "metadata": {},
   "outputs": [],
   "source": [
    "\n",
    "import os\n",
    "import pandas as pd\n",
    "import numpy as np\n",
    "from pathlib import Path\n",
    "from DownSampler import DownSampler\n",
    "import requests\n",
    "import re"
   ]
  },
  {
   "cell_type": "code",
   "execution_count": 2,
   "metadata": {},
   "outputs": [
    {
     "data": {
      "text/plain": [
       "WindowsPath('C:/Users/65829/OneDrive/Desktop/Y4S1/DSA4266/Project2/dsa4266_wooper/data')"
      ]
     },
     "execution_count": 2,
     "metadata": {},
     "output_type": "execute_result"
    }
   ],
   "source": [
    "path = Path(os.path.abspath(''))\n",
    "data_path = path.resolve().parents[0]/'data'\n",
    "data_path"
   ]
  },
  {
   "cell_type": "code",
   "execution_count": 3,
   "metadata": {},
   "outputs": [],
   "source": [
    "df = pd.read_pickle(data_path/'merged_data_v2.pkl')"
   ]
  },
  {
   "cell_type": "code",
   "execution_count": 54,
   "metadata": {},
   "outputs": [],
   "source": [
    "with open(data_path/'not_found_on_curr_ensembl.txt', 'r') as file:\n",
    "     file_content = file.read()\n",
    "matches = re.findall(r'ENST\\w+', file_content)"
   ]
  },
  {
   "cell_type": "code",
   "execution_count": 75,
   "metadata": {},
   "outputs": [
    {
     "data": {
      "text/plain": [
       "['ENST00000216605',\n",
       " 'ENST00000216951',\n",
       " 'ENST00000224862',\n",
       " 'ENST00000233616',\n",
       " 'ENST00000246554',\n",
       " 'ENST00000251101',\n",
       " 'ENST00000252725',\n",
       " 'ENST00000256216',\n",
       " 'ENST00000261182',\n",
       " 'ENST00000261247',\n",
       " 'ENST00000262888',\n",
       " 'ENST00000264193',\n",
       " 'ENST00000267859',\n",
       " 'ENST00000269349',\n",
       " 'ENST00000271469',\n",
       " 'ENST00000273158',\n",
       " 'ENST00000293842',\n",
       " 'ENST00000304921',\n",
       " 'ENST00000307768',\n",
       " 'ENST00000309828',\n",
       " 'ENST00000314349',\n",
       " 'ENST00000326199',\n",
       " 'ENST00000329286',\n",
       " 'ENST00000330244',\n",
       " 'ENST00000331789',\n",
       " 'ENST00000331925',\n",
       " 'ENST00000335891',\n",
       " 'ENST00000342756',\n",
       " 'ENST00000345523',\n",
       " 'ENST00000348428',\n",
       " 'ENST00000354230',\n",
       " 'ENST00000355257',\n",
       " 'ENST00000355272',\n",
       " 'ENST00000357436',\n",
       " 'ENST00000358357',\n",
       " 'ENST00000361951',\n",
       " 'ENST00000367274',\n",
       " 'ENST00000368567',\n",
       " 'ENST00000372389',\n",
       " 'ENST00000372621',\n",
       " 'ENST00000373176',\n",
       " 'ENST00000375048',\n",
       " 'ENST00000377475',\n",
       " 'ENST00000378565',\n",
       " 'ENST00000378654',\n",
       " 'ENST00000379389',\n",
       " 'ENST00000379806',\n",
       " 'ENST00000380172',\n",
       " 'ENST00000382452',\n",
       " 'ENST00000388854',\n",
       " 'ENST00000391865',\n",
       " 'ENST00000392129',\n",
       " 'ENST00000392177',\n",
       " 'ENST00000394934',\n",
       " 'ENST00000397239',\n",
       " 'ENST00000397736',\n",
       " 'ENST00000398137',\n",
       " 'ENST00000399774',\n",
       " 'ENST00000404338',\n",
       " 'ENST00000406386',\n",
       " 'ENST00000406396',\n",
       " 'ENST00000412368',\n",
       " 'ENST00000422154',\n",
       " 'ENST00000423497',\n",
       " 'ENST00000424325',\n",
       " 'ENST00000433436',\n",
       " 'ENST00000435882',\n",
       " 'ENST00000437553',\n",
       " 'ENST00000438665',\n",
       " 'ENST00000449870',\n",
       " 'ENST00000449901',\n",
       " 'ENST00000452446',\n",
       " 'ENST00000454289',\n",
       " 'ENST00000464167',\n",
       " 'ENST00000481445',\n",
       " 'ENST00000491094',\n",
       " 'ENST00000500728',\n",
       " 'ENST00000512062',\n",
       " 'ENST00000523898',\n",
       " 'ENST00000523944',\n",
       " 'ENST00000530213',\n",
       " 'ENST00000532887',\n",
       " 'ENST00000537776',\n",
       " 'ENST00000538225',\n",
       " 'ENST00000540430',\n",
       " 'ENST00000540651',\n",
       " 'ENST00000541182',\n",
       " 'ENST00000545074',\n",
       " 'ENST00000545482',\n",
       " 'ENST00000558401',\n",
       " 'ENST00000564546',\n",
       " 'ENST00000564595',\n",
       " 'ENST00000602728',\n",
       " 'ENST00000602871',\n",
       " 'ENST00000604262',\n",
       " 'ENST00000606149',\n",
       " 'ENST00000611080',\n",
       " 'ENST00000611509',\n",
       " 'ENST00000611786',\n",
       " 'ENST00000613943',\n",
       " 'ENST00000614102',\n",
       " 'ENST00000614192',\n",
       " 'ENST00000614696',\n",
       " 'ENST00000614775',\n",
       " 'ENST00000617365',\n",
       " 'ENST00000618014',\n",
       " 'ENST00000619060',\n",
       " 'ENST00000619352',\n",
       " 'ENST00000619580',\n",
       " 'ENST00000620216',\n",
       " 'ENST00000620401',\n",
       " 'ENST00000621232',\n",
       " 'ENST00000621318',\n",
       " 'ENST00000621829',\n",
       " 'ENST00000622390',\n",
       " 'ENST00000623368',\n",
       " 'ENST00000626223',\n",
       " 'ENST00000627059',\n",
       " 'ENST00000628056',\n",
       " 'ENST00000630647',\n",
       " 'ENST00000639558',\n",
       " 'ENST00000639996']"
      ]
     },
     "execution_count": 75,
     "metadata": {},
     "output_type": "execute_result"
    }
   ],
   "source": [
    "matches"
   ]
  },
  {
   "cell_type": "code",
   "execution_count": 82,
   "metadata": {},
   "outputs": [],
   "source": [
    "def find_transcript_length_grch37(transcript_id):\n",
    "    url = f\"https://grch37.rest.ensembl.org/lookup/id/{transcript_id}\"\n",
    "    response = requests.get(url, headers={\"Content-Type\": \"application/json\"})\n",
    "    if response.status_code == 200:\n",
    "        data = response.json()\n",
    "        # Extract the transcript length from the response\n",
    "        transcript_length = data['end'] - data['start'] + 1\n",
    "        return transcript_length\n",
    "    else:\n",
    "        print(f\"Transcript ID {transcript_id} not found or there was an issue with the request.\")\n",
    "    "
   ]
  },
  {
   "cell_type": "code",
   "execution_count": 86,
   "metadata": {},
   "outputs": [
    {
     "name": "stdout",
     "output_type": "stream",
     "text": [
      "Transcript ID ENST00000611080 not found or there was an issue with the request.\n",
      "Transcript ID ENST00000611509 not found or there was an issue with the request.\n",
      "Transcript ID ENST00000611786 not found or there was an issue with the request.\n",
      "Transcript ID ENST00000613943 not found or there was an issue with the request.\n",
      "Transcript ID ENST00000614102 not found or there was an issue with the request.\n",
      "Transcript ID ENST00000614192 not found or there was an issue with the request.\n",
      "Transcript ID ENST00000614696 not found or there was an issue with the request.\n",
      "Transcript ID ENST00000614775 not found or there was an issue with the request.\n",
      "Transcript ID ENST00000617365 not found or there was an issue with the request.\n",
      "Transcript ID ENST00000618014 not found or there was an issue with the request.\n",
      "Transcript ID ENST00000619060 not found or there was an issue with the request.\n",
      "Transcript ID ENST00000619352 not found or there was an issue with the request.\n",
      "Transcript ID ENST00000619580 not found or there was an issue with the request.\n",
      "Transcript ID ENST00000620216 not found or there was an issue with the request.\n",
      "Transcript ID ENST00000620401 not found or there was an issue with the request.\n",
      "Transcript ID ENST00000621232 not found or there was an issue with the request.\n",
      "Transcript ID ENST00000621318 not found or there was an issue with the request.\n",
      "Transcript ID ENST00000621829 not found or there was an issue with the request.\n",
      "Transcript ID ENST00000622390 not found or there was an issue with the request.\n",
      "Transcript ID ENST00000623368 not found or there was an issue with the request.\n",
      "Transcript ID ENST00000626223 not found or there was an issue with the request.\n",
      "Transcript ID ENST00000627059 not found or there was an issue with the request.\n",
      "Transcript ID ENST00000628056 not found or there was an issue with the request.\n",
      "Transcript ID ENST00000630647 not found or there was an issue with the request.\n",
      "Transcript ID ENST00000639558 not found or there was an issue with the request.\n",
      "Transcript ID ENST00000639996 not found or there was an issue with the request.\n"
     ]
    }
   ],
   "source": [
    "lis = []\n",
    "for trx in matches:\n",
    "    lis.append(find_transcript_length_grch37(trx))"
   ]
  },
  {
   "cell_type": "code",
   "execution_count": 102,
   "metadata": {},
   "outputs": [],
   "source": [
    "grch37 = pd.DataFrame({'transcript_id' :matches, 'length' : lis})"
   ]
  },
  {
   "cell_type": "code",
   "execution_count": 104,
   "metadata": {},
   "outputs": [
    {
     "data": {
      "text/html": [
       "<div>\n",
       "<style scoped>\n",
       "    .dataframe tbody tr th:only-of-type {\n",
       "        vertical-align: middle;\n",
       "    }\n",
       "\n",
       "    .dataframe tbody tr th {\n",
       "        vertical-align: top;\n",
       "    }\n",
       "\n",
       "    .dataframe thead th {\n",
       "        text-align: right;\n",
       "    }\n",
       "</style>\n",
       "<table border=\"1\" class=\"dataframe\">\n",
       "  <thead>\n",
       "    <tr style=\"text-align: right;\">\n",
       "      <th></th>\n",
       "      <th>transcript_id</th>\n",
       "      <th>length</th>\n",
       "    </tr>\n",
       "  </thead>\n",
       "  <tbody>\n",
       "    <tr>\n",
       "      <th>117</th>\n",
       "      <td>ENST00000627059</td>\n",
       "      <td>NaN</td>\n",
       "    </tr>\n",
       "    <tr>\n",
       "      <th>118</th>\n",
       "      <td>ENST00000628056</td>\n",
       "      <td>NaN</td>\n",
       "    </tr>\n",
       "    <tr>\n",
       "      <th>119</th>\n",
       "      <td>ENST00000630647</td>\n",
       "      <td>NaN</td>\n",
       "    </tr>\n",
       "    <tr>\n",
       "      <th>120</th>\n",
       "      <td>ENST00000639558</td>\n",
       "      <td>NaN</td>\n",
       "    </tr>\n",
       "    <tr>\n",
       "      <th>121</th>\n",
       "      <td>ENST00000639996</td>\n",
       "      <td>NaN</td>\n",
       "    </tr>\n",
       "  </tbody>\n",
       "</table>\n",
       "</div>"
      ],
      "text/plain": [
       "       transcript_id  length\n",
       "117  ENST00000627059     NaN\n",
       "118  ENST00000628056     NaN\n",
       "119  ENST00000630647     NaN\n",
       "120  ENST00000639558     NaN\n",
       "121  ENST00000639996     NaN"
      ]
     },
     "execution_count": 104,
     "metadata": {},
     "output_type": "execute_result"
    }
   ],
   "source": [
    "grch37.tail()"
   ]
  },
  {
   "cell_type": "code",
   "execution_count": 105,
   "metadata": {},
   "outputs": [
    {
     "data": {
      "text/html": [
       "<div>\n",
       "<style scoped>\n",
       "    .dataframe tbody tr th:only-of-type {\n",
       "        vertical-align: middle;\n",
       "    }\n",
       "\n",
       "    .dataframe tbody tr th {\n",
       "        vertical-align: top;\n",
       "    }\n",
       "\n",
       "    .dataframe thead th {\n",
       "        text-align: right;\n",
       "    }\n",
       "</style>\n",
       "<table border=\"1\" class=\"dataframe\">\n",
       "  <thead>\n",
       "    <tr style=\"text-align: right;\">\n",
       "      <th></th>\n",
       "      <th>transcript_id</th>\n",
       "      <th>length</th>\n",
       "    </tr>\n",
       "  </thead>\n",
       "  <tbody>\n",
       "    <tr>\n",
       "      <th>5328</th>\n",
       "      <td>ENST00000641375</td>\n",
       "      <td>32278.0</td>\n",
       "    </tr>\n",
       "    <tr>\n",
       "      <th>5329</th>\n",
       "      <td>ENST00000641390</td>\n",
       "      <td>120612.0</td>\n",
       "    </tr>\n",
       "    <tr>\n",
       "      <th>5330</th>\n",
       "      <td>ENST00000641708</td>\n",
       "      <td>14848.0</td>\n",
       "    </tr>\n",
       "    <tr>\n",
       "      <th>5331</th>\n",
       "      <td>ENST00000641784</td>\n",
       "      <td>121298.0</td>\n",
       "    </tr>\n",
       "    <tr>\n",
       "      <th>5332</th>\n",
       "      <td>ENST00000641834</td>\n",
       "      <td>7243.0</td>\n",
       "    </tr>\n",
       "  </tbody>\n",
       "</table>\n",
       "</div>"
      ],
      "text/plain": [
       "        transcript_id    length\n",
       "5328  ENST00000641375   32278.0\n",
       "5329  ENST00000641390  120612.0\n",
       "5330  ENST00000641708   14848.0\n",
       "5331  ENST00000641784  121298.0\n",
       "5332  ENST00000641834    7243.0"
      ]
     },
     "execution_count": 105,
     "metadata": {},
     "output_type": "execute_result"
    }
   ],
   "source": [
    "mappings.tail()"
   ]
  },
  {
   "cell_type": "code",
   "execution_count": 107,
   "metadata": {},
   "outputs": [
    {
     "name": "stdout",
     "output_type": "stream",
     "text": [
      "<class 'pandas.core.frame.DataFrame'>\n",
      "RangeIndex: 5333 entries, 0 to 5332\n",
      "Data columns (total 2 columns):\n",
      " #   Column         Non-Null Count  Dtype  \n",
      "---  ------         --------------  -----  \n",
      " 0   transcript_id  5333 non-null   object \n",
      " 1   length         5211 non-null   float64\n",
      "dtypes: float64(1), object(1)\n",
      "memory usage: 83.5+ KB\n"
     ]
    }
   ],
   "source": [
    "mappings.info()"
   ]
  },
  {
   "cell_type": "code",
   "execution_count": 110,
   "metadata": {},
   "outputs": [],
   "source": [
    "total = pd.merge(mappings, grch37, on = 'transcript_id', how = 'left')"
   ]
  },
  {
   "cell_type": "code",
   "execution_count": 117,
   "metadata": {},
   "outputs": [
    {
     "name": "stdout",
     "output_type": "stream",
     "text": [
      "<class 'pandas.core.frame.DataFrame'>\n",
      "RangeIndex: 5333 entries, 0 to 5332\n",
      "Data columns (total 3 columns):\n",
      " #   Column         Non-Null Count  Dtype  \n",
      "---  ------         --------------  -----  \n",
      " 0   transcript_id  5333 non-null   object \n",
      " 1   length_x       5211 non-null   float64\n",
      " 2   length_y       96 non-null     float64\n",
      "dtypes: float64(2), object(1)\n",
      "memory usage: 125.1+ KB\n"
     ]
    }
   ],
   "source": [
    "total.info()"
   ]
  },
  {
   "cell_type": "code",
   "execution_count": 127,
   "metadata": {},
   "outputs": [],
   "source": [
    "def find_first_non_null_numeric(row):\n",
    "    for value in row:\n",
    "        if pd.notna(value) and type(value) == float:\n",
    "            return value\n",
    "    return None\n",
    "total['length'] = total.apply(find_first_non_null_numeric, axis=1)"
   ]
  },
  {
   "cell_type": "code",
   "execution_count": 132,
   "metadata": {},
   "outputs": [],
   "source": [
    "total.to_pickle(data_path/'mappings_grch37_8_.pkl')"
   ]
  },
  {
   "cell_type": "code",
   "execution_count": 89,
   "metadata": {},
   "outputs": [
    {
     "data": {
      "text/plain": [
       "122"
      ]
     },
     "execution_count": 89,
     "metadata": {},
     "output_type": "execute_result"
    }
   ],
   "source": [
    "len(matches) "
   ]
  },
  {
   "cell_type": "code",
   "execution_count": 81,
   "metadata": {},
   "outputs": [
    {
     "data": {
      "text/plain": [
       "{'ENST00000630647': None, 'ENST00000639558': None}"
      ]
     },
     "execution_count": 81,
     "metadata": {},
     "output_type": "execute_result"
    }
   ],
   "source": [
    "response.json()"
   ]
  },
  {
   "cell_type": "code",
   "execution_count": 7,
   "metadata": {},
   "outputs": [
    {
     "name": "stdout",
     "output_type": "stream",
     "text": [
      "<class 'pandas.core.frame.DataFrame'>\n",
      "RangeIndex: 121838 entries, 0 to 121837\n",
      "Data columns (total 26 columns):\n",
      " #   Column               Non-Null Count   Dtype  \n",
      "---  ------               --------------   -----  \n",
      " 0   gene_id              121838 non-null  object \n",
      " 1   transcript_id        121838 non-null  object \n",
      " 2   transcript_position  121838 non-null  int64  \n",
      " 3   sequence             121838 non-null  object \n",
      " 4   m1_seq               121838 non-null  object \n",
      " 5   p1_seq               121838 non-null  object \n",
      " 6   dwell_time_mean      121838 non-null  float64\n",
      " 7   sd_mean              121838 non-null  float64\n",
      " 8   mean_mean            121838 non-null  float64\n",
      " 9   m1_dtime_mean        121838 non-null  float64\n",
      " 10  m1_sd_mean           121838 non-null  float64\n",
      " 11  m1_mean_mean         121838 non-null  float64\n",
      " 12  p1_dtime_mean        121838 non-null  float64\n",
      " 13  p1_sd_mean           121838 non-null  float64\n",
      " 14  p1_mean_mean         121838 non-null  float64\n",
      " 15  dwell_time_var       121838 non-null  float64\n",
      " 16  sd_var               121838 non-null  float64\n",
      " 17  mean_var             121838 non-null  float64\n",
      " 18  m1_dtime_var         121838 non-null  float64\n",
      " 19  m1_sd_var            121838 non-null  float64\n",
      " 20  m1_mean_var          121838 non-null  float64\n",
      " 21  p1_dtime_var         121838 non-null  float64\n",
      " 22  p1_sd_var            121838 non-null  float64\n",
      " 23  p1_mean_var          121838 non-null  float64\n",
      " 24  count                121838 non-null  int64  \n",
      " 25  label                121838 non-null  float64\n",
      "dtypes: float64(19), int64(2), object(5)\n",
      "memory usage: 24.2+ MB\n"
     ]
    }
   ],
   "source": [
    "df.info()"
   ]
  },
  {
   "cell_type": "code",
   "execution_count": 24,
   "metadata": {},
   "outputs": [
    {
     "data": {
      "text/html": [
       "<div>\n",
       "<style scoped>\n",
       "    .dataframe tbody tr th:only-of-type {\n",
       "        vertical-align: middle;\n",
       "    }\n",
       "\n",
       "    .dataframe tbody tr th {\n",
       "        vertical-align: top;\n",
       "    }\n",
       "\n",
       "    .dataframe thead th {\n",
       "        text-align: right;\n",
       "    }\n",
       "</style>\n",
       "<table border=\"1\" class=\"dataframe\">\n",
       "  <thead>\n",
       "    <tr style=\"text-align: right;\">\n",
       "      <th></th>\n",
       "      <th>gene_id</th>\n",
       "      <th>transcript_id</th>\n",
       "      <th>transcript_position</th>\n",
       "      <th>sequence</th>\n",
       "      <th>m1_seq</th>\n",
       "      <th>p1_seq</th>\n",
       "      <th>dwell_time_mean</th>\n",
       "      <th>sd_mean</th>\n",
       "      <th>mean_mean</th>\n",
       "      <th>m1_dtime_mean</th>\n",
       "      <th>...</th>\n",
       "      <th>sd_var</th>\n",
       "      <th>mean_var</th>\n",
       "      <th>m1_dtime_var</th>\n",
       "      <th>m1_sd_var</th>\n",
       "      <th>m1_mean_var</th>\n",
       "      <th>p1_dtime_var</th>\n",
       "      <th>p1_sd_var</th>\n",
       "      <th>p1_mean_var</th>\n",
       "      <th>count</th>\n",
       "      <th>label</th>\n",
       "    </tr>\n",
       "  </thead>\n",
       "  <tbody>\n",
       "    <tr>\n",
       "      <th>0</th>\n",
       "      <td>ENSG00000004059</td>\n",
       "      <td>ENST00000000233</td>\n",
       "      <td>244</td>\n",
       "      <td>AGACC</td>\n",
       "      <td>AAGAC</td>\n",
       "      <td>GACCA</td>\n",
       "      <td>0.009373</td>\n",
       "      <td>7.382162</td>\n",
       "      <td>125.913514</td>\n",
       "      <td>0.008264</td>\n",
       "      <td>...</td>\n",
       "      <td>10.966916</td>\n",
       "      <td>7.688132</td>\n",
       "      <td>0.000029</td>\n",
       "      <td>3.415203</td>\n",
       "      <td>24.579612</td>\n",
       "      <td>0.000021</td>\n",
       "      <td>8.492049</td>\n",
       "      <td>6.395905</td>\n",
       "      <td>185</td>\n",
       "      <td>0.0</td>\n",
       "    </tr>\n",
       "    <tr>\n",
       "      <th>1</th>\n",
       "      <td>ENSG00000004059</td>\n",
       "      <td>ENST00000000233</td>\n",
       "      <td>261</td>\n",
       "      <td>AAACT</td>\n",
       "      <td>CAAAC</td>\n",
       "      <td>AACTG</td>\n",
       "      <td>0.006813</td>\n",
       "      <td>3.226535</td>\n",
       "      <td>107.889535</td>\n",
       "      <td>0.006609</td>\n",
       "      <td>...</td>\n",
       "      <td>1.539228</td>\n",
       "      <td>12.509130</td>\n",
       "      <td>0.000013</td>\n",
       "      <td>2.869970</td>\n",
       "      <td>8.939418</td>\n",
       "      <td>0.000021</td>\n",
       "      <td>2.162594</td>\n",
       "      <td>6.249036</td>\n",
       "      <td>172</td>\n",
       "      <td>0.0</td>\n",
       "    </tr>\n",
       "    <tr>\n",
       "      <th>2</th>\n",
       "      <td>ENSG00000004059</td>\n",
       "      <td>ENST00000000233</td>\n",
       "      <td>316</td>\n",
       "      <td>AAACA</td>\n",
       "      <td>GAAAC</td>\n",
       "      <td>AACAG</td>\n",
       "      <td>0.007416</td>\n",
       "      <td>3.642703</td>\n",
       "      <td>98.947027</td>\n",
       "      <td>0.007570</td>\n",
       "      <td>...</td>\n",
       "      <td>0.802647</td>\n",
       "      <td>10.320222</td>\n",
       "      <td>0.000020</td>\n",
       "      <td>1.728333</td>\n",
       "      <td>2.239894</td>\n",
       "      <td>0.000020</td>\n",
       "      <td>0.644277</td>\n",
       "      <td>2.215242</td>\n",
       "      <td>185</td>\n",
       "      <td>0.0</td>\n",
       "    </tr>\n",
       "    <tr>\n",
       "      <th>3</th>\n",
       "      <td>ENSG00000004059</td>\n",
       "      <td>ENST00000000233</td>\n",
       "      <td>332</td>\n",
       "      <td>GAACA</td>\n",
       "      <td>AGAAC</td>\n",
       "      <td>AACAT</td>\n",
       "      <td>0.008632</td>\n",
       "      <td>2.899200</td>\n",
       "      <td>97.836500</td>\n",
       "      <td>0.010620</td>\n",
       "      <td>...</td>\n",
       "      <td>1.952632</td>\n",
       "      <td>3.735897</td>\n",
       "      <td>0.000038</td>\n",
       "      <td>6.078633</td>\n",
       "      <td>10.310528</td>\n",
       "      <td>0.000013</td>\n",
       "      <td>0.552990</td>\n",
       "      <td>12.275964</td>\n",
       "      <td>200</td>\n",
       "      <td>0.0</td>\n",
       "    </tr>\n",
       "    <tr>\n",
       "      <th>4</th>\n",
       "      <td>ENSG00000004059</td>\n",
       "      <td>ENST00000000233</td>\n",
       "      <td>368</td>\n",
       "      <td>GGACA</td>\n",
       "      <td>AGGAC</td>\n",
       "      <td>GACAA</td>\n",
       "      <td>0.011479</td>\n",
       "      <td>5.870303</td>\n",
       "      <td>121.954545</td>\n",
       "      <td>0.010701</td>\n",
       "      <td>...</td>\n",
       "      <td>3.091760</td>\n",
       "      <td>4.764421</td>\n",
       "      <td>0.000051</td>\n",
       "      <td>7.563497</td>\n",
       "      <td>7.136364</td>\n",
       "      <td>0.000035</td>\n",
       "      <td>1.809626</td>\n",
       "      <td>5.688583</td>\n",
       "      <td>198</td>\n",
       "      <td>0.0</td>\n",
       "    </tr>\n",
       "  </tbody>\n",
       "</table>\n",
       "<p>5 rows × 26 columns</p>\n",
       "</div>"
      ],
      "text/plain": [
       "           gene_id    transcript_id  transcript_position sequence m1_seq  \\\n",
       "0  ENSG00000004059  ENST00000000233                  244    AGACC  AAGAC   \n",
       "1  ENSG00000004059  ENST00000000233                  261    AAACT  CAAAC   \n",
       "2  ENSG00000004059  ENST00000000233                  316    AAACA  GAAAC   \n",
       "3  ENSG00000004059  ENST00000000233                  332    GAACA  AGAAC   \n",
       "4  ENSG00000004059  ENST00000000233                  368    GGACA  AGGAC   \n",
       "\n",
       "  p1_seq  dwell_time_mean   sd_mean   mean_mean  m1_dtime_mean  ...  \\\n",
       "0  GACCA         0.009373  7.382162  125.913514       0.008264  ...   \n",
       "1  AACTG         0.006813  3.226535  107.889535       0.006609  ...   \n",
       "2  AACAG         0.007416  3.642703   98.947027       0.007570  ...   \n",
       "3  AACAT         0.008632  2.899200   97.836500       0.010620  ...   \n",
       "4  GACAA         0.011479  5.870303  121.954545       0.010701  ...   \n",
       "\n",
       "      sd_var   mean_var  m1_dtime_var  m1_sd_var  m1_mean_var  p1_dtime_var  \\\n",
       "0  10.966916   7.688132      0.000029   3.415203    24.579612      0.000021   \n",
       "1   1.539228  12.509130      0.000013   2.869970     8.939418      0.000021   \n",
       "2   0.802647  10.320222      0.000020   1.728333     2.239894      0.000020   \n",
       "3   1.952632   3.735897      0.000038   6.078633    10.310528      0.000013   \n",
       "4   3.091760   4.764421      0.000051   7.563497     7.136364      0.000035   \n",
       "\n",
       "   p1_sd_var  p1_mean_var  count  label  \n",
       "0   8.492049     6.395905    185    0.0  \n",
       "1   2.162594     6.249036    172    0.0  \n",
       "2   0.644277     2.215242    185    0.0  \n",
       "3   0.552990    12.275964    200    0.0  \n",
       "4   1.809626     5.688583    198    0.0  \n",
       "\n",
       "[5 rows x 26 columns]"
      ]
     },
     "execution_count": 24,
     "metadata": {},
     "output_type": "execute_result"
    }
   ],
   "source": [
    "df.head()"
   ]
  },
  {
   "cell_type": "code",
   "execution_count": 15,
   "metadata": {},
   "outputs": [
    {
     "data": {
      "text/plain": [
       "5333"
      ]
     },
     "execution_count": 15,
     "metadata": {},
     "output_type": "execute_result"
    }
   ],
   "source": [
    "len(df['transcript_id'].unique())"
   ]
  },
  {
   "cell_type": "code",
   "execution_count": 20,
   "metadata": {},
   "outputs": [],
   "source": [
    "def find_transcript_length(transcript_id):\n",
    "    url = f\"https://rest.ensembl.org/lookup/id/{transcript_id}\"\n",
    "    response = requests.get(url, headers={\"Content-Type\": \"application/json\"})\n",
    "    if response.status_code == 200:\n",
    "        data = response.json()\n",
    "        # Extract the transcript length from the response\n",
    "        transcript_length = data['end'] - data['start'] + 1\n",
    "        return transcript_length\n",
    "    else:\n",
    "        print(f\"Transcript ID {transcript_id} not found or there was an issue with the request.\")\n",
    "    "
   ]
  },
  {
   "cell_type": "code",
   "execution_count": 22,
   "metadata": {},
   "outputs": [
    {
     "name": "stdout",
     "output_type": "stream",
     "text": [
      "Transcript ID ENST00000216605 not found or there was an issue with the request.\n",
      "Transcript ID ENST00000216951 not found or there was an issue with the request.\n",
      "Transcript ID ENST00000224862 not found or there was an issue with the request.\n",
      "Transcript ID ENST00000233616 not found or there was an issue with the request.\n",
      "Transcript ID ENST00000246554 not found or there was an issue with the request.\n",
      "Transcript ID ENST00000251101 not found or there was an issue with the request.\n",
      "Transcript ID ENST00000252725 not found or there was an issue with the request.\n",
      "Transcript ID ENST00000256216 not found or there was an issue with the request.\n",
      "Transcript ID ENST00000261182 not found or there was an issue with the request.\n",
      "Transcript ID ENST00000261247 not found or there was an issue with the request.\n",
      "Transcript ID ENST00000262888 not found or there was an issue with the request.\n",
      "Transcript ID ENST00000264193 not found or there was an issue with the request.\n",
      "Transcript ID ENST00000267859 not found or there was an issue with the request.\n",
      "Transcript ID ENST00000269349 not found or there was an issue with the request.\n",
      "Transcript ID ENST00000271469 not found or there was an issue with the request.\n",
      "Transcript ID ENST00000273158 not found or there was an issue with the request.\n",
      "Transcript ID ENST00000293842 not found or there was an issue with the request.\n",
      "Transcript ID ENST00000304921 not found or there was an issue with the request.\n",
      "Transcript ID ENST00000307768 not found or there was an issue with the request.\n",
      "Transcript ID ENST00000309828 not found or there was an issue with the request.\n",
      "Transcript ID ENST00000314349 not found or there was an issue with the request.\n",
      "Transcript ID ENST00000326199 not found or there was an issue with the request.\n",
      "Transcript ID ENST00000329286 not found or there was an issue with the request.\n",
      "Transcript ID ENST00000330244 not found or there was an issue with the request.\n",
      "Transcript ID ENST00000331789 not found or there was an issue with the request.\n",
      "Transcript ID ENST00000331925 not found or there was an issue with the request.\n",
      "Transcript ID ENST00000335891 not found or there was an issue with the request.\n",
      "Transcript ID ENST00000342756 not found or there was an issue with the request.\n",
      "Transcript ID ENST00000345523 not found or there was an issue with the request.\n",
      "Transcript ID ENST00000348428 not found or there was an issue with the request.\n",
      "Transcript ID ENST00000354230 not found or there was an issue with the request.\n",
      "Transcript ID ENST00000355257 not found or there was an issue with the request.\n",
      "Transcript ID ENST00000355272 not found or there was an issue with the request.\n",
      "Transcript ID ENST00000357436 not found or there was an issue with the request.\n",
      "Transcript ID ENST00000358357 not found or there was an issue with the request.\n",
      "Transcript ID ENST00000361951 not found or there was an issue with the request.\n",
      "Transcript ID ENST00000367274 not found or there was an issue with the request.\n",
      "Transcript ID ENST00000368567 not found or there was an issue with the request.\n",
      "Transcript ID ENST00000372389 not found or there was an issue with the request.\n",
      "Transcript ID ENST00000372621 not found or there was an issue with the request.\n",
      "Transcript ID ENST00000373176 not found or there was an issue with the request.\n",
      "Transcript ID ENST00000375048 not found or there was an issue with the request.\n",
      "Transcript ID ENST00000377475 not found or there was an issue with the request.\n",
      "Transcript ID ENST00000378565 not found or there was an issue with the request.\n",
      "Transcript ID ENST00000378654 not found or there was an issue with the request.\n",
      "Transcript ID ENST00000379389 not found or there was an issue with the request.\n",
      "Transcript ID ENST00000379806 not found or there was an issue with the request.\n",
      "Transcript ID ENST00000380172 not found or there was an issue with the request.\n",
      "Transcript ID ENST00000382452 not found or there was an issue with the request.\n",
      "Transcript ID ENST00000388854 not found or there was an issue with the request.\n",
      "Transcript ID ENST00000391865 not found or there was an issue with the request.\n",
      "Transcript ID ENST00000392129 not found or there was an issue with the request.\n",
      "Transcript ID ENST00000392177 not found or there was an issue with the request.\n",
      "Transcript ID ENST00000394934 not found or there was an issue with the request.\n",
      "Transcript ID ENST00000397239 not found or there was an issue with the request.\n",
      "Transcript ID ENST00000397736 not found or there was an issue with the request.\n",
      "Transcript ID ENST00000398137 not found or there was an issue with the request.\n",
      "Transcript ID ENST00000399774 not found or there was an issue with the request.\n",
      "Transcript ID ENST00000404338 not found or there was an issue with the request.\n",
      "Transcript ID ENST00000406386 not found or there was an issue with the request.\n",
      "Transcript ID ENST00000406396 not found or there was an issue with the request.\n",
      "Transcript ID ENST00000412368 not found or there was an issue with the request.\n",
      "Transcript ID ENST00000422154 not found or there was an issue with the request.\n",
      "Transcript ID ENST00000423497 not found or there was an issue with the request.\n",
      "Transcript ID ENST00000424325 not found or there was an issue with the request.\n",
      "Transcript ID ENST00000433436 not found or there was an issue with the request.\n",
      "Transcript ID ENST00000435882 not found or there was an issue with the request.\n",
      "Transcript ID ENST00000437553 not found or there was an issue with the request.\n",
      "Transcript ID ENST00000438665 not found or there was an issue with the request.\n",
      "Transcript ID ENST00000449870 not found or there was an issue with the request.\n",
      "Transcript ID ENST00000449901 not found or there was an issue with the request.\n",
      "Transcript ID ENST00000452446 not found or there was an issue with the request.\n",
      "Transcript ID ENST00000454289 not found or there was an issue with the request.\n",
      "Transcript ID ENST00000464167 not found or there was an issue with the request.\n",
      "Transcript ID ENST00000481445 not found or there was an issue with the request.\n",
      "Transcript ID ENST00000491094 not found or there was an issue with the request.\n",
      "Transcript ID ENST00000500728 not found or there was an issue with the request.\n",
      "Transcript ID ENST00000512062 not found or there was an issue with the request.\n",
      "Transcript ID ENST00000523898 not found or there was an issue with the request.\n",
      "Transcript ID ENST00000523944 not found or there was an issue with the request.\n",
      "Transcript ID ENST00000530213 not found or there was an issue with the request.\n",
      "Transcript ID ENST00000532887 not found or there was an issue with the request.\n",
      "Transcript ID ENST00000537776 not found or there was an issue with the request.\n",
      "Transcript ID ENST00000538225 not found or there was an issue with the request.\n",
      "Transcript ID ENST00000540430 not found or there was an issue with the request.\n",
      "Transcript ID ENST00000540651 not found or there was an issue with the request.\n",
      "Transcript ID ENST00000541182 not found or there was an issue with the request.\n",
      "Transcript ID ENST00000545074 not found or there was an issue with the request.\n",
      "Transcript ID ENST00000545482 not found or there was an issue with the request.\n",
      "Transcript ID ENST00000558401 not found or there was an issue with the request.\n",
      "Transcript ID ENST00000564546 not found or there was an issue with the request.\n",
      "Transcript ID ENST00000564595 not found or there was an issue with the request.\n",
      "Transcript ID ENST00000602728 not found or there was an issue with the request.\n",
      "Transcript ID ENST00000602871 not found or there was an issue with the request.\n",
      "Transcript ID ENST00000604262 not found or there was an issue with the request.\n",
      "Transcript ID ENST00000606149 not found or there was an issue with the request.\n",
      "Transcript ID ENST00000611080 not found or there was an issue with the request.\n",
      "Transcript ID ENST00000611509 not found or there was an issue with the request.\n",
      "Transcript ID ENST00000611786 not found or there was an issue with the request.\n",
      "Transcript ID ENST00000613943 not found or there was an issue with the request.\n",
      "Transcript ID ENST00000614102 not found or there was an issue with the request.\n",
      "Transcript ID ENST00000614192 not found or there was an issue with the request.\n",
      "Transcript ID ENST00000614696 not found or there was an issue with the request.\n",
      "Transcript ID ENST00000614775 not found or there was an issue with the request.\n",
      "Transcript ID ENST00000617365 not found or there was an issue with the request.\n",
      "Transcript ID ENST00000618014 not found or there was an issue with the request.\n",
      "Transcript ID ENST00000619060 not found or there was an issue with the request.\n",
      "Transcript ID ENST00000619352 not found or there was an issue with the request.\n",
      "Transcript ID ENST00000619580 not found or there was an issue with the request.\n",
      "Transcript ID ENST00000620216 not found or there was an issue with the request.\n",
      "Transcript ID ENST00000620401 not found or there was an issue with the request.\n",
      "Transcript ID ENST00000621232 not found or there was an issue with the request.\n",
      "Transcript ID ENST00000621318 not found or there was an issue with the request.\n",
      "Transcript ID ENST00000621829 not found or there was an issue with the request.\n",
      "Transcript ID ENST00000622390 not found or there was an issue with the request.\n",
      "Transcript ID ENST00000623368 not found or there was an issue with the request.\n",
      "Transcript ID ENST00000626223 not found or there was an issue with the request.\n",
      "Transcript ID ENST00000627059 not found or there was an issue with the request.\n",
      "Transcript ID ENST00000628056 not found or there was an issue with the request.\n",
      "Transcript ID ENST00000630647 not found or there was an issue with the request.\n",
      "Transcript ID ENST00000639558 not found or there was an issue with the request.\n",
      "Transcript ID ENST00000639996 not found or there was an issue with the request.\n"
     ]
    }
   ],
   "source": [
    "transcript_ids = df['transcript_id'].unique()\n",
    "\n",
    "for id in transcript_ids:\n",
    "    mapping.update({id:find_transcript_length(id)})\n",
    "    \n",
    "    "
   ]
  },
  {
   "cell_type": "code",
   "execution_count": 41,
   "metadata": {},
   "outputs": [],
   "source": [
    "mappings = pd.DataFrame({'transcript_id' : list(mapping.keys()), 'length' : list(mapping.values())})"
   ]
  },
  {
   "cell_type": "code",
   "execution_count": 51,
   "metadata": {},
   "outputs": [
    {
     "data": {
      "text/html": [
       "<div>\n",
       "<style scoped>\n",
       "    .dataframe tbody tr th:only-of-type {\n",
       "        vertical-align: middle;\n",
       "    }\n",
       "\n",
       "    .dataframe tbody tr th {\n",
       "        vertical-align: top;\n",
       "    }\n",
       "\n",
       "    .dataframe thead th {\n",
       "        text-align: right;\n",
       "    }\n",
       "</style>\n",
       "<table border=\"1\" class=\"dataframe\">\n",
       "  <thead>\n",
       "    <tr style=\"text-align: right;\">\n",
       "      <th></th>\n",
       "      <th>transcript_id</th>\n",
       "      <th>length</th>\n",
       "    </tr>\n",
       "  </thead>\n",
       "  <tbody>\n",
       "    <tr>\n",
       "      <th>0</th>\n",
       "      <td>ENST00000000233</td>\n",
       "      <td>3290.0</td>\n",
       "    </tr>\n",
       "    <tr>\n",
       "      <th>1</th>\n",
       "      <td>ENST00000000412</td>\n",
       "      <td>9285.0</td>\n",
       "    </tr>\n",
       "    <tr>\n",
       "      <th>2</th>\n",
       "      <td>ENST00000001008</td>\n",
       "      <td>10454.0</td>\n",
       "    </tr>\n",
       "    <tr>\n",
       "      <th>3</th>\n",
       "      <td>ENST00000002165</td>\n",
       "      <td>16909.0</td>\n",
       "    </tr>\n",
       "    <tr>\n",
       "      <th>4</th>\n",
       "      <td>ENST00000002596</td>\n",
       "      <td>35745.0</td>\n",
       "    </tr>\n",
       "  </tbody>\n",
       "</table>\n",
       "</div>"
      ],
      "text/plain": [
       "     transcript_id   length\n",
       "0  ENST00000000233   3290.0\n",
       "1  ENST00000000412   9285.0\n",
       "2  ENST00000001008  10454.0\n",
       "3  ENST00000002165  16909.0\n",
       "4  ENST00000002596  35745.0"
      ]
     },
     "execution_count": 51,
     "metadata": {},
     "output_type": "execute_result"
    }
   ],
   "source": [
    "mappings.head()"
   ]
  },
  {
   "cell_type": "code",
   "execution_count": 16,
   "metadata": {},
   "outputs": [],
   "source": [
    "# for each pair of train-test, derive H0 and H1 train dfs and train 2 models\n",
    "# eval both models on the test set\n",
    "# total 6 models trained\n",
    "\n",
    "# access the sampled data from the arrays Downsampler.train/test_sampled "
   ]
  },
  {
   "cell_type": "code",
   "execution_count": 10,
   "metadata": {},
   "outputs": [
    {
     "name": "stdout",
     "output_type": "stream",
     "text": [
      "Transcript ID: ENST00000000233, Length: 3290 nucleotides\n"
     ]
    }
   ],
   "source": [
    "import requests\n",
    "\n",
    "# Define the transcript ID\n",
    "transcript_id = \"ENST00000000233\"  # Replace with your specific ID\n",
    "\n",
    "# Define the Ensembl REST API URL for the transcript\n",
    "url = f\"https://rest.ensembl.org/lookup/id/{transcript_id}\"\n",
    "\n",
    "# Make the API request\n",
    "response = requests.get(url, headers={\"Content-Type\": \"application/json\"})\n",
    "\n",
    "if response.status_code == 200:\n",
    "    data = response.json()\n",
    "    # Extract the transcript length from the response\n",
    "    transcript_length = data['end'] - data['start'] + 1\n",
    "    print(f\"Transcript ID: {transcript_id}, Length: {transcript_length} nucleotides\")\n",
    "else:\n",
    "    print(f\"Transcript ID {transcript_id} not found or there was an issue with the request.\")\n"
   ]
  }
 ],
 "metadata": {
  "kernelspec": {
   "display_name": "wp",
   "language": "python",
   "name": "python3"
  },
  "language_info": {
   "codemirror_mode": {
    "name": "ipython",
    "version": 3
   },
   "file_extension": ".py",
   "mimetype": "text/x-python",
   "name": "python",
   "nbconvert_exporter": "python",
   "pygments_lexer": "ipython3",
   "version": "3.9.0"
  },
  "orig_nbformat": 4
 },
 "nbformat": 4,
 "nbformat_minor": 2
}
