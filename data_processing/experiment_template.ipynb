{
 "cells": [
  {
   "cell_type": "code",
   "execution_count": 8,
   "metadata": {},
   "outputs": [],
   "source": [
    "import os\n",
    "import pandas as pd\n",
    "from pathlib import Path\n",
    "from DownSampler import DownSampler"
   ]
  },
  {
   "cell_type": "code",
   "execution_count": 12,
   "metadata": {},
   "outputs": [
    {
     "data": {
      "text/plain": [
       "WindowsPath('C:/Users/65829/OneDrive/Desktop/Y4S1/DSA4266/Project2/dsa4266_wooper/data')"
      ]
     },
     "execution_count": 12,
     "metadata": {},
     "output_type": "execute_result"
    }
   ],
   "source": [
    "path = Path(os.path.abspath(''))\n",
    "data_path = path.resolve().parents[0]/'data'\n",
    "data_path"
   ]
  },
  {
   "cell_type": "code",
   "execution_count": 13,
   "metadata": {},
   "outputs": [
    {
     "name": "stdout",
     "output_type": "stream",
     "text": [
      "Training data has 1520053 rows\n",
      "Testing data has 2376736 rows\n",
      "Training data has 1512053 rows\n",
      "Testing data has 2374736 rows\n",
      "Training data has 1504053 rows\n",
      "Testing data has 2372736 rows\n"
     ]
    }
   ],
   "source": [
    "Downsampler = DownSampler(data_path, 'balanced_train.pkl')\n",
    "Downsampler.sample_data(mode = 'n', sample_size = [8000,2000], num_samples = 3)\n"
   ]
  },
  {
   "cell_type": "code",
   "execution_count": 15,
   "metadata": {},
   "outputs": [
    {
     "data": {
      "text/plain": [
       "True"
      ]
     },
     "execution_count": 15,
     "metadata": {},
     "output_type": "execute_result"
    }
   ],
   "source": [
    "len(Downsampler.train_sampled) == len(Downsampler.test_sampled)"
   ]
  },
  {
   "cell_type": "code",
   "execution_count": 16,
   "metadata": {},
   "outputs": [],
   "source": [
    "# for each pair of train-test, derive H0 and H1 train dfs and train 2 models\n",
    "# eval both models on the test set\n",
    "# total 6 models trained\n",
    "\n",
    "# access the sampled data from the arrays Downsampler.train/test_sampled "
   ]
  },
  {
   "cell_type": "code",
   "execution_count": null,
   "metadata": {},
   "outputs": [],
   "source": []
  }
 ],
 "metadata": {
  "kernelspec": {
   "display_name": "wp",
   "language": "python",
   "name": "python3"
  },
  "language_info": {
   "codemirror_mode": {
    "name": "ipython",
    "version": 3
   },
   "file_extension": ".py",
   "mimetype": "text/x-python",
   "name": "python",
   "nbconvert_exporter": "python",
   "pygments_lexer": "ipython3",
   "version": "3.9.0"
  },
  "orig_nbformat": 4
 },
 "nbformat": 4,
 "nbformat_minor": 2
}
